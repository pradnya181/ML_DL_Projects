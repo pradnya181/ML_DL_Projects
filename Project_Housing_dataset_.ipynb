{
 "cells": [
  {
   "cell_type": "markdown",
   "id": "7b72f360",
   "metadata": {},
   "source": [
    "# **Problem Statement**"
   ]
  },
  {
   "cell_type": "raw",
   "id": "0096216a",
   "metadata": {},
   "source": [
    "Goal:-\n",
    "It is our job to predict the sales price for each house. For each Id in the test set,so we will predict the value of the SalePrice variable.(supervised machine learning problem )\n"
   ]
  },
  {
   "cell_type": "raw",
   "id": "b1617704",
   "metadata": {},
   "source": [
    "Multiple linear regression problem."
   ]
  },
  {
   "cell_type": "markdown",
   "id": "32ddc70b",
   "metadata": {},
   "source": [
    "# 1. Read dataset"
   ]
  },
  {
   "cell_type": "code",
   "execution_count": 1,
   "id": "6578e3ce",
   "metadata": {},
   "outputs": [],
   "source": [
    "import pandas as pd \n",
    "train = pd.read_csv(\"C:/Users/I A T Laptop L.L.C/Desktop/Project/training_set.csv\")\n",
    "test = pd.read_csv(\"C:/Users/I A T Laptop L.L.C/Desktop/Project/testing_set.csv\")"
   ]
  },
  {
   "cell_type": "code",
   "execution_count": 2,
   "id": "bcf0c52e",
   "metadata": {},
   "outputs": [],
   "source": [
    "from warnings import filterwarnings \n",
    "filterwarnings(\"ignore\")"
   ]
  },
  {
   "cell_type": "markdown",
   "id": "491d03ef",
   "metadata": {},
   "source": [
    "# 2.Data Previewing"
   ]
  },
  {
   "cell_type": "code",
   "execution_count": 3,
   "id": "40b511bc",
   "metadata": {},
   "outputs": [
    {
     "name": "stdout",
     "output_type": "stream",
     "text": [
      "<class 'pandas.core.frame.DataFrame'>\n",
      "RangeIndex: 1460 entries, 0 to 1459\n",
      "Data columns (total 81 columns):\n",
      " #   Column         Non-Null Count  Dtype  \n",
      "---  ------         --------------  -----  \n",
      " 0   Id             1460 non-null   int64  \n",
      " 1   MSSubClass     1460 non-null   int64  \n",
      " 2   MSZoning       1460 non-null   object \n",
      " 3   LotFrontage    1201 non-null   float64\n",
      " 4   LotArea        1460 non-null   int64  \n",
      " 5   Street         1460 non-null   object \n",
      " 6   Alley          91 non-null     object \n",
      " 7   LotShape       1460 non-null   object \n",
      " 8   LandContour    1460 non-null   object \n",
      " 9   Utilities      1460 non-null   object \n",
      " 10  LotConfig      1460 non-null   object \n",
      " 11  LandSlope      1460 non-null   object \n",
      " 12  Neighborhood   1460 non-null   object \n",
      " 13  Condition1     1460 non-null   object \n",
      " 14  Condition2     1460 non-null   object \n",
      " 15  BldgType       1460 non-null   object \n",
      " 16  HouseStyle     1460 non-null   object \n",
      " 17  OverallQual    1460 non-null   int64  \n",
      " 18  OverallCond    1460 non-null   int64  \n",
      " 19  YearBuilt      1460 non-null   int64  \n",
      " 20  YearRemodAdd   1460 non-null   int64  \n",
      " 21  RoofStyle      1460 non-null   object \n",
      " 22  RoofMatl       1460 non-null   object \n",
      " 23  Exterior1st    1460 non-null   object \n",
      " 24  Exterior2nd    1460 non-null   object \n",
      " 25  MasVnrType     1452 non-null   object \n",
      " 26  MasVnrArea     1452 non-null   float64\n",
      " 27  ExterQual      1460 non-null   object \n",
      " 28  ExterCond      1460 non-null   object \n",
      " 29  Foundation     1460 non-null   object \n",
      " 30  BsmtQual       1423 non-null   object \n",
      " 31  BsmtCond       1423 non-null   object \n",
      " 32  BsmtExposure   1422 non-null   object \n",
      " 33  BsmtFinType1   1423 non-null   object \n",
      " 34  BsmtFinSF1     1460 non-null   int64  \n",
      " 35  BsmtFinType2   1422 non-null   object \n",
      " 36  BsmtFinSF2     1460 non-null   int64  \n",
      " 37  BsmtUnfSF      1460 non-null   int64  \n",
      " 38  TotalBsmtSF    1460 non-null   int64  \n",
      " 39  Heating        1460 non-null   object \n",
      " 40  HeatingQC      1460 non-null   object \n",
      " 41  CentralAir     1460 non-null   object \n",
      " 42  Electrical     1459 non-null   object \n",
      " 43  1stFlrSF       1460 non-null   int64  \n",
      " 44  2ndFlrSF       1460 non-null   int64  \n",
      " 45  LowQualFinSF   1460 non-null   int64  \n",
      " 46  GrLivArea      1460 non-null   int64  \n",
      " 47  BsmtFullBath   1460 non-null   int64  \n",
      " 48  BsmtHalfBath   1460 non-null   int64  \n",
      " 49  FullBath       1460 non-null   int64  \n",
      " 50  HalfBath       1460 non-null   int64  \n",
      " 51  BedroomAbvGr   1460 non-null   int64  \n",
      " 52  KitchenAbvGr   1460 non-null   int64  \n",
      " 53  KitchenQual    1460 non-null   object \n",
      " 54  TotRmsAbvGrd   1460 non-null   int64  \n",
      " 55  Functional     1460 non-null   object \n",
      " 56  Fireplaces     1460 non-null   int64  \n",
      " 57  FireplaceQu    770 non-null    object \n",
      " 58  GarageType     1379 non-null   object \n",
      " 59  GarageYrBlt    1379 non-null   float64\n",
      " 60  GarageFinish   1379 non-null   object \n",
      " 61  GarageCars     1460 non-null   int64  \n",
      " 62  GarageArea     1460 non-null   int64  \n",
      " 63  GarageQual     1379 non-null   object \n",
      " 64  GarageCond     1379 non-null   object \n",
      " 65  PavedDrive     1460 non-null   object \n",
      " 66  WoodDeckSF     1460 non-null   int64  \n",
      " 67  OpenPorchSF    1460 non-null   int64  \n",
      " 68  EnclosedPorch  1460 non-null   int64  \n",
      " 69  3SsnPorch      1460 non-null   int64  \n",
      " 70  ScreenPorch    1460 non-null   int64  \n",
      " 71  PoolArea       1460 non-null   int64  \n",
      " 72  PoolQC         7 non-null      object \n",
      " 73  Fence          281 non-null    object \n",
      " 74  MiscFeature    54 non-null     object \n",
      " 75  MiscVal        1460 non-null   int64  \n",
      " 76  MoSold         1460 non-null   int64  \n",
      " 77  YrSold         1460 non-null   int64  \n",
      " 78  SaleType       1460 non-null   object \n",
      " 79  SaleCondition  1460 non-null   object \n",
      " 80  SalePrice      1460 non-null   int64  \n",
      "dtypes: float64(3), int64(35), object(43)\n",
      "memory usage: 924.0+ KB\n"
     ]
    }
   ],
   "source": [
    "train.info()"
   ]
  },
  {
   "cell_type": "code",
   "execution_count": 4,
   "id": "c67277c7",
   "metadata": {},
   "outputs": [
    {
     "data": {
      "text/html": [
       "<div>\n",
       "<style scoped>\n",
       "    .dataframe tbody tr th:only-of-type {\n",
       "        vertical-align: middle;\n",
       "    }\n",
       "\n",
       "    .dataframe tbody tr th {\n",
       "        vertical-align: top;\n",
       "    }\n",
       "\n",
       "    .dataframe thead th {\n",
       "        text-align: right;\n",
       "    }\n",
       "</style>\n",
       "<table border=\"1\" class=\"dataframe\">\n",
       "  <thead>\n",
       "    <tr style=\"text-align: right;\">\n",
       "      <th></th>\n",
       "      <th>Id</th>\n",
       "      <th>MSSubClass</th>\n",
       "      <th>MSZoning</th>\n",
       "      <th>LotFrontage</th>\n",
       "      <th>LotArea</th>\n",
       "      <th>Street</th>\n",
       "      <th>Alley</th>\n",
       "      <th>LotShape</th>\n",
       "      <th>LandContour</th>\n",
       "      <th>Utilities</th>\n",
       "      <th>...</th>\n",
       "      <th>PoolArea</th>\n",
       "      <th>PoolQC</th>\n",
       "      <th>Fence</th>\n",
       "      <th>MiscFeature</th>\n",
       "      <th>MiscVal</th>\n",
       "      <th>MoSold</th>\n",
       "      <th>YrSold</th>\n",
       "      <th>SaleType</th>\n",
       "      <th>SaleCondition</th>\n",
       "      <th>SalePrice</th>\n",
       "    </tr>\n",
       "  </thead>\n",
       "  <tbody>\n",
       "    <tr>\n",
       "      <th>0</th>\n",
       "      <td>1</td>\n",
       "      <td>60</td>\n",
       "      <td>RL</td>\n",
       "      <td>65.0</td>\n",
       "      <td>8450</td>\n",
       "      <td>Pave</td>\n",
       "      <td>NaN</td>\n",
       "      <td>Reg</td>\n",
       "      <td>Lvl</td>\n",
       "      <td>AllPub</td>\n",
       "      <td>...</td>\n",
       "      <td>0</td>\n",
       "      <td>NaN</td>\n",
       "      <td>NaN</td>\n",
       "      <td>NaN</td>\n",
       "      <td>0</td>\n",
       "      <td>2</td>\n",
       "      <td>2008</td>\n",
       "      <td>WD</td>\n",
       "      <td>Normal</td>\n",
       "      <td>208500</td>\n",
       "    </tr>\n",
       "    <tr>\n",
       "      <th>1</th>\n",
       "      <td>2</td>\n",
       "      <td>20</td>\n",
       "      <td>RL</td>\n",
       "      <td>80.0</td>\n",
       "      <td>9600</td>\n",
       "      <td>Pave</td>\n",
       "      <td>NaN</td>\n",
       "      <td>Reg</td>\n",
       "      <td>Lvl</td>\n",
       "      <td>AllPub</td>\n",
       "      <td>...</td>\n",
       "      <td>0</td>\n",
       "      <td>NaN</td>\n",
       "      <td>NaN</td>\n",
       "      <td>NaN</td>\n",
       "      <td>0</td>\n",
       "      <td>5</td>\n",
       "      <td>2007</td>\n",
       "      <td>WD</td>\n",
       "      <td>Normal</td>\n",
       "      <td>181500</td>\n",
       "    </tr>\n",
       "    <tr>\n",
       "      <th>2</th>\n",
       "      <td>3</td>\n",
       "      <td>60</td>\n",
       "      <td>RL</td>\n",
       "      <td>68.0</td>\n",
       "      <td>11250</td>\n",
       "      <td>Pave</td>\n",
       "      <td>NaN</td>\n",
       "      <td>IR1</td>\n",
       "      <td>Lvl</td>\n",
       "      <td>AllPub</td>\n",
       "      <td>...</td>\n",
       "      <td>0</td>\n",
       "      <td>NaN</td>\n",
       "      <td>NaN</td>\n",
       "      <td>NaN</td>\n",
       "      <td>0</td>\n",
       "      <td>9</td>\n",
       "      <td>2008</td>\n",
       "      <td>WD</td>\n",
       "      <td>Normal</td>\n",
       "      <td>223500</td>\n",
       "    </tr>\n",
       "    <tr>\n",
       "      <th>3</th>\n",
       "      <td>4</td>\n",
       "      <td>70</td>\n",
       "      <td>RL</td>\n",
       "      <td>60.0</td>\n",
       "      <td>9550</td>\n",
       "      <td>Pave</td>\n",
       "      <td>NaN</td>\n",
       "      <td>IR1</td>\n",
       "      <td>Lvl</td>\n",
       "      <td>AllPub</td>\n",
       "      <td>...</td>\n",
       "      <td>0</td>\n",
       "      <td>NaN</td>\n",
       "      <td>NaN</td>\n",
       "      <td>NaN</td>\n",
       "      <td>0</td>\n",
       "      <td>2</td>\n",
       "      <td>2006</td>\n",
       "      <td>WD</td>\n",
       "      <td>Abnorml</td>\n",
       "      <td>140000</td>\n",
       "    </tr>\n",
       "    <tr>\n",
       "      <th>4</th>\n",
       "      <td>5</td>\n",
       "      <td>60</td>\n",
       "      <td>RL</td>\n",
       "      <td>84.0</td>\n",
       "      <td>14260</td>\n",
       "      <td>Pave</td>\n",
       "      <td>NaN</td>\n",
       "      <td>IR1</td>\n",
       "      <td>Lvl</td>\n",
       "      <td>AllPub</td>\n",
       "      <td>...</td>\n",
       "      <td>0</td>\n",
       "      <td>NaN</td>\n",
       "      <td>NaN</td>\n",
       "      <td>NaN</td>\n",
       "      <td>0</td>\n",
       "      <td>12</td>\n",
       "      <td>2008</td>\n",
       "      <td>WD</td>\n",
       "      <td>Normal</td>\n",
       "      <td>250000</td>\n",
       "    </tr>\n",
       "  </tbody>\n",
       "</table>\n",
       "<p>5 rows × 81 columns</p>\n",
       "</div>"
      ],
      "text/plain": [
       "   Id  MSSubClass MSZoning  LotFrontage  LotArea Street Alley LotShape  \\\n",
       "0   1          60       RL         65.0     8450   Pave   NaN      Reg   \n",
       "1   2          20       RL         80.0     9600   Pave   NaN      Reg   \n",
       "2   3          60       RL         68.0    11250   Pave   NaN      IR1   \n",
       "3   4          70       RL         60.0     9550   Pave   NaN      IR1   \n",
       "4   5          60       RL         84.0    14260   Pave   NaN      IR1   \n",
       "\n",
       "  LandContour Utilities  ... PoolArea PoolQC Fence MiscFeature MiscVal MoSold  \\\n",
       "0         Lvl    AllPub  ...        0    NaN   NaN         NaN       0      2   \n",
       "1         Lvl    AllPub  ...        0    NaN   NaN         NaN       0      5   \n",
       "2         Lvl    AllPub  ...        0    NaN   NaN         NaN       0      9   \n",
       "3         Lvl    AllPub  ...        0    NaN   NaN         NaN       0      2   \n",
       "4         Lvl    AllPub  ...        0    NaN   NaN         NaN       0     12   \n",
       "\n",
       "  YrSold  SaleType  SaleCondition  SalePrice  \n",
       "0   2008        WD         Normal     208500  \n",
       "1   2007        WD         Normal     181500  \n",
       "2   2008        WD         Normal     223500  \n",
       "3   2006        WD        Abnorml     140000  \n",
       "4   2008        WD         Normal     250000  \n",
       "\n",
       "[5 rows x 81 columns]"
      ]
     },
     "execution_count": 4,
     "metadata": {},
     "output_type": "execute_result"
    }
   ],
   "source": [
    "train.head()"
   ]
  },
  {
   "cell_type": "code",
   "execution_count": 5,
   "id": "f4a55cec",
   "metadata": {},
   "outputs": [
    {
     "data": {
      "text/plain": [
       "(1460, 81)"
      ]
     },
     "execution_count": 5,
     "metadata": {},
     "output_type": "execute_result"
    }
   ],
   "source": [
    "train.shape"
   ]
  },
  {
   "cell_type": "code",
   "execution_count": 6,
   "id": "98a83641",
   "metadata": {},
   "outputs": [],
   "source": [
    "#train.isna().sum() "
   ]
  },
  {
   "cell_type": "code",
   "execution_count": 7,
   "id": "d4607cca",
   "metadata": {},
   "outputs": [
    {
     "data": {
      "text/plain": [
       "1460"
      ]
     },
     "execution_count": 7,
     "metadata": {},
     "output_type": "execute_result"
    }
   ],
   "source": [
    "len(train.Id.unique()) "
   ]
  },
  {
   "cell_type": "markdown",
   "id": "d80c7896",
   "metadata": {},
   "source": [
    "# 3.Treatment on NA values in columns"
   ]
  },
  {
   "cell_type": "code",
   "execution_count": 8,
   "id": "f258aa0a",
   "metadata": {},
   "outputs": [],
   "source": [
    "train.Alley=train.Alley.fillna(\"NoAlleyAccess\")\n",
    "train.BsmtQual=train.BsmtQual.fillna(\"NoBasement\")\n",
    "train.BsmtCond=train.BsmtCond.fillna(\"NoBasement\")\n",
    "train.BsmtExposure=train.BsmtExposure.fillna(\"NoBasement\")\n",
    "train.BsmtFinType1=train.BsmtFinType1.fillna(\"NoBasement\")\n",
    "train.BsmtFinType2=train.BsmtFinType2.fillna(\"NoBasement\")\n",
    "train.FireplaceQu=train.FireplaceQu.fillna(\"NoFireplace\")\n",
    "train.GarageType =train.GarageType.fillna(\"NoGarage\")\n",
    "train.GarageFinish =train.GarageFinish.fillna(\"NoGarage\")\n",
    "train.GarageQual = train.GarageQual.fillna(\"No Garage\")\n",
    "train.GarageCond =train.GarageCond.fillna(\"NoGarage\")\n",
    "train.PoolQC =train.PoolQC.fillna(\"NoPool\")\n",
    "train.Fence =train.Fence.fillna(\"NoFence\")\n",
    "train.MiscFeature = train.MiscFeature.fillna(\"None\")"
   ]
  },
  {
   "cell_type": "markdown",
   "id": "2a17633c",
   "metadata": {},
   "source": [
    "# Converting con columns to cat"
   ]
  },
  {
   "cell_type": "code",
   "execution_count": 9,
   "id": "73b6ffc0",
   "metadata": {},
   "outputs": [],
   "source": [
    "train.MSSubClass.replace({20:\"1-STORY 1946 & NEWER ALL STYLES\",\n",
    "                     30:\"1-STORY 1945 & OLDER\",\n",
    "                     40:\"1-STORY W/FINISHED ATTIC ALL AGES\",\n",
    "                     45:\"1-1/2 STORY - UNFINISHED ALL AGES\",\n",
    "                     50:\"1-1/2 STORY FINISHED ALL AGES\",\n",
    "                     60:\"2-STORY 1946 & NEWER\",\n",
    "                     70:\"2-STORY 1945 & OLDER\",\n",
    "                     75:\"2-1/2 STORY ALL AGES\",\n",
    "                     80 : \"SPLIT OR MULTI-LEVEL\",\n",
    "                     85 : \"SPLIT FOYER\",\n",
    "                     90 : \"DUPLEX - ALL STYLES AND AGES\",\n",
    "                     120 : \"1-STORY PUD (Planned Unit Development) - 1946 & NEWER\",\n",
    "                     150 : \"1-1/2 STORY PUD - ALL AGES\",\n",
    "                     160 : \"2-STORY PUD - 1946 & NEWER\",\n",
    "                     180 : \"PUD - MULTILEVEL - INCL SPLIT LEV/FOYER\",\n",
    "                     190 : \"2 FAMILY CONVERSION - ALL STYLES AND AGES\"}, inplace=True)"
   ]
  },
  {
   "cell_type": "code",
   "execution_count": 10,
   "id": "85b530d6",
   "metadata": {},
   "outputs": [],
   "source": [
    "train.OverallQual.replace({10 : \"Very Excellent\",\n",
    "                       9 : \"Excellent\",\n",
    "                       8 : \"Very Good\",\n",
    "                       7 : \"Good\",\n",
    "                       6 : \"Above Average\",\n",
    "                       5 : \"Average\",\n",
    "                       4 : \"Below Average\",\n",
    "                       3 : \"Fair\",\n",
    "                       2 : \"Poor\",\n",
    "                       1 : \"Very Poor\"}, inplace=True)"
   ]
  },
  {
   "cell_type": "code",
   "execution_count": 11,
   "id": "9d8be444",
   "metadata": {},
   "outputs": [],
   "source": [
    "train.OverallCond.replace({10 : \"Very Excellent\",\n",
    "                       9 : \"Excellent\",\n",
    "                       8 : \"Very Good\",\n",
    "                       7 : \"Good\",\n",
    "                       6 : \"Above Average\",\n",
    "                       5 : \"Average\",\n",
    "                       4 : \"Below Average\",\n",
    "                       3 : \"Fair\",\n",
    "                       2 : \"Poor\",\n",
    "                       1 : \"Very Poor\"}, inplace=True)"
   ]
  },
  {
   "cell_type": "code",
   "execution_count": 12,
   "id": "c9525ee2",
   "metadata": {},
   "outputs": [
    {
     "data": {
      "text/html": [
       "<div>\n",
       "<style scoped>\n",
       "    .dataframe tbody tr th:only-of-type {\n",
       "        vertical-align: middle;\n",
       "    }\n",
       "\n",
       "    .dataframe tbody tr th {\n",
       "        vertical-align: top;\n",
       "    }\n",
       "\n",
       "    .dataframe thead th {\n",
       "        text-align: right;\n",
       "    }\n",
       "</style>\n",
       "<table border=\"1\" class=\"dataframe\">\n",
       "  <thead>\n",
       "    <tr style=\"text-align: right;\">\n",
       "      <th></th>\n",
       "      <th>Id</th>\n",
       "      <th>MSSubClass</th>\n",
       "      <th>MSZoning</th>\n",
       "      <th>LotFrontage</th>\n",
       "      <th>LotArea</th>\n",
       "      <th>Street</th>\n",
       "      <th>Alley</th>\n",
       "      <th>LotShape</th>\n",
       "      <th>LandContour</th>\n",
       "      <th>Utilities</th>\n",
       "      <th>...</th>\n",
       "      <th>PoolArea</th>\n",
       "      <th>PoolQC</th>\n",
       "      <th>Fence</th>\n",
       "      <th>MiscFeature</th>\n",
       "      <th>MiscVal</th>\n",
       "      <th>MoSold</th>\n",
       "      <th>YrSold</th>\n",
       "      <th>SaleType</th>\n",
       "      <th>SaleCondition</th>\n",
       "      <th>SalePrice</th>\n",
       "    </tr>\n",
       "  </thead>\n",
       "  <tbody>\n",
       "    <tr>\n",
       "      <th>0</th>\n",
       "      <td>1</td>\n",
       "      <td>2-STORY 1946 &amp; NEWER</td>\n",
       "      <td>RL</td>\n",
       "      <td>65.0</td>\n",
       "      <td>8450</td>\n",
       "      <td>Pave</td>\n",
       "      <td>NoAlleyAccess</td>\n",
       "      <td>Reg</td>\n",
       "      <td>Lvl</td>\n",
       "      <td>AllPub</td>\n",
       "      <td>...</td>\n",
       "      <td>0</td>\n",
       "      <td>NoPool</td>\n",
       "      <td>NoFence</td>\n",
       "      <td>None</td>\n",
       "      <td>0</td>\n",
       "      <td>2</td>\n",
       "      <td>2008</td>\n",
       "      <td>WD</td>\n",
       "      <td>Normal</td>\n",
       "      <td>208500</td>\n",
       "    </tr>\n",
       "    <tr>\n",
       "      <th>1</th>\n",
       "      <td>2</td>\n",
       "      <td>1-STORY 1946 &amp; NEWER ALL STYLES</td>\n",
       "      <td>RL</td>\n",
       "      <td>80.0</td>\n",
       "      <td>9600</td>\n",
       "      <td>Pave</td>\n",
       "      <td>NoAlleyAccess</td>\n",
       "      <td>Reg</td>\n",
       "      <td>Lvl</td>\n",
       "      <td>AllPub</td>\n",
       "      <td>...</td>\n",
       "      <td>0</td>\n",
       "      <td>NoPool</td>\n",
       "      <td>NoFence</td>\n",
       "      <td>None</td>\n",
       "      <td>0</td>\n",
       "      <td>5</td>\n",
       "      <td>2007</td>\n",
       "      <td>WD</td>\n",
       "      <td>Normal</td>\n",
       "      <td>181500</td>\n",
       "    </tr>\n",
       "    <tr>\n",
       "      <th>2</th>\n",
       "      <td>3</td>\n",
       "      <td>2-STORY 1946 &amp; NEWER</td>\n",
       "      <td>RL</td>\n",
       "      <td>68.0</td>\n",
       "      <td>11250</td>\n",
       "      <td>Pave</td>\n",
       "      <td>NoAlleyAccess</td>\n",
       "      <td>IR1</td>\n",
       "      <td>Lvl</td>\n",
       "      <td>AllPub</td>\n",
       "      <td>...</td>\n",
       "      <td>0</td>\n",
       "      <td>NoPool</td>\n",
       "      <td>NoFence</td>\n",
       "      <td>None</td>\n",
       "      <td>0</td>\n",
       "      <td>9</td>\n",
       "      <td>2008</td>\n",
       "      <td>WD</td>\n",
       "      <td>Normal</td>\n",
       "      <td>223500</td>\n",
       "    </tr>\n",
       "    <tr>\n",
       "      <th>3</th>\n",
       "      <td>4</td>\n",
       "      <td>2-STORY 1945 &amp; OLDER</td>\n",
       "      <td>RL</td>\n",
       "      <td>60.0</td>\n",
       "      <td>9550</td>\n",
       "      <td>Pave</td>\n",
       "      <td>NoAlleyAccess</td>\n",
       "      <td>IR1</td>\n",
       "      <td>Lvl</td>\n",
       "      <td>AllPub</td>\n",
       "      <td>...</td>\n",
       "      <td>0</td>\n",
       "      <td>NoPool</td>\n",
       "      <td>NoFence</td>\n",
       "      <td>None</td>\n",
       "      <td>0</td>\n",
       "      <td>2</td>\n",
       "      <td>2006</td>\n",
       "      <td>WD</td>\n",
       "      <td>Abnorml</td>\n",
       "      <td>140000</td>\n",
       "    </tr>\n",
       "    <tr>\n",
       "      <th>4</th>\n",
       "      <td>5</td>\n",
       "      <td>2-STORY 1946 &amp; NEWER</td>\n",
       "      <td>RL</td>\n",
       "      <td>84.0</td>\n",
       "      <td>14260</td>\n",
       "      <td>Pave</td>\n",
       "      <td>NoAlleyAccess</td>\n",
       "      <td>IR1</td>\n",
       "      <td>Lvl</td>\n",
       "      <td>AllPub</td>\n",
       "      <td>...</td>\n",
       "      <td>0</td>\n",
       "      <td>NoPool</td>\n",
       "      <td>NoFence</td>\n",
       "      <td>None</td>\n",
       "      <td>0</td>\n",
       "      <td>12</td>\n",
       "      <td>2008</td>\n",
       "      <td>WD</td>\n",
       "      <td>Normal</td>\n",
       "      <td>250000</td>\n",
       "    </tr>\n",
       "  </tbody>\n",
       "</table>\n",
       "<p>5 rows × 81 columns</p>\n",
       "</div>"
      ],
      "text/plain": [
       "   Id                       MSSubClass MSZoning  LotFrontage  LotArea Street  \\\n",
       "0   1             2-STORY 1946 & NEWER       RL         65.0     8450   Pave   \n",
       "1   2  1-STORY 1946 & NEWER ALL STYLES       RL         80.0     9600   Pave   \n",
       "2   3             2-STORY 1946 & NEWER       RL         68.0    11250   Pave   \n",
       "3   4             2-STORY 1945 & OLDER       RL         60.0     9550   Pave   \n",
       "4   5             2-STORY 1946 & NEWER       RL         84.0    14260   Pave   \n",
       "\n",
       "           Alley LotShape LandContour Utilities  ... PoolArea  PoolQC  \\\n",
       "0  NoAlleyAccess      Reg         Lvl    AllPub  ...        0  NoPool   \n",
       "1  NoAlleyAccess      Reg         Lvl    AllPub  ...        0  NoPool   \n",
       "2  NoAlleyAccess      IR1         Lvl    AllPub  ...        0  NoPool   \n",
       "3  NoAlleyAccess      IR1         Lvl    AllPub  ...        0  NoPool   \n",
       "4  NoAlleyAccess      IR1         Lvl    AllPub  ...        0  NoPool   \n",
       "\n",
       "     Fence MiscFeature MiscVal MoSold YrSold SaleType SaleCondition  SalePrice  \n",
       "0  NoFence        None       0      2   2008       WD        Normal     208500  \n",
       "1  NoFence        None       0      5   2007       WD        Normal     181500  \n",
       "2  NoFence        None       0      9   2008       WD        Normal     223500  \n",
       "3  NoFence        None       0      2   2006       WD       Abnorml     140000  \n",
       "4  NoFence        None       0     12   2008       WD        Normal     250000  \n",
       "\n",
       "[5 rows x 81 columns]"
      ]
     },
     "execution_count": 12,
     "metadata": {},
     "output_type": "execute_result"
    }
   ],
   "source": [
    "train.head(5)"
   ]
  },
  {
   "cell_type": "code",
   "execution_count": 13,
   "id": "8ce339ce",
   "metadata": {},
   "outputs": [
    {
     "data": {
      "text/plain": [
       "Id                 0\n",
       "MSSubClass         0\n",
       "MSZoning           0\n",
       "LotFrontage      259\n",
       "LotArea            0\n",
       "                ... \n",
       "MoSold             0\n",
       "YrSold             0\n",
       "SaleType           0\n",
       "SaleCondition      0\n",
       "SalePrice          0\n",
       "Length: 81, dtype: int64"
      ]
     },
     "execution_count": 13,
     "metadata": {},
     "output_type": "execute_result"
    }
   ],
   "source": [
    "train.isna().sum()"
   ]
  },
  {
   "cell_type": "markdown",
   "id": "79d55dda",
   "metadata": {},
   "source": [
    "# 4.Missing Data treatment"
   ]
  },
  {
   "cell_type": "code",
   "execution_count": 14,
   "id": "6855e8f9",
   "metadata": {},
   "outputs": [],
   "source": [
    "#Q =pd.DataFrame(train.isna().sum(),columns= ['ct'])\n",
    "#missing_cols=Q[Q.ct>0].index\n",
    "#missing_cols\n",
    "#missing_cols=list(['LotFrontage', 'Alley', 'MasVnrType', 'MasVnrArea', 'BsmtQual',BsmtCond', 'BsmtExposure', 'BsmtFinType1', 'BsmtFinType2','Electrical', 'FireplaceQu', 'GarageType', 'GarageYrBlt','GarageFinish', 'GarageQual', 'GarageCond', 'PoolQC', 'Fence','MiscFeature'])"
   ]
  },
  {
   "cell_type": "code",
   "execution_count": 15,
   "id": "0fc85ea2",
   "metadata": {},
   "outputs": [],
   "source": [
    "cat =[]\n",
    "con =[]\n",
    "\n",
    "for i in train.columns:\n",
    "    if(train[i].dtypes == \"object\"):\n",
    "        cat.append(i)\n",
    "        x = train[i].mode()[0]\n",
    "        train[i]=train[i].fillna(x)\n",
    "    else:\n",
    "        con.append(i)\n",
    "        x = train[i].mean()\n",
    "        train[i]=train[i].fillna(x)"
   ]
  },
  {
   "cell_type": "code",
   "execution_count": 16,
   "id": "3d7d6d52",
   "metadata": {},
   "outputs": [],
   "source": [
    "#con"
   ]
  },
  {
   "cell_type": "code",
   "execution_count": 17,
   "id": "3381b74a",
   "metadata": {},
   "outputs": [],
   "source": [
    "#cat"
   ]
  },
  {
   "cell_type": "code",
   "execution_count": 18,
   "id": "3c1d82e7",
   "metadata": {},
   "outputs": [
    {
     "data": {
      "text/plain": [
       "Id               0\n",
       "MSSubClass       0\n",
       "MSZoning         0\n",
       "LotFrontage      0\n",
       "LotArea          0\n",
       "                ..\n",
       "MoSold           0\n",
       "YrSold           0\n",
       "SaleType         0\n",
       "SaleCondition    0\n",
       "SalePrice        0\n",
       "Length: 81, dtype: int64"
      ]
     },
     "execution_count": 18,
     "metadata": {},
     "output_type": "execute_result"
    }
   ],
   "source": [
    "train.isna().sum()"
   ]
  },
  {
   "cell_type": "raw",
   "id": "9b187918",
   "metadata": {},
   "source": [
    "Missing data got treated!"
   ]
  },
  {
   "cell_type": "markdown",
   "id": "1a1e6666",
   "metadata": {},
   "source": [
    "# 5.Define X(x1,x2,....Xn,i.e.predictors) & Y (value to be predicted/target variable) & drop unnecessary cols"
   ]
  },
  {
   "cell_type": "code",
   "execution_count": 19,
   "id": "f7241c5b",
   "metadata": {},
   "outputs": [],
   "source": [
    "X = train.drop(labels=[\"Id\",\"SalePrice\"],axis=1)\n",
    "Y = train[['SalePrice']]"
   ]
  },
  {
   "cell_type": "code",
   "execution_count": 20,
   "id": "abf16502",
   "metadata": {},
   "outputs": [
    {
     "data": {
      "text/plain": [
       "((1460, 79), (1460, 1))"
      ]
     },
     "execution_count": 20,
     "metadata": {},
     "output_type": "execute_result"
    }
   ],
   "source": [
    "X.shape,Y.shape"
   ]
  },
  {
   "cell_type": "markdown",
   "id": "6f7865d8",
   "metadata": {},
   "source": [
    "# 6. Differentiate cat & con variables in X"
   ]
  },
  {
   "cell_type": "code",
   "execution_count": 21,
   "id": "c31d9ae3",
   "metadata": {},
   "outputs": [],
   "source": [
    "cat = []\n",
    "con = []\n",
    "for i in X.columns:\n",
    "    if(X[i].dtypes == \"object\"):\n",
    "        cat.append(i)\n",
    "    else:\n",
    "        con.append(i)"
   ]
  },
  {
   "cell_type": "code",
   "execution_count": 22,
   "id": "0061e683",
   "metadata": {},
   "outputs": [],
   "source": [
    "#cat"
   ]
  },
  {
   "cell_type": "code",
   "execution_count": 23,
   "id": "ca334a09",
   "metadata": {},
   "outputs": [],
   "source": [
    "#con"
   ]
  },
  {
   "cell_type": "markdown",
   "id": "214746ef",
   "metadata": {},
   "source": [
    "# 7.EDA"
   ]
  },
  {
   "cell_type": "markdown",
   "id": "102c39a3",
   "metadata": {},
   "source": [
    "# (i) Check correlation with col to be predicted"
   ]
  },
  {
   "cell_type": "code",
   "execution_count": 24,
   "id": "c572999b",
   "metadata": {},
   "outputs": [],
   "source": [
    "train.corr()\n",
    "P = train.corr()[\"SalePrice\"].sort_values().index[0:13]\n",
    "P = train.corr()[[\"SalePrice\"]].sort_values(by=[\"SalePrice\"])"
   ]
  },
  {
   "cell_type": "code",
   "execution_count": 25,
   "id": "ec9f1cad",
   "metadata": {},
   "outputs": [
    {
     "data": {
      "text/plain": [
       "Index(['KitchenAbvGr', 'EnclosedPorch', 'YrSold', 'LowQualFinSF', 'Id',\n",
       "       'MiscVal', 'BsmtHalfBath', 'BsmtFinSF2', '3SsnPorch', 'MoSold',\n",
       "       'PoolArea', 'ScreenPorch', 'BedroomAbvGr'],\n",
       "      dtype='object')"
      ]
     },
     "execution_count": 25,
     "metadata": {},
     "output_type": "execute_result"
    }
   ],
   "source": [
    "P.index[0:13] # minimum correlation columns(con)"
   ]
  },
  {
   "cell_type": "code",
   "execution_count": 26,
   "id": "baea786a",
   "metadata": {},
   "outputs": [],
   "source": [
    "less_imp_cols=['KitchenAbvGr', 'EnclosedPorch', 'YrSold', 'LowQualFinSF', 'Id',\n",
    "       'MiscVal', 'BsmtHalfBath', 'BsmtFinSF2', '3SsnPorch', 'MoSold',\n",
    "       'PoolArea', 'ScreenPorch', 'BedroomAbvGr']"
   ]
  },
  {
   "cell_type": "markdown",
   "id": "d0d20808",
   "metadata": {},
   "source": [
    "# (ii) Dropping unneccesary cat cols by using ANOVA"
   ]
  },
  {
   "cell_type": "code",
   "execution_count": 27,
   "id": "426ed237",
   "metadata": {},
   "outputs": [
    {
     "name": "stdout",
     "output_type": "stream",
     "text": [
      "SalePrice ~ MSSubClass --->   0.0\n",
      "SalePrice ~ MSZoning --->   0.0\n",
      "SalePrice ~ Street --->   0.117\n",
      "SalePrice ~ Alley --->   0.0\n",
      "SalePrice ~ LotShape --->   0.0\n",
      "SalePrice ~ LandContour --->   0.0\n",
      "SalePrice ~ Utilities --->   0.5847\n",
      "SalePrice ~ LotConfig --->   0.0\n",
      "SalePrice ~ LandSlope --->   0.1414\n",
      "SalePrice ~ Neighborhood --->   0.0\n",
      "SalePrice ~ Condition1 --->   0.0\n",
      "SalePrice ~ Condition2 --->   0.0434\n",
      "SalePrice ~ BldgType --->   0.0\n",
      "SalePrice ~ HouseStyle --->   0.0\n",
      "SalePrice ~ OverallQual --->   0.0\n",
      "SalePrice ~ OverallCond --->   0.0\n",
      "SalePrice ~ RoofStyle --->   0.0\n",
      "SalePrice ~ RoofMatl --->   0.0\n",
      "SalePrice ~ Exterior1st --->   0.0\n",
      "SalePrice ~ Exterior2nd --->   0.0\n",
      "SalePrice ~ MasVnrType --->   0.0\n",
      "SalePrice ~ ExterQual --->   0.0\n",
      "SalePrice ~ ExterCond --->   0.0\n",
      "SalePrice ~ Foundation --->   0.0\n",
      "SalePrice ~ BsmtQual --->   0.0\n",
      "SalePrice ~ BsmtCond --->   0.0\n",
      "SalePrice ~ BsmtExposure --->   0.0\n",
      "SalePrice ~ BsmtFinType1 --->   0.0\n",
      "SalePrice ~ BsmtFinType2 --->   0.0\n",
      "SalePrice ~ Heating --->   0.0008\n",
      "SalePrice ~ HeatingQC --->   0.0\n",
      "SalePrice ~ CentralAir --->   0.0\n",
      "SalePrice ~ Electrical --->   0.0\n",
      "SalePrice ~ KitchenQual --->   0.0\n",
      "SalePrice ~ Functional --->   0.0005\n",
      "SalePrice ~ FireplaceQu --->   0.0\n",
      "SalePrice ~ GarageType --->   0.0\n",
      "SalePrice ~ GarageFinish --->   0.0\n",
      "SalePrice ~ GarageQual --->   0.0\n",
      "SalePrice ~ GarageCond --->   0.0\n",
      "SalePrice ~ PavedDrive --->   0.0\n",
      "SalePrice ~ PoolQC --->   0.0\n",
      "SalePrice ~ Fence --->   0.0\n",
      "SalePrice ~ MiscFeature --->   0.035\n",
      "SalePrice ~ SaleType --->   0.0\n",
      "SalePrice ~ SaleCondition --->   0.0\n"
     ]
    }
   ],
   "source": [
    "for i in cat:\n",
    "    import pandas as pd\n",
    "    from statsmodels.formula.api import ols\n",
    "    rel = \"SalePrice ~ \" + str(i)\n",
    "    model = ols(rel,train).fit()\n",
    "    from statsmodels.stats.anova import anova_lm\n",
    "    anova_results = anova_lm(model)\n",
    "    print(rel,\"--->  \",round(anova_results.iloc[0,4],4))"
   ]
  },
  {
   "cell_type": "code",
   "execution_count": 28,
   "id": "e74ae662",
   "metadata": {},
   "outputs": [],
   "source": [
    "cat.remove(\"Street\")\n",
    "cat.remove(\"Utilities\")\n",
    "cat.remove(\"LandSlope\")"
   ]
  },
  {
   "cell_type": "code",
   "execution_count": 29,
   "id": "215b441b",
   "metadata": {},
   "outputs": [],
   "source": [
    "con.remove(\"KitchenAbvGr\")\n",
    "con.remove(\"BsmtHalfBath\")\n",
    "con.remove(\"BsmtFinSF2\")\n",
    "con.remove(\"3SsnPorch\")\n",
    "con.remove(\"MoSold\")\n",
    "con.remove(\"PoolArea\")\n",
    "con.remove(\"ScreenPorch\")\n",
    "con.remove(\"BedroomAbvGr\")"
   ]
  },
  {
   "cell_type": "code",
   "execution_count": 30,
   "id": "b760a15d",
   "metadata": {},
   "outputs": [],
   "source": [
    "#cat"
   ]
  },
  {
   "cell_type": "code",
   "execution_count": 31,
   "id": "d841e92a",
   "metadata": {},
   "outputs": [],
   "source": [
    "#con"
   ]
  },
  {
   "cell_type": "raw",
   "id": "95a26843",
   "metadata": {},
   "source": [
    "# Data filtering is done"
   ]
  },
  {
   "cell_type": "markdown",
   "id": "b263ef0c",
   "metadata": {},
   "source": [
    "# 8.Standardisation of con columns"
   ]
  },
  {
   "cell_type": "code",
   "execution_count": 32,
   "id": "617716a9",
   "metadata": {},
   "outputs": [],
   "source": [
    "from sklearn.preprocessing import StandardScaler \n",
    "ss = StandardScaler()\n",
    "X1 = pd.DataFrame(ss.fit_transform(X[con]),columns=con)"
   ]
  },
  {
   "cell_type": "markdown",
   "id": "6492f2fb",
   "metadata": {},
   "source": [
    "# 9.1 Checking outliers(3>values<-3) "
   ]
  },
  {
   "cell_type": "code",
   "execution_count": 33,
   "id": "ce036bde",
   "metadata": {},
   "outputs": [
    {
     "data": {
      "text/plain": [
       "(1460, 25)"
      ]
     },
     "execution_count": 33,
     "metadata": {},
     "output_type": "execute_result"
    }
   ],
   "source": [
    "X1.shape"
   ]
  },
  {
   "cell_type": "code",
   "execution_count": 34,
   "id": "9d6a466a",
   "metadata": {},
   "outputs": [],
   "source": [
    "outliers = []\n",
    "for i in X1.columns:\n",
    "    outliers.extend(list(X1[(X1[i]>3) | (X1[i]<-3)].index))\n",
    "    \n",
    "import numpy as np # found out unique values of outlier index by using unique function from numpy library\n",
    "outliers = np.unique(outliers)"
   ]
  },
  {
   "cell_type": "markdown",
   "id": "df4cdcd5",
   "metadata": {},
   "source": [
    "# 9.2 Removing rows having outliers"
   ]
  },
  {
   "cell_type": "code",
   "execution_count": 35,
   "id": "52adb7bc",
   "metadata": {},
   "outputs": [],
   "source": [
    "X1 = X1.drop(index=outliers,axis=0)\n",
    "Y = Y.drop(index=outliers,axis=0)"
   ]
  },
  {
   "cell_type": "code",
   "execution_count": 36,
   "id": "f9d209c4",
   "metadata": {},
   "outputs": [
    {
     "data": {
      "text/plain": [
       "((1243, 25), (1243, 1))"
      ]
     },
     "execution_count": 36,
     "metadata": {},
     "output_type": "execute_result"
    }
   ],
   "source": [
    "X1.shape,Y.shape"
   ]
  },
  {
   "cell_type": "code",
   "execution_count": 37,
   "id": "6a00977e",
   "metadata": {},
   "outputs": [],
   "source": [
    "Y.index = range(0,Y.shape[0])\n",
    "X1.index = range(0,X1.shape[0])"
   ]
  },
  {
   "cell_type": "markdown",
   "id": "763b6324",
   "metadata": {},
   "source": [
    "# 10.One hot Encoding of Cat Columns"
   ]
  },
  {
   "cell_type": "code",
   "execution_count": 38,
   "id": "6831105b",
   "metadata": {},
   "outputs": [],
   "source": [
    "X2 = pd.get_dummies(X[cat])\n",
    "X2 = X2.drop(index=outliers,axis=0)"
   ]
  },
  {
   "cell_type": "code",
   "execution_count": 39,
   "id": "e6b77d23",
   "metadata": {},
   "outputs": [
    {
     "data": {
      "text/plain": [
       "(1243, 293)"
      ]
     },
     "execution_count": 39,
     "metadata": {},
     "output_type": "execute_result"
    }
   ],
   "source": [
    "X2.index = range(0,X2.shape[0])\n",
    "X2.shape"
   ]
  },
  {
   "cell_type": "code",
   "execution_count": 40,
   "id": "da68543f",
   "metadata": {},
   "outputs": [
    {
     "data": {
      "text/plain": [
       "(1243, 318)"
      ]
     },
     "execution_count": 40,
     "metadata": {},
     "output_type": "execute_result"
    }
   ],
   "source": [
    "Xnew = X1.join(X2)\n",
    "Xnew.shape"
   ]
  },
  {
   "cell_type": "raw",
   "id": "f2fa8dac",
   "metadata": {},
   "source": [
    "# Done with data Preprocessing!"
   ]
  },
  {
   "cell_type": "raw",
   "id": "c13a36b8",
   "metadata": {},
   "source": [
    "Created full model"
   ]
  },
  {
   "cell_type": "markdown",
   "id": "107e5790",
   "metadata": {},
   "source": [
    "# 11. Split data in training & testing set "
   ]
  },
  {
   "cell_type": "code",
   "execution_count": 41,
   "id": "be98b6b8",
   "metadata": {},
   "outputs": [],
   "source": [
    "from sklearn.model_selection import train_test_split\n",
    "xtrain,xtest,ytrain,ytest=train_test_split(Xnew,Y,test_size=0.2,random_state=31)"
   ]
  },
  {
   "cell_type": "markdown",
   "id": "0d20b09d",
   "metadata": {},
   "source": [
    "# 12. Backward Elimination OLS model"
   ]
  },
  {
   "cell_type": "code",
   "execution_count": 42,
   "id": "21c3d324",
   "metadata": {},
   "outputs": [],
   "source": [
    "from statsmodels.api import add_constant,OLS\n",
    "xconst = add_constant(xtrain,has_constant=\"add\") "
   ]
  },
  {
   "cell_type": "code",
   "execution_count": 43,
   "id": "14452073",
   "metadata": {},
   "outputs": [
    {
     "data": {
      "text/html": [
       "<table class=\"simpletable\">\n",
       "<caption>OLS Regression Results</caption>\n",
       "<tr>\n",
       "  <th>Dep. Variable:</th>        <td>SalePrice</td>    <th>  R-squared:         </th> <td>   0.946</td> \n",
       "</tr>\n",
       "<tr>\n",
       "  <th>Model:</th>                   <td>OLS</td>       <th>  Adj. R-squared:    </th> <td>   0.928</td> \n",
       "</tr>\n",
       "<tr>\n",
       "  <th>Method:</th>             <td>Least Squares</td>  <th>  F-statistic:       </th> <td>   53.62</td> \n",
       "</tr>\n",
       "<tr>\n",
       "  <th>Date:</th>             <td>Thu, 20 Oct 2022</td> <th>  Prob (F-statistic):</th>  <td>  0.00</td>  \n",
       "</tr>\n",
       "<tr>\n",
       "  <th>Time:</th>                 <td>15:25:14</td>     <th>  Log-Likelihood:    </th> <td> -10996.</td> \n",
       "</tr>\n",
       "<tr>\n",
       "  <th>No. Observations:</th>      <td>   994</td>      <th>  AIC:               </th> <td>2.248e+04</td>\n",
       "</tr>\n",
       "<tr>\n",
       "  <th>Df Residuals:</th>          <td>   750</td>      <th>  BIC:               </th> <td>2.368e+04</td>\n",
       "</tr>\n",
       "<tr>\n",
       "  <th>Df Model:</th>              <td>   243</td>      <th>                     </th>     <td> </td>    \n",
       "</tr>\n",
       "<tr>\n",
       "  <th>Covariance Type:</th>      <td>nonrobust</td>    <th>                     </th>     <td> </td>    \n",
       "</tr>\n",
       "</table>\n",
       "<table class=\"simpletable\">\n",
       "<tr>\n",
       "                                  <td></td>                                    <th>coef</th>     <th>std err</th>      <th>t</th>      <th>P>|t|</th>  <th>[0.025</th>    <th>0.975]</th>  \n",
       "</tr>\n",
       "<tr>\n",
       "  <th>const</th>                                                            <td> 1.711e+04</td> <td> 2271.831</td> <td>    7.530</td> <td> 0.000</td> <td> 1.26e+04</td> <td> 2.16e+04</td>\n",
       "</tr>\n",
       "<tr>\n",
       "  <th>LotFrontage</th>                                                      <td>  731.7350</td> <td> 1195.554</td> <td>    0.612</td> <td> 0.541</td> <td>-1615.295</td> <td> 3078.765</td>\n",
       "</tr>\n",
       "<tr>\n",
       "  <th>LotArea</th>                                                          <td> 9566.3324</td> <td> 2641.154</td> <td>    3.622</td> <td> 0.000</td> <td> 4381.399</td> <td> 1.48e+04</td>\n",
       "</tr>\n",
       "<tr>\n",
       "  <th>YearBuilt</th>                                                        <td> 1.149e+04</td> <td> 2816.033</td> <td>    4.082</td> <td> 0.000</td> <td> 5966.426</td> <td>  1.7e+04</td>\n",
       "</tr>\n",
       "<tr>\n",
       "  <th>YearRemodAdd</th>                                                     <td> 3278.2418</td> <td> 1235.237</td> <td>    2.654</td> <td> 0.008</td> <td>  853.309</td> <td> 5703.175</td>\n",
       "</tr>\n",
       "<tr>\n",
       "  <th>MasVnrArea</th>                                                       <td>  110.7628</td> <td> 1434.102</td> <td>    0.077</td> <td> 0.938</td> <td>-2704.569</td> <td> 2926.094</td>\n",
       "</tr>\n",
       "<tr>\n",
       "  <th>BsmtFinSF1</th>                                                       <td> 2447.2321</td> <td> 3385.266</td> <td>    0.723</td> <td> 0.470</td> <td>-4198.493</td> <td> 9092.957</td>\n",
       "</tr>\n",
       "<tr>\n",
       "  <th>BsmtUnfSF</th>                                                        <td>-3779.2417</td> <td> 3332.474</td> <td>   -1.134</td> <td> 0.257</td> <td>-1.03e+04</td> <td> 2762.844</td>\n",
       "</tr>\n",
       "<tr>\n",
       "  <th>TotalBsmtSF</th>                                                      <td> 1.355e+04</td> <td> 3943.844</td> <td>    3.436</td> <td> 0.001</td> <td> 5807.542</td> <td> 2.13e+04</td>\n",
       "</tr>\n",
       "<tr>\n",
       "  <th>1stFlrSF</th>                                                         <td> 7339.8050</td> <td> 1799.898</td> <td>    4.078</td> <td> 0.000</td> <td> 3806.367</td> <td> 1.09e+04</td>\n",
       "</tr>\n",
       "<tr>\n",
       "  <th>2ndFlrSF</th>                                                         <td> 1.194e+04</td> <td> 2097.648</td> <td>    5.694</td> <td> 0.000</td> <td> 7826.583</td> <td> 1.61e+04</td>\n",
       "</tr>\n",
       "<tr>\n",
       "  <th>LowQualFinSF</th>                                                     <td> 3728.0949</td> <td> 4805.603</td> <td>    0.776</td> <td> 0.438</td> <td>-5705.938</td> <td> 1.32e+04</td>\n",
       "</tr>\n",
       "<tr>\n",
       "  <th>GrLivArea</th>                                                        <td> 1.567e+04</td> <td> 1424.622</td> <td>   10.998</td> <td> 0.000</td> <td> 1.29e+04</td> <td> 1.85e+04</td>\n",
       "</tr>\n",
       "<tr>\n",
       "  <th>BsmtFullBath</th>                                                     <td> 1164.5858</td> <td>  996.820</td> <td>    1.168</td> <td> 0.243</td> <td> -792.304</td> <td> 3121.476</td>\n",
       "</tr>\n",
       "<tr>\n",
       "  <th>FullBath</th>                                                         <td> 1065.1867</td> <td> 1296.149</td> <td>    0.822</td> <td> 0.411</td> <td>-1479.325</td> <td> 3609.698</td>\n",
       "</tr>\n",
       "<tr>\n",
       "  <th>HalfBath</th>                                                         <td> 1360.7019</td> <td> 1193.470</td> <td>    1.140</td> <td> 0.255</td> <td> -982.237</td> <td> 3703.641</td>\n",
       "</tr>\n",
       "<tr>\n",
       "  <th>TotRmsAbvGrd</th>                                                     <td>-1542.6211</td> <td> 1465.761</td> <td>   -1.052</td> <td> 0.293</td> <td>-4420.104</td> <td> 1334.862</td>\n",
       "</tr>\n",
       "<tr>\n",
       "  <th>Fireplaces</th>                                                       <td> 2640.4803</td> <td> 1771.802</td> <td>    1.490</td> <td> 0.137</td> <td> -837.802</td> <td> 6118.762</td>\n",
       "</tr>\n",
       "<tr>\n",
       "  <th>GarageYrBlt</th>                                                      <td> 1097.6142</td> <td> 1517.175</td> <td>    0.723</td> <td> 0.470</td> <td>-1880.800</td> <td> 4076.029</td>\n",
       "</tr>\n",
       "<tr>\n",
       "  <th>GarageCars</th>                                                       <td> 1695.1277</td> <td> 1752.347</td> <td>    0.967</td> <td> 0.334</td> <td>-1744.962</td> <td> 5135.217</td>\n",
       "</tr>\n",
       "<tr>\n",
       "  <th>GarageArea</th>                                                       <td> 3165.9974</td> <td> 1831.596</td> <td>    1.729</td> <td> 0.084</td> <td> -429.668</td> <td> 6761.663</td>\n",
       "</tr>\n",
       "<tr>\n",
       "  <th>WoodDeckSF</th>                                                       <td> 2119.5267</td> <td>  814.584</td> <td>    2.602</td> <td> 0.009</td> <td>  520.392</td> <td> 3718.662</td>\n",
       "</tr>\n",
       "<tr>\n",
       "  <th>OpenPorchSF</th>                                                      <td>  940.0242</td> <td>  952.343</td> <td>    0.987</td> <td> 0.324</td> <td> -929.550</td> <td> 2809.598</td>\n",
       "</tr>\n",
       "<tr>\n",
       "  <th>EnclosedPorch</th>                                                    <td>  388.7385</td> <td> 1077.482</td> <td>    0.361</td> <td> 0.718</td> <td>-1726.500</td> <td> 2503.977</td>\n",
       "</tr>\n",
       "<tr>\n",
       "  <th>MiscVal</th>                                                          <td> 1334.4507</td> <td> 8350.266</td> <td>    0.160</td> <td> 0.873</td> <td>-1.51e+04</td> <td> 1.77e+04</td>\n",
       "</tr>\n",
       "<tr>\n",
       "  <th>YrSold</th>                                                           <td> -548.5309</td> <td>  678.268</td> <td>   -0.809</td> <td> 0.419</td> <td>-1880.061</td> <td>  782.999</td>\n",
       "</tr>\n",
       "<tr>\n",
       "  <th>MSSubClass_1-1/2 STORY - UNFINISHED ALL AGES</th>                     <td>-2.266e+04</td> <td> 2.84e+04</td> <td>   -0.797</td> <td> 0.426</td> <td>-7.85e+04</td> <td> 3.31e+04</td>\n",
       "</tr>\n",
       "<tr>\n",
       "  <th>MSSubClass_1-1/2 STORY FINISHED ALL AGES</th>                         <td>  678.9627</td> <td> 1.01e+04</td> <td>    0.068</td> <td> 0.946</td> <td>-1.91e+04</td> <td> 2.04e+04</td>\n",
       "</tr>\n",
       "<tr>\n",
       "  <th>MSSubClass_1-STORY 1945 & OLDER</th>                                  <td> 1.041e+04</td> <td> 7936.966</td> <td>    1.312</td> <td> 0.190</td> <td>-5169.899</td> <td>  2.6e+04</td>\n",
       "</tr>\n",
       "<tr>\n",
       "  <th>MSSubClass_1-STORY 1946 & NEWER ALL STYLES</th>                       <td> 9632.7336</td> <td> 7014.515</td> <td>    1.373</td> <td> 0.170</td> <td>-4137.685</td> <td> 2.34e+04</td>\n",
       "</tr>\n",
       "<tr>\n",
       "  <th>MSSubClass_1-STORY PUD (Planned Unit Development) - 1946 & NEWER</th> <td>-1105.2708</td> <td> 1.63e+04</td> <td>   -0.068</td> <td> 0.946</td> <td>-3.31e+04</td> <td> 3.09e+04</td>\n",
       "</tr>\n",
       "<tr>\n",
       "  <th>MSSubClass_1-STORY W/FINISHED ATTIC ALL AGES</th>                     <td> 1.611e+04</td> <td> 2.09e+04</td> <td>    0.770</td> <td> 0.442</td> <td> -2.5e+04</td> <td> 5.72e+04</td>\n",
       "</tr>\n",
       "<tr>\n",
       "  <th>MSSubClass_2 FAMILY CONVERSION - ALL STYLES AND AGES</th>             <td> 1.088e+04</td> <td> 2.72e+04</td> <td>    0.400</td> <td> 0.689</td> <td>-4.25e+04</td> <td> 6.43e+04</td>\n",
       "</tr>\n",
       "<tr>\n",
       "  <th>MSSubClass_2-1/2 STORY ALL AGES</th>                                  <td>-8268.9673</td> <td> 6527.636</td> <td>   -1.267</td> <td> 0.206</td> <td>-2.11e+04</td> <td> 4545.644</td>\n",
       "</tr>\n",
       "<tr>\n",
       "  <th>MSSubClass_2-STORY 1945 & OLDER</th>                                  <td> 1.823e+04</td> <td> 9411.401</td> <td>    1.937</td> <td> 0.053</td> <td> -243.171</td> <td> 3.67e+04</td>\n",
       "</tr>\n",
       "<tr>\n",
       "  <th>MSSubClass_2-STORY 1946 & NEWER</th>                                  <td> 1.312e+04</td> <td> 9274.955</td> <td>    1.414</td> <td> 0.158</td> <td>-5091.422</td> <td> 3.13e+04</td>\n",
       "</tr>\n",
       "<tr>\n",
       "  <th>MSSubClass_2-STORY PUD - 1946 & NEWER</th>                            <td>-9305.4230</td> <td>  1.8e+04</td> <td>   -0.518</td> <td> 0.605</td> <td>-4.46e+04</td> <td>  2.6e+04</td>\n",
       "</tr>\n",
       "<tr>\n",
       "  <th>MSSubClass_DUPLEX - ALL STYLES AND AGES</th>                          <td>-3117.1534</td> <td> 4397.086</td> <td>   -0.709</td> <td> 0.479</td> <td>-1.17e+04</td> <td> 5514.906</td>\n",
       "</tr>\n",
       "<tr>\n",
       "  <th>MSSubClass_PUD - MULTILEVEL - INCL SPLIT LEV/FOYER</th>               <td>-1.146e+04</td> <td> 1.91e+04</td> <td>   -0.601</td> <td> 0.548</td> <td>-4.89e+04</td> <td>  2.6e+04</td>\n",
       "</tr>\n",
       "<tr>\n",
       "  <th>MSSubClass_SPLIT FOYER</th>                                           <td>-5323.6888</td> <td> 1.07e+04</td> <td>   -0.496</td> <td> 0.620</td> <td>-2.64e+04</td> <td> 1.57e+04</td>\n",
       "</tr>\n",
       "<tr>\n",
       "  <th>MSSubClass_SPLIT OR MULTI-LEVEL</th>                                  <td> -710.1208</td> <td>  1.2e+04</td> <td>   -0.059</td> <td> 0.953</td> <td>-2.43e+04</td> <td> 2.29e+04</td>\n",
       "</tr>\n",
       "<tr>\n",
       "  <th>MSZoning_C (all)</th>                                                 <td> -2.71e+04</td> <td> 1.04e+04</td> <td>   -2.613</td> <td> 0.009</td> <td>-4.75e+04</td> <td>-6741.340</td>\n",
       "</tr>\n",
       "<tr>\n",
       "  <th>MSZoning_FV</th>                                                      <td>  2.64e+04</td> <td> 5931.936</td> <td>    4.451</td> <td> 0.000</td> <td> 1.48e+04</td> <td>  3.8e+04</td>\n",
       "</tr>\n",
       "<tr>\n",
       "  <th>MSZoning_RH</th>                                                      <td> -414.4079</td> <td> 6332.847</td> <td>   -0.065</td> <td> 0.948</td> <td>-1.28e+04</td> <td>  1.2e+04</td>\n",
       "</tr>\n",
       "<tr>\n",
       "  <th>MSZoning_RL</th>                                                      <td> 1.016e+04</td> <td> 3635.815</td> <td>    2.794</td> <td> 0.005</td> <td> 3020.954</td> <td> 1.73e+04</td>\n",
       "</tr>\n",
       "<tr>\n",
       "  <th>MSZoning_RM</th>                                                      <td> 8064.0595</td> <td> 4054.621</td> <td>    1.989</td> <td> 0.047</td> <td>  104.302</td> <td>  1.6e+04</td>\n",
       "</tr>\n",
       "<tr>\n",
       "  <th>Alley_Grvl</th>                                                       <td> 5278.1865</td> <td> 3671.604</td> <td>    1.438</td> <td> 0.151</td> <td>-1929.658</td> <td> 1.25e+04</td>\n",
       "</tr>\n",
       "<tr>\n",
       "  <th>Alley_NoAlleyAccess</th>                                              <td> 4124.9449</td> <td> 2503.501</td> <td>    1.648</td> <td> 0.100</td> <td> -789.758</td> <td> 9039.648</td>\n",
       "</tr>\n",
       "<tr>\n",
       "  <th>Alley_Pave</th>                                                       <td> 7704.7692</td> <td> 4052.034</td> <td>    1.901</td> <td> 0.058</td> <td> -249.908</td> <td> 1.57e+04</td>\n",
       "</tr>\n",
       "<tr>\n",
       "  <th>LotShape_IR1</th>                                                     <td> 6619.0687</td> <td> 2928.525</td> <td>    2.260</td> <td> 0.024</td> <td>  869.987</td> <td> 1.24e+04</td>\n",
       "</tr>\n",
       "<tr>\n",
       "  <th>LotShape_IR2</th>                                                     <td> 5895.1674</td> <td> 4068.916</td> <td>    1.449</td> <td> 0.148</td> <td>-2092.653</td> <td> 1.39e+04</td>\n",
       "</tr>\n",
       "<tr>\n",
       "  <th>LotShape_IR3</th>                                                     <td>-2333.1662</td> <td> 7743.263</td> <td>   -0.301</td> <td> 0.763</td> <td>-1.75e+04</td> <td> 1.29e+04</td>\n",
       "</tr>\n",
       "<tr>\n",
       "  <th>LotShape_Reg</th>                                                     <td> 6926.8307</td> <td> 3016.754</td> <td>    2.296</td> <td> 0.022</td> <td> 1004.545</td> <td> 1.28e+04</td>\n",
       "</tr>\n",
       "<tr>\n",
       "  <th>LandContour_Bnk</th>                                                  <td> 6502.4248</td> <td> 3573.508</td> <td>    1.820</td> <td> 0.069</td> <td> -512.844</td> <td> 1.35e+04</td>\n",
       "</tr>\n",
       "<tr>\n",
       "  <th>LandContour_HLS</th>                                                  <td> 7651.8833</td> <td> 3335.685</td> <td>    2.294</td> <td> 0.022</td> <td> 1103.494</td> <td> 1.42e+04</td>\n",
       "</tr>\n",
       "<tr>\n",
       "  <th>LandContour_Low</th>                                                  <td>-3571.0788</td> <td> 4508.277</td> <td>   -0.792</td> <td> 0.429</td> <td>-1.24e+04</td> <td> 5279.264</td>\n",
       "</tr>\n",
       "<tr>\n",
       "  <th>LandContour_Lvl</th>                                                  <td> 6524.6712</td> <td> 2199.396</td> <td>    2.967</td> <td> 0.003</td> <td> 2206.966</td> <td> 1.08e+04</td>\n",
       "</tr>\n",
       "<tr>\n",
       "  <th>LotConfig_Corner</th>                                                 <td> 6150.6019</td> <td> 3636.290</td> <td>    1.691</td> <td> 0.091</td> <td> -987.916</td> <td> 1.33e+04</td>\n",
       "</tr>\n",
       "<tr>\n",
       "  <th>LotConfig_CulDSac</th>                                                <td> 9676.5586</td> <td> 4001.425</td> <td>    2.418</td> <td> 0.016</td> <td> 1821.233</td> <td> 1.75e+04</td>\n",
       "</tr>\n",
       "<tr>\n",
       "  <th>LotConfig_FR2</th>                                                    <td> -528.9626</td> <td> 4332.360</td> <td>   -0.122</td> <td> 0.903</td> <td>-9033.957</td> <td> 7976.032</td>\n",
       "</tr>\n",
       "<tr>\n",
       "  <th>LotConfig_FR3</th>                                                    <td>-1952.0522</td> <td> 1.28e+04</td> <td>   -0.152</td> <td> 0.879</td> <td>-2.71e+04</td> <td> 2.32e+04</td>\n",
       "</tr>\n",
       "<tr>\n",
       "  <th>LotConfig_Inside</th>                                                 <td> 3761.7548</td> <td> 3441.262</td> <td>    1.093</td> <td> 0.275</td> <td>-2993.897</td> <td> 1.05e+04</td>\n",
       "</tr>\n",
       "<tr>\n",
       "  <th>Neighborhood_Blmngtn</th>                                             <td> 6585.4098</td> <td> 7286.507</td> <td>    0.904</td> <td> 0.366</td> <td>-7718.965</td> <td> 2.09e+04</td>\n",
       "</tr>\n",
       "<tr>\n",
       "  <th>Neighborhood_Blueste</th>                                             <td> 1.624e+04</td> <td> 1.52e+04</td> <td>    1.070</td> <td> 0.285</td> <td>-1.35e+04</td> <td>  4.6e+04</td>\n",
       "</tr>\n",
       "<tr>\n",
       "  <th>Neighborhood_BrDale</th>                                              <td> 1.519e+04</td> <td> 8174.992</td> <td>    1.859</td> <td> 0.063</td> <td> -853.621</td> <td> 3.12e+04</td>\n",
       "</tr>\n",
       "<tr>\n",
       "  <th>Neighborhood_BrkSide</th>                                             <td>-1384.1419</td> <td> 5343.446</td> <td>   -0.259</td> <td> 0.796</td> <td>-1.19e+04</td> <td> 9105.749</td>\n",
       "</tr>\n",
       "<tr>\n",
       "  <th>Neighborhood_ClearCr</th>                                             <td>-5778.1455</td> <td> 6392.344</td> <td>   -0.904</td> <td> 0.366</td> <td>-1.83e+04</td> <td> 6770.869</td>\n",
       "</tr>\n",
       "<tr>\n",
       "  <th>Neighborhood_CollgCr</th>                                             <td>-7714.1199</td> <td> 3008.427</td> <td>   -2.564</td> <td> 0.011</td> <td>-1.36e+04</td> <td>-1808.180</td>\n",
       "</tr>\n",
       "<tr>\n",
       "  <th>Neighborhood_Crawfor</th>                                             <td> 2.383e+04</td> <td> 4398.208</td> <td>    5.419</td> <td> 0.000</td> <td> 1.52e+04</td> <td> 3.25e+04</td>\n",
       "</tr>\n",
       "<tr>\n",
       "  <th>Neighborhood_Edwards</th>                                             <td>-1.267e+04</td> <td> 3114.242</td> <td>   -4.068</td> <td> 0.000</td> <td>-1.88e+04</td> <td>-6554.428</td>\n",
       "</tr>\n",
       "<tr>\n",
       "  <th>Neighborhood_Gilbert</th>                                             <td>-9010.3760</td> <td> 3747.720</td> <td>   -2.404</td> <td> 0.016</td> <td>-1.64e+04</td> <td>-1653.107</td>\n",
       "</tr>\n",
       "<tr>\n",
       "  <th>Neighborhood_IDOTRR</th>                                              <td>-6255.1369</td> <td> 6515.549</td> <td>   -0.960</td> <td> 0.337</td> <td> -1.9e+04</td> <td> 6535.746</td>\n",
       "</tr>\n",
       "<tr>\n",
       "  <th>Neighborhood_MeadowV</th>                                             <td>-1.463e+04</td> <td> 9737.450</td> <td>   -1.503</td> <td> 0.133</td> <td>-3.37e+04</td> <td> 4482.369</td>\n",
       "</tr>\n",
       "<tr>\n",
       "  <th>Neighborhood_Mitchel</th>                                             <td>-1.286e+04</td> <td> 3970.496</td> <td>   -3.239</td> <td> 0.001</td> <td>-2.07e+04</td> <td>-5064.708</td>\n",
       "</tr>\n",
       "<tr>\n",
       "  <th>Neighborhood_NAmes</th>                                               <td>-9495.1799</td> <td> 2828.917</td> <td>   -3.356</td> <td> 0.001</td> <td> -1.5e+04</td> <td>-3941.643</td>\n",
       "</tr>\n",
       "<tr>\n",
       "  <th>Neighborhood_NPkVill</th>                                             <td> 2.279e+04</td> <td> 1.05e+04</td> <td>    2.166</td> <td> 0.031</td> <td> 2135.706</td> <td> 4.34e+04</td>\n",
       "</tr>\n",
       "<tr>\n",
       "  <th>Neighborhood_NWAmes</th>                                              <td>-8573.5424</td> <td> 3378.196</td> <td>   -2.538</td> <td> 0.011</td> <td>-1.52e+04</td> <td>-1941.699</td>\n",
       "</tr>\n",
       "<tr>\n",
       "  <th>Neighborhood_NoRidge</th>                                             <td> 9842.2900</td> <td> 5346.335</td> <td>    1.841</td> <td> 0.066</td> <td> -653.271</td> <td> 2.03e+04</td>\n",
       "</tr>\n",
       "<tr>\n",
       "  <th>Neighborhood_NridgHt</th>                                             <td> 9617.4386</td> <td> 4469.319</td> <td>    2.152</td> <td> 0.032</td> <td>  843.575</td> <td> 1.84e+04</td>\n",
       "</tr>\n",
       "<tr>\n",
       "  <th>Neighborhood_OldTown</th>                                             <td>-1.252e+04</td> <td> 5063.753</td> <td>   -2.473</td> <td> 0.014</td> <td>-2.25e+04</td> <td>-2582.067</td>\n",
       "</tr>\n",
       "<tr>\n",
       "  <th>Neighborhood_SWISU</th>                                               <td>-5840.3079</td> <td> 7658.697</td> <td>   -0.763</td> <td> 0.446</td> <td>-2.09e+04</td> <td> 9194.726</td>\n",
       "</tr>\n",
       "<tr>\n",
       "  <th>Neighborhood_Sawyer</th>                                              <td>-6191.3068</td> <td> 3455.498</td> <td>   -1.792</td> <td> 0.074</td> <td> -1.3e+04</td> <td>  592.291</td>\n",
       "</tr>\n",
       "<tr>\n",
       "  <th>Neighborhood_SawyerW</th>                                             <td> 1680.6541</td> <td> 3771.699</td> <td>    0.446</td> <td> 0.656</td> <td>-5723.689</td> <td> 9084.997</td>\n",
       "</tr>\n",
       "<tr>\n",
       "  <th>Neighborhood_Somerst</th>                                             <td>-7617.8240</td> <td> 5488.130</td> <td>   -1.388</td> <td> 0.166</td> <td>-1.84e+04</td> <td> 3156.099</td>\n",
       "</tr>\n",
       "<tr>\n",
       "  <th>Neighborhood_StoneBr</th>                                             <td> 3.539e+04</td> <td> 5732.166</td> <td>    6.174</td> <td> 0.000</td> <td> 2.41e+04</td> <td> 4.66e+04</td>\n",
       "</tr>\n",
       "<tr>\n",
       "  <th>Neighborhood_Timber</th>                                              <td>-8392.8529</td> <td> 4630.963</td> <td>   -1.812</td> <td> 0.070</td> <td>-1.75e+04</td> <td>  698.338</td>\n",
       "</tr>\n",
       "<tr>\n",
       "  <th>Neighborhood_Veenker</th>                                             <td> 4861.5957</td> <td> 7154.056</td> <td>    0.680</td> <td> 0.497</td> <td>-9182.761</td> <td> 1.89e+04</td>\n",
       "</tr>\n",
       "<tr>\n",
       "  <th>Condition1_Artery</th>                                                <td>-1827.4174</td> <td> 4720.218</td> <td>   -0.387</td> <td> 0.699</td> <td>-1.11e+04</td> <td> 7438.994</td>\n",
       "</tr>\n",
       "<tr>\n",
       "  <th>Condition1_Feedr</th>                                                 <td> 1666.2667</td> <td> 4077.352</td> <td>    0.409</td> <td> 0.683</td> <td>-6338.114</td> <td> 9670.648</td>\n",
       "</tr>\n",
       "<tr>\n",
       "  <th>Condition1_Norm</th>                                                  <td> 8570.9148</td> <td> 3201.392</td> <td>    2.677</td> <td> 0.008</td> <td> 2286.160</td> <td> 1.49e+04</td>\n",
       "</tr>\n",
       "<tr>\n",
       "  <th>Condition1_PosA</th>                                                  <td> 3837.4216</td> <td> 8697.903</td> <td>    0.441</td> <td> 0.659</td> <td>-1.32e+04</td> <td> 2.09e+04</td>\n",
       "</tr>\n",
       "<tr>\n",
       "  <th>Condition1_PosN</th>                                                  <td> 1.163e+04</td> <td> 8989.656</td> <td>    1.294</td> <td> 0.196</td> <td>-6017.868</td> <td> 2.93e+04</td>\n",
       "</tr>\n",
       "<tr>\n",
       "  <th>Condition1_RRAe</th>                                                  <td>-1.891e+04</td> <td> 6858.933</td> <td>   -2.757</td> <td> 0.006</td> <td>-3.24e+04</td> <td>-5443.996</td>\n",
       "</tr>\n",
       "<tr>\n",
       "  <th>Condition1_RRAn</th>                                                  <td> 4134.0020</td> <td> 5466.167</td> <td>    0.756</td> <td> 0.450</td> <td>-6596.806</td> <td> 1.49e+04</td>\n",
       "</tr>\n",
       "<tr>\n",
       "  <th>Condition1_RRNe</th>                                                  <td>-3107.3237</td> <td> 1.67e+04</td> <td>   -0.186</td> <td> 0.852</td> <td>-3.59e+04</td> <td> 2.97e+04</td>\n",
       "</tr>\n",
       "<tr>\n",
       "  <th>Condition1_RRNn</th>                                                  <td> 1.111e+04</td> <td> 1.16e+04</td> <td>    0.957</td> <td> 0.339</td> <td>-1.17e+04</td> <td> 3.39e+04</td>\n",
       "</tr>\n",
       "<tr>\n",
       "  <th>Condition2_Artery</th>                                                <td> 2.257e+04</td> <td> 2.57e+04</td> <td>    0.880</td> <td> 0.379</td> <td>-2.78e+04</td> <td> 7.29e+04</td>\n",
       "</tr>\n",
       "<tr>\n",
       "  <th>Condition2_Feedr</th>                                                 <td>-1112.4897</td> <td> 1.41e+04</td> <td>   -0.079</td> <td> 0.937</td> <td>-2.88e+04</td> <td> 2.65e+04</td>\n",
       "</tr>\n",
       "<tr>\n",
       "  <th>Condition2_Norm</th>                                                  <td> 1326.6304</td> <td> 8475.227</td> <td>    0.157</td> <td> 0.876</td> <td>-1.53e+04</td> <td>  1.8e+04</td>\n",
       "</tr>\n",
       "<tr>\n",
       "  <th>Condition2_PosA</th>                                                  <td> 7.609e-11</td> <td> 4.71e-11</td> <td>    1.614</td> <td> 0.107</td> <td>-1.64e-11</td> <td> 1.69e-10</td>\n",
       "</tr>\n",
       "<tr>\n",
       "  <th>Condition2_PosN</th>                                                  <td> 2.629e-11</td> <td> 6.77e-11</td> <td>    0.388</td> <td> 0.698</td> <td>-1.07e-10</td> <td> 1.59e-10</td>\n",
       "</tr>\n",
       "<tr>\n",
       "  <th>Condition2_RRAe</th>                                                  <td> 2.622e-12</td> <td>  6.6e-11</td> <td>    0.040</td> <td> 0.968</td> <td>-1.27e-10</td> <td> 1.32e-10</td>\n",
       "</tr>\n",
       "<tr>\n",
       "  <th>Condition2_RRAn</th>                                                  <td>-1.526e+04</td> <td>  1.8e+04</td> <td>   -0.850</td> <td> 0.396</td> <td>-5.05e+04</td> <td>    2e+04</td>\n",
       "</tr>\n",
       "<tr>\n",
       "  <th>Condition2_RRNn</th>                                                  <td> 9582.9755</td> <td> 1.42e+04</td> <td>    0.673</td> <td> 0.501</td> <td>-1.84e+04</td> <td> 3.75e+04</td>\n",
       "</tr>\n",
       "<tr>\n",
       "  <th>BldgType_1Fam</th>                                                    <td> 1.253e+04</td> <td> 1.17e+04</td> <td>    1.070</td> <td> 0.285</td> <td>-1.05e+04</td> <td> 3.55e+04</td>\n",
       "</tr>\n",
       "<tr>\n",
       "  <th>BldgType_2fmCon</th>                                                  <td>-3084.7246</td> <td> 2.35e+04</td> <td>   -0.131</td> <td> 0.896</td> <td>-4.92e+04</td> <td> 4.31e+04</td>\n",
       "</tr>\n",
       "<tr>\n",
       "  <th>BldgType_Duplex</th>                                                  <td>-3117.1534</td> <td> 4397.086</td> <td>   -0.709</td> <td> 0.479</td> <td>-1.17e+04</td> <td> 5514.906</td>\n",
       "</tr>\n",
       "<tr>\n",
       "  <th>BldgType_Twnhs</th>                                                   <td> 4241.0885</td> <td>  1.3e+04</td> <td>    0.327</td> <td> 0.744</td> <td>-2.12e+04</td> <td> 2.97e+04</td>\n",
       "</tr>\n",
       "<tr>\n",
       "  <th>BldgType_TwnhsE</th>                                                  <td> 6534.4600</td> <td> 1.25e+04</td> <td>    0.522</td> <td> 0.602</td> <td> -1.8e+04</td> <td> 3.11e+04</td>\n",
       "</tr>\n",
       "<tr>\n",
       "  <th>HouseStyle_1.5Fin</th>                                                <td> 4323.8043</td> <td> 8911.469</td> <td>    0.485</td> <td> 0.628</td> <td>-1.32e+04</td> <td> 2.18e+04</td>\n",
       "</tr>\n",
       "<tr>\n",
       "  <th>HouseStyle_1.5Unf</th>                                                <td>  3.61e+04</td> <td> 2.46e+04</td> <td>    1.468</td> <td> 0.143</td> <td>-1.22e+04</td> <td> 8.44e+04</td>\n",
       "</tr>\n",
       "<tr>\n",
       "  <th>HouseStyle_1Story</th>                                                <td>-5665.6856</td> <td> 6838.578</td> <td>   -0.828</td> <td> 0.408</td> <td>-1.91e+04</td> <td> 7759.346</td>\n",
       "</tr>\n",
       "<tr>\n",
       "  <th>HouseStyle_2.5Fin</th>                                                <td> 6.683e-11</td> <td>  5.2e-11</td> <td>    1.285</td> <td> 0.199</td> <td>-3.53e-11</td> <td> 1.69e-10</td>\n",
       "</tr>\n",
       "<tr>\n",
       "  <th>HouseStyle_2.5Unf</th>                                                <td>-8268.9673</td> <td> 6527.636</td> <td>   -1.267</td> <td> 0.206</td> <td>-2.11e+04</td> <td> 4545.644</td>\n",
       "</tr>\n",
       "<tr>\n",
       "  <th>HouseStyle_2Story</th>                                                <td>-1.303e+04</td> <td> 9126.238</td> <td>   -1.428</td> <td> 0.154</td> <td>-3.09e+04</td> <td> 4885.613</td>\n",
       "</tr>\n",
       "<tr>\n",
       "  <th>HouseStyle_SFoyer</th>                                                <td> 3812.2863</td> <td> 8884.363</td> <td>    0.429</td> <td> 0.668</td> <td>-1.36e+04</td> <td> 2.13e+04</td>\n",
       "</tr>\n",
       "<tr>\n",
       "  <th>HouseStyle_SLvl</th>                                                  <td> -167.9864</td> <td>  1.1e+04</td> <td>   -0.015</td> <td> 0.988</td> <td>-2.18e+04</td> <td> 2.15e+04</td>\n",
       "</tr>\n",
       "<tr>\n",
       "  <th>OverallQual_Above Average</th>                                        <td>-1.182e+04</td> <td> 4003.502</td> <td>   -2.952</td> <td> 0.003</td> <td>-1.97e+04</td> <td>-3957.812</td>\n",
       "</tr>\n",
       "<tr>\n",
       "  <th>OverallQual_Average</th>                                              <td>-1.248e+04</td> <td> 4055.790</td> <td>   -3.077</td> <td> 0.002</td> <td>-2.04e+04</td> <td>-4516.999</td>\n",
       "</tr>\n",
       "<tr>\n",
       "  <th>OverallQual_Below Average</th>                                        <td>-1.387e+04</td> <td> 4381.736</td> <td>   -3.164</td> <td> 0.002</td> <td>-2.25e+04</td> <td>-5263.939</td>\n",
       "</tr>\n",
       "<tr>\n",
       "  <th>OverallQual_Excellent</th>                                            <td> 4.097e+04</td> <td> 6299.491</td> <td>    6.503</td> <td> 0.000</td> <td> 2.86e+04</td> <td> 5.33e+04</td>\n",
       "</tr>\n",
       "<tr>\n",
       "  <th>OverallQual_Fair</th>                                                 <td>-1.395e+04</td> <td> 6732.904</td> <td>   -2.071</td> <td> 0.039</td> <td>-2.72e+04</td> <td> -729.001</td>\n",
       "</tr>\n",
       "<tr>\n",
       "  <th>OverallQual_Good</th>                                                 <td>-4387.0286</td> <td> 4069.379</td> <td>   -1.078</td> <td> 0.281</td> <td>-1.24e+04</td> <td> 3601.699</td>\n",
       "</tr>\n",
       "<tr>\n",
       "  <th>OverallQual_Poor</th>                                                 <td>-2119.2682</td> <td> 1.42e+04</td> <td>   -0.150</td> <td> 0.881</td> <td>-2.99e+04</td> <td> 2.57e+04</td>\n",
       "</tr>\n",
       "<tr>\n",
       "  <th>OverallQual_Very Excellent</th>                                       <td>  4.85e+04</td> <td> 1.07e+04</td> <td>    4.549</td> <td> 0.000</td> <td> 2.76e+04</td> <td> 6.94e+04</td>\n",
       "</tr>\n",
       "<tr>\n",
       "  <th>OverallQual_Very Good</th>                                            <td> 1.069e+04</td> <td> 4491.707</td> <td>    2.381</td> <td> 0.018</td> <td> 1876.101</td> <td> 1.95e+04</td>\n",
       "</tr>\n",
       "<tr>\n",
       "  <th>OverallQual_Very Poor</th>                                            <td>-2.444e+04</td> <td> 2.51e+04</td> <td>   -0.973</td> <td> 0.331</td> <td>-7.37e+04</td> <td> 2.49e+04</td>\n",
       "</tr>\n",
       "<tr>\n",
       "  <th>OverallCond_Above Average</th>                                        <td> 4356.4435</td> <td> 4238.781</td> <td>    1.028</td> <td> 0.304</td> <td>-3964.844</td> <td> 1.27e+04</td>\n",
       "</tr>\n",
       "<tr>\n",
       "  <th>OverallCond_Average</th>                                              <td>-2546.3473</td> <td> 4169.172</td> <td>   -0.611</td> <td> 0.542</td> <td>-1.07e+04</td> <td> 5638.288</td>\n",
       "</tr>\n",
       "<tr>\n",
       "  <th>OverallCond_Below Average</th>                                        <td>-4949.2724</td> <td> 5370.593</td> <td>   -0.922</td> <td> 0.357</td> <td>-1.55e+04</td> <td> 5593.910</td>\n",
       "</tr>\n",
       "<tr>\n",
       "  <th>OverallCond_Excellent</th>                                            <td> 1.858e+04</td> <td> 6860.512</td> <td>    2.708</td> <td> 0.007</td> <td> 5110.206</td> <td>  3.2e+04</td>\n",
       "</tr>\n",
       "<tr>\n",
       "  <th>OverallCond_Fair</th>                                                 <td>-1.236e+04</td> <td> 6236.397</td> <td>   -1.982</td> <td> 0.048</td> <td>-2.46e+04</td> <td> -114.951</td>\n",
       "</tr>\n",
       "<tr>\n",
       "  <th>OverallCond_Good</th>                                                 <td> 9783.4945</td> <td> 4235.464</td> <td>    2.310</td> <td> 0.021</td> <td> 1468.720</td> <td> 1.81e+04</td>\n",
       "</tr>\n",
       "<tr>\n",
       "  <th>OverallCond_Poor</th>                                                 <td> 6888.6944</td> <td> 1.51e+04</td> <td>    0.456</td> <td> 0.648</td> <td>-2.27e+04</td> <td> 3.65e+04</td>\n",
       "</tr>\n",
       "<tr>\n",
       "  <th>OverallCond_Very Good</th>                                            <td> 1.476e+04</td> <td> 4911.263</td> <td>    3.005</td> <td> 0.003</td> <td> 5115.119</td> <td> 2.44e+04</td>\n",
       "</tr>\n",
       "<tr>\n",
       "  <th>OverallCond_Very Poor</th>                                            <td> -1.74e+04</td> <td> 2.13e+04</td> <td>   -0.815</td> <td> 0.415</td> <td>-5.93e+04</td> <td> 2.45e+04</td>\n",
       "</tr>\n",
       "<tr>\n",
       "  <th>RoofStyle_Flat</th>                                                   <td> 1446.9711</td> <td> 1.34e+04</td> <td>    0.108</td> <td> 0.914</td> <td>-2.48e+04</td> <td> 2.77e+04</td>\n",
       "</tr>\n",
       "<tr>\n",
       "  <th>RoofStyle_Gable</th>                                                  <td>   64.5515</td> <td> 5565.512</td> <td>    0.012</td> <td> 0.991</td> <td>-1.09e+04</td> <td>  1.1e+04</td>\n",
       "</tr>\n",
       "<tr>\n",
       "  <th>RoofStyle_Gambrel</th>                                                <td> 2383.5522</td> <td> 8555.153</td> <td>    0.279</td> <td> 0.781</td> <td>-1.44e+04</td> <td> 1.92e+04</td>\n",
       "</tr>\n",
       "<tr>\n",
       "  <th>RoofStyle_Hip</th>                                                    <td>  298.9624</td> <td> 5703.964</td> <td>    0.052</td> <td> 0.958</td> <td>-1.09e+04</td> <td> 1.15e+04</td>\n",
       "</tr>\n",
       "<tr>\n",
       "  <th>RoofStyle_Mansard</th>                                                <td> 1.291e+04</td> <td> 1.72e+04</td> <td>    0.750</td> <td> 0.453</td> <td>-2.09e+04</td> <td> 4.67e+04</td>\n",
       "</tr>\n",
       "<tr>\n",
       "  <th>RoofStyle_Shed</th>                                                   <td> 3.265e-11</td> <td>  3.6e-11</td> <td>    0.908</td> <td> 0.364</td> <td> -3.8e-11</td> <td> 1.03e-10</td>\n",
       "</tr>\n",
       "<tr>\n",
       "  <th>RoofMatl_ClyTile</th>                                                 <td>-4.181e-11</td> <td> 5.61e-11</td> <td>   -0.746</td> <td> 0.456</td> <td>-1.52e-10</td> <td> 6.83e-11</td>\n",
       "</tr>\n",
       "<tr>\n",
       "  <th>RoofMatl_CompShg</th>                                                 <td> 3306.3170</td> <td> 9935.933</td> <td>    0.333</td> <td> 0.739</td> <td>-1.62e+04</td> <td> 2.28e+04</td>\n",
       "</tr>\n",
       "<tr>\n",
       "  <th>RoofMatl_Membran</th>                                                 <td>-3.107e-11</td> <td> 5.79e-11</td> <td>   -0.537</td> <td> 0.592</td> <td>-1.45e-10</td> <td> 8.26e-11</td>\n",
       "</tr>\n",
       "<tr>\n",
       "  <th>RoofMatl_Metal</th>                                                   <td> 2.381e+04</td> <td> 2.04e+04</td> <td>    1.166</td> <td> 0.244</td> <td>-1.63e+04</td> <td> 6.39e+04</td>\n",
       "</tr>\n",
       "<tr>\n",
       "  <th>RoofMatl_Roll</th>                                                    <td> 2.662e-11</td> <td> 4.78e-11</td> <td>    0.557</td> <td> 0.578</td> <td>-6.72e-11</td> <td>  1.2e-10</td>\n",
       "</tr>\n",
       "<tr>\n",
       "  <th>RoofMatl_Tar&Grv</th>                                                 <td>  647.0828</td> <td> 1.28e+04</td> <td>    0.051</td> <td> 0.960</td> <td>-2.44e+04</td> <td> 2.57e+04</td>\n",
       "</tr>\n",
       "<tr>\n",
       "  <th>RoofMatl_WdShake</th>                                                 <td>-1.338e+04</td> <td> 2.28e+04</td> <td>   -0.588</td> <td> 0.557</td> <td> -5.8e+04</td> <td> 3.13e+04</td>\n",
       "</tr>\n",
       "<tr>\n",
       "  <th>RoofMatl_WdShngl</th>                                                 <td> 2725.2415</td> <td> 1.83e+04</td> <td>    0.149</td> <td> 0.882</td> <td>-3.32e+04</td> <td> 3.86e+04</td>\n",
       "</tr>\n",
       "<tr>\n",
       "  <th>Exterior1st_AsbShng</th>                                              <td> 2286.7358</td> <td> 1.26e+04</td> <td>    0.182</td> <td> 0.856</td> <td>-2.24e+04</td> <td>  2.7e+04</td>\n",
       "</tr>\n",
       "<tr>\n",
       "  <th>Exterior1st_AsphShn</th>                                              <td> 2234.8265</td> <td> 2.86e+04</td> <td>    0.078</td> <td> 0.938</td> <td> -5.4e+04</td> <td> 5.85e+04</td>\n",
       "</tr>\n",
       "<tr>\n",
       "  <th>Exterior1st_BrkComm</th>                                              <td> -514.7495</td> <td>  2.2e+04</td> <td>   -0.023</td> <td> 0.981</td> <td>-4.36e+04</td> <td> 4.26e+04</td>\n",
       "</tr>\n",
       "<tr>\n",
       "  <th>Exterior1st_BrkFace</th>                                              <td> 1.511e+04</td> <td> 6335.400</td> <td>    2.385</td> <td> 0.017</td> <td> 2671.119</td> <td> 2.75e+04</td>\n",
       "</tr>\n",
       "<tr>\n",
       "  <th>Exterior1st_CBlock</th>                                               <td> 8.358e-12</td> <td> 2.46e-11</td> <td>    0.340</td> <td> 0.734</td> <td>-3.99e-11</td> <td> 5.67e-11</td>\n",
       "</tr>\n",
       "<tr>\n",
       "  <th>Exterior1st_CemntBd</th>                                              <td>-1.601e+04</td> <td> 1.94e+04</td> <td>   -0.825</td> <td> 0.410</td> <td>-5.41e+04</td> <td> 2.21e+04</td>\n",
       "</tr>\n",
       "<tr>\n",
       "  <th>Exterior1st_HdBoard</th>                                              <td>-2893.6627</td> <td> 5619.800</td> <td>   -0.515</td> <td> 0.607</td> <td>-1.39e+04</td> <td> 8138.746</td>\n",
       "</tr>\n",
       "<tr>\n",
       "  <th>Exterior1st_ImStucc</th>                                              <td> 8966.0068</td> <td> 2.07e+04</td> <td>    0.432</td> <td> 0.666</td> <td>-3.17e+04</td> <td> 4.97e+04</td>\n",
       "</tr>\n",
       "<tr>\n",
       "  <th>Exterior1st_MetalSd</th>                                              <td> 4490.7549</td> <td> 9009.121</td> <td>    0.498</td> <td> 0.618</td> <td>-1.32e+04</td> <td> 2.22e+04</td>\n",
       "</tr>\n",
       "<tr>\n",
       "  <th>Exterior1st_Plywood</th>                                              <td>-1779.3039</td> <td> 5785.090</td> <td>   -0.308</td> <td> 0.758</td> <td>-1.31e+04</td> <td> 9577.592</td>\n",
       "</tr>\n",
       "<tr>\n",
       "  <th>Exterior1st_Stone</th>                                                <td> 3.008e-11</td> <td> 2.84e-11</td> <td>    1.059</td> <td> 0.290</td> <td>-2.57e-11</td> <td> 8.59e-11</td>\n",
       "</tr>\n",
       "<tr>\n",
       "  <th>Exterior1st_Stucco</th>                                               <td> 6726.4498</td> <td> 9209.428</td> <td>    0.730</td> <td> 0.465</td> <td>-1.14e+04</td> <td> 2.48e+04</td>\n",
       "</tr>\n",
       "<tr>\n",
       "  <th>Exterior1st_VinylSd</th>                                              <td> 1901.5282</td> <td> 7381.907</td> <td>    0.258</td> <td> 0.797</td> <td>-1.26e+04</td> <td> 1.64e+04</td>\n",
       "</tr>\n",
       "<tr>\n",
       "  <th>Exterior1st_Wd Sdng</th>                                              <td>-7327.5930</td> <td> 5817.176</td> <td>   -1.260</td> <td> 0.208</td> <td>-1.87e+04</td> <td> 4092.291</td>\n",
       "</tr>\n",
       "<tr>\n",
       "  <th>Exterior1st_WdShing</th>                                              <td> 3915.2003</td> <td> 7099.358</td> <td>    0.551</td> <td> 0.581</td> <td>   -1e+04</td> <td> 1.79e+04</td>\n",
       "</tr>\n",
       "<tr>\n",
       "  <th>Exterior2nd_AsbShng</th>                                              <td> 1524.6974</td> <td>  1.2e+04</td> <td>    0.127</td> <td> 0.899</td> <td> -2.2e+04</td> <td>  2.5e+04</td>\n",
       "</tr>\n",
       "<tr>\n",
       "  <th>Exterior2nd_AsphShn</th>                                              <td> 3574.8608</td> <td> 2.14e+04</td> <td>    0.167</td> <td> 0.867</td> <td>-3.85e+04</td> <td> 4.56e+04</td>\n",
       "</tr>\n",
       "<tr>\n",
       "  <th>Exterior2nd_Brk Cmn</th>                                              <td> 5007.3864</td> <td> 1.46e+04</td> <td>    0.344</td> <td> 0.731</td> <td>-2.36e+04</td> <td> 3.36e+04</td>\n",
       "</tr>\n",
       "<tr>\n",
       "  <th>Exterior2nd_BrkFace</th>                                              <td>  300.5621</td> <td> 7247.303</td> <td>    0.041</td> <td> 0.967</td> <td>-1.39e+04</td> <td> 1.45e+04</td>\n",
       "</tr>\n",
       "<tr>\n",
       "  <th>Exterior2nd_CBlock</th>                                               <td>-1.915e-11</td> <td>  2.3e-11</td> <td>   -0.833</td> <td> 0.405</td> <td>-6.43e-11</td> <td>  2.6e-11</td>\n",
       "</tr>\n",
       "<tr>\n",
       "  <th>Exterior2nd_CmentBd</th>                                              <td>  2.56e+04</td> <td> 1.99e+04</td> <td>    1.288</td> <td> 0.198</td> <td>-1.34e+04</td> <td> 6.46e+04</td>\n",
       "</tr>\n",
       "<tr>\n",
       "  <th>Exterior2nd_HdBoard</th>                                              <td>  670.0443</td> <td> 5038.715</td> <td>    0.133</td> <td> 0.894</td> <td>-9221.619</td> <td> 1.06e+04</td>\n",
       "</tr>\n",
       "<tr>\n",
       "  <th>Exterior2nd_ImStucc</th>                                              <td>-4309.8335</td> <td> 9421.683</td> <td>   -0.457</td> <td> 0.647</td> <td>-2.28e+04</td> <td> 1.42e+04</td>\n",
       "</tr>\n",
       "<tr>\n",
       "  <th>Exterior2nd_MetalSd</th>                                              <td>  155.4401</td> <td> 9002.980</td> <td>    0.017</td> <td> 0.986</td> <td>-1.75e+04</td> <td> 1.78e+04</td>\n",
       "</tr>\n",
       "<tr>\n",
       "  <th>Exterior2nd_Other</th>                                                <td>-1.971e+04</td> <td> 1.92e+04</td> <td>   -1.028</td> <td> 0.304</td> <td>-5.74e+04</td> <td> 1.79e+04</td>\n",
       "</tr>\n",
       "<tr>\n",
       "  <th>Exterior2nd_Plywood</th>                                              <td>-3421.6765</td> <td> 4670.947</td> <td>   -0.733</td> <td> 0.464</td> <td>-1.26e+04</td> <td> 5748.008</td>\n",
       "</tr>\n",
       "<tr>\n",
       "  <th>Exterior2nd_Stone</th>                                                <td> 1469.1215</td> <td> 1.25e+04</td> <td>    0.118</td> <td> 0.906</td> <td> -2.3e+04</td> <td>  2.6e+04</td>\n",
       "</tr>\n",
       "<tr>\n",
       "  <th>Exterior2nd_Stucco</th>                                               <td> -373.9373</td> <td> 9039.073</td> <td>   -0.041</td> <td> 0.967</td> <td>-1.81e+04</td> <td> 1.74e+04</td>\n",
       "</tr>\n",
       "<tr>\n",
       "  <th>Exterior2nd_VinylSd</th>                                              <td> -433.5413</td> <td> 6475.340</td> <td>   -0.067</td> <td> 0.947</td> <td>-1.31e+04</td> <td> 1.23e+04</td>\n",
       "</tr>\n",
       "<tr>\n",
       "  <th>Exterior2nd_Wd Sdng</th>                                              <td> 1.046e+04</td> <td> 5157.899</td> <td>    2.029</td> <td> 0.043</td> <td>  337.910</td> <td> 2.06e+04</td>\n",
       "</tr>\n",
       "<tr>\n",
       "  <th>Exterior2nd_Wd Shng</th>                                              <td>-3408.1883</td> <td> 6157.247</td> <td>   -0.554</td> <td> 0.580</td> <td>-1.55e+04</td> <td> 8679.300</td>\n",
       "</tr>\n",
       "<tr>\n",
       "  <th>MasVnrType_BrkCmn</th>                                                <td> -121.1223</td> <td> 5182.168</td> <td>   -0.023</td> <td> 0.981</td> <td>-1.03e+04</td> <td> 1.01e+04</td>\n",
       "</tr>\n",
       "<tr>\n",
       "  <th>MasVnrType_BrkFace</th>                                               <td> 5846.7912</td> <td> 2076.511</td> <td>    2.816</td> <td> 0.005</td> <td> 1770.327</td> <td> 9923.256</td>\n",
       "</tr>\n",
       "<tr>\n",
       "  <th>MasVnrType_None</th>                                                  <td> 2835.4952</td> <td> 2378.081</td> <td>    1.192</td> <td> 0.234</td> <td>-1832.993</td> <td> 7503.983</td>\n",
       "</tr>\n",
       "<tr>\n",
       "  <th>MasVnrType_Stone</th>                                                 <td> 8546.7364</td> <td> 2685.731</td> <td>    3.182</td> <td> 0.002</td> <td> 3274.292</td> <td> 1.38e+04</td>\n",
       "</tr>\n",
       "<tr>\n",
       "  <th>ExterQual_Ex</th>                                                     <td> 6423.1618</td> <td> 5850.111</td> <td>    1.098</td> <td> 0.273</td> <td>-5061.378</td> <td> 1.79e+04</td>\n",
       "</tr>\n",
       "<tr>\n",
       "  <th>ExterQual_Fa</th>                                                     <td> 9621.4482</td> <td> 1.25e+04</td> <td>    0.772</td> <td> 0.440</td> <td>-1.48e+04</td> <td> 3.41e+04</td>\n",
       "</tr>\n",
       "<tr>\n",
       "  <th>ExterQual_Gd</th>                                                     <td> 1073.4793</td> <td> 4635.706</td> <td>    0.232</td> <td> 0.817</td> <td>-8027.023</td> <td> 1.02e+04</td>\n",
       "</tr>\n",
       "<tr>\n",
       "  <th>ExterQual_TA</th>                                                     <td>  -10.1888</td> <td> 4589.524</td> <td>   -0.002</td> <td> 0.998</td> <td>-9020.030</td> <td> 8999.653</td>\n",
       "</tr>\n",
       "<tr>\n",
       "  <th>ExterCond_Ex</th>                                                     <td>  1.13e+04</td> <td> 1.15e+04</td> <td>    0.986</td> <td> 0.325</td> <td>-1.12e+04</td> <td> 3.38e+04</td>\n",
       "</tr>\n",
       "<tr>\n",
       "  <th>ExterCond_Fa</th>                                                     <td> 1050.2348</td> <td> 5965.819</td> <td>    0.176</td> <td> 0.860</td> <td>-1.07e+04</td> <td> 1.28e+04</td>\n",
       "</tr>\n",
       "<tr>\n",
       "  <th>ExterCond_Gd</th>                                                     <td>  186.4912</td> <td> 4245.110</td> <td>    0.044</td> <td> 0.965</td> <td>-8147.221</td> <td> 8520.203</td>\n",
       "</tr>\n",
       "<tr>\n",
       "  <th>ExterCond_Po</th>                                                     <td>-2.221e-11</td> <td> 1.63e-11</td> <td>   -1.364</td> <td> 0.173</td> <td>-5.42e-11</td> <td> 9.77e-12</td>\n",
       "</tr>\n",
       "<tr>\n",
       "  <th>ExterCond_TA</th>                                                     <td> 4568.6266</td> <td> 4118.186</td> <td>    1.109</td> <td> 0.268</td> <td>-3515.916</td> <td> 1.27e+04</td>\n",
       "</tr>\n",
       "<tr>\n",
       "  <th>Foundation_BrkTil</th>                                                <td> 3715.0486</td> <td> 5031.396</td> <td>    0.738</td> <td> 0.461</td> <td>-6162.246</td> <td> 1.36e+04</td>\n",
       "</tr>\n",
       "<tr>\n",
       "  <th>Foundation_CBlock</th>                                                <td> 5541.6832</td> <td> 4549.511</td> <td>    1.218</td> <td> 0.224</td> <td>-3389.607</td> <td> 1.45e+04</td>\n",
       "</tr>\n",
       "<tr>\n",
       "  <th>Foundation_PConc</th>                                                 <td> 6897.4073</td> <td> 4626.500</td> <td>    1.491</td> <td> 0.136</td> <td>-2185.023</td> <td>  1.6e+04</td>\n",
       "</tr>\n",
       "<tr>\n",
       "  <th>Foundation_Slab</th>                                                  <td> 6260.6674</td> <td> 9318.315</td> <td>    0.672</td> <td> 0.502</td> <td> -1.2e+04</td> <td> 2.46e+04</td>\n",
       "</tr>\n",
       "<tr>\n",
       "  <th>Foundation_Stone</th>                                                 <td> 2.185e+04</td> <td> 1.32e+04</td> <td>    1.656</td> <td> 0.098</td> <td>-4059.703</td> <td> 4.78e+04</td>\n",
       "</tr>\n",
       "<tr>\n",
       "  <th>Foundation_Wood</th>                                                  <td>-2.716e+04</td> <td> 1.67e+04</td> <td>   -1.625</td> <td> 0.105</td> <td>   -6e+04</td> <td> 5658.666</td>\n",
       "</tr>\n",
       "<tr>\n",
       "  <th>BsmtQual_Ex</th>                                                      <td> 9953.2885</td> <td> 3361.731</td> <td>    2.961</td> <td> 0.003</td> <td> 3353.767</td> <td> 1.66e+04</td>\n",
       "</tr>\n",
       "<tr>\n",
       "  <th>BsmtQual_Fa</th>                                                      <td> 7589.6364</td> <td> 4090.386</td> <td>    1.855</td> <td> 0.064</td> <td> -440.332</td> <td> 1.56e+04</td>\n",
       "</tr>\n",
       "<tr>\n",
       "  <th>BsmtQual_Gd</th>                                                      <td>-3735.5674</td> <td> 2167.930</td> <td>   -1.723</td> <td> 0.085</td> <td>-7991.500</td> <td>  520.366</td>\n",
       "</tr>\n",
       "<tr>\n",
       "  <th>BsmtQual_NoBasement</th>                                              <td> 4137.4517</td> <td> 1826.324</td> <td>    2.265</td> <td> 0.024</td> <td>  552.137</td> <td> 7722.767</td>\n",
       "</tr>\n",
       "<tr>\n",
       "  <th>BsmtQual_TA</th>                                                      <td> -836.9086</td> <td> 2115.669</td> <td>   -0.396</td> <td> 0.693</td> <td>-4990.247</td> <td> 3316.429</td>\n",
       "</tr>\n",
       "<tr>\n",
       "  <th>BsmtCond_Fa</th>                                                      <td> 1700.1266</td> <td> 5691.759</td> <td>    0.299</td> <td> 0.765</td> <td>-9473.548</td> <td> 1.29e+04</td>\n",
       "</tr>\n",
       "<tr>\n",
       "  <th>BsmtCond_Gd</th>                                                      <td> 3893.6668</td> <td> 5363.925</td> <td>    0.726</td> <td> 0.468</td> <td>-6636.426</td> <td> 1.44e+04</td>\n",
       "</tr>\n",
       "<tr>\n",
       "  <th>BsmtCond_NoBasement</th>                                              <td> 4137.4517</td> <td> 1826.324</td> <td>    2.265</td> <td> 0.024</td> <td>  552.137</td> <td> 7722.767</td>\n",
       "</tr>\n",
       "<tr>\n",
       "  <th>BsmtCond_Po</th>                                                      <td> 1448.6251</td> <td> 1.47e+04</td> <td>    0.099</td> <td> 0.922</td> <td>-2.74e+04</td> <td> 3.03e+04</td>\n",
       "</tr>\n",
       "<tr>\n",
       "  <th>BsmtCond_TA</th>                                                      <td> 5928.0303</td> <td> 4882.009</td> <td>    1.214</td> <td> 0.225</td> <td>-3655.997</td> <td> 1.55e+04</td>\n",
       "</tr>\n",
       "<tr>\n",
       "  <th>BsmtExposure_Av</th>                                                  <td> 3267.0640</td> <td> 1710.437</td> <td>    1.910</td> <td> 0.057</td> <td>  -90.750</td> <td> 6624.877</td>\n",
       "</tr>\n",
       "<tr>\n",
       "  <th>BsmtExposure_Gd</th>                                                  <td> 1.375e+04</td> <td> 2346.924</td> <td>    5.860</td> <td> 0.000</td> <td> 9145.115</td> <td> 1.84e+04</td>\n",
       "</tr>\n",
       "<tr>\n",
       "  <th>BsmtExposure_Mn</th>                                                  <td>-2306.2409</td> <td> 2149.763</td> <td>   -1.073</td> <td> 0.284</td> <td>-6526.509</td> <td> 1914.027</td>\n",
       "</tr>\n",
       "<tr>\n",
       "  <th>BsmtExposure_No</th>                                                  <td>-1742.8113</td> <td> 1482.432</td> <td>   -1.176</td> <td> 0.240</td> <td>-4653.022</td> <td> 1167.399</td>\n",
       "</tr>\n",
       "<tr>\n",
       "  <th>BsmtExposure_NoBasement</th>                                          <td> 4137.4517</td> <td> 1826.324</td> <td>    2.265</td> <td> 0.024</td> <td>  552.137</td> <td> 7722.767</td>\n",
       "</tr>\n",
       "<tr>\n",
       "  <th>BsmtFinType1_ALQ</th>                                                 <td> 1084.7122</td> <td> 1838.484</td> <td>    0.590</td> <td> 0.555</td> <td>-2524.475</td> <td> 4693.899</td>\n",
       "</tr>\n",
       "<tr>\n",
       "  <th>BsmtFinType1_BLQ</th>                                                 <td> 1775.9884</td> <td> 2023.022</td> <td>    0.878</td> <td> 0.380</td> <td>-2195.471</td> <td> 5747.448</td>\n",
       "</tr>\n",
       "<tr>\n",
       "  <th>BsmtFinType1_GLQ</th>                                                 <td> 8240.0158</td> <td> 1876.332</td> <td>    4.392</td> <td> 0.000</td> <td> 4556.528</td> <td> 1.19e+04</td>\n",
       "</tr>\n",
       "<tr>\n",
       "  <th>BsmtFinType1_LwQ</th>                                                 <td>-3072.5259</td> <td> 3022.171</td> <td>   -1.017</td> <td> 0.310</td> <td>-9005.447</td> <td> 2860.396</td>\n",
       "</tr>\n",
       "<tr>\n",
       "  <th>BsmtFinType1_NoBasement</th>                                          <td> 4137.4517</td> <td> 1826.324</td> <td>    2.265</td> <td> 0.024</td> <td>  552.137</td> <td> 7722.767</td>\n",
       "</tr>\n",
       "<tr>\n",
       "  <th>BsmtFinType1_Rec</th>                                                 <td> 1846.3257</td> <td> 2189.520</td> <td>    0.843</td> <td> 0.399</td> <td>-2451.992</td> <td> 6144.643</td>\n",
       "</tr>\n",
       "<tr>\n",
       "  <th>BsmtFinType1_Unf</th>                                                 <td> 3095.9326</td> <td> 2055.934</td> <td>    1.506</td> <td> 0.133</td> <td> -940.137</td> <td> 7132.003</td>\n",
       "</tr>\n",
       "<tr>\n",
       "  <th>BsmtFinType2_ALQ</th>                                                 <td> 9682.1601</td> <td> 5892.593</td> <td>    1.643</td> <td> 0.101</td> <td>-1885.777</td> <td> 2.13e+04</td>\n",
       "</tr>\n",
       "<tr>\n",
       "  <th>BsmtFinType2_BLQ</th>                                                 <td>-4457.7578</td> <td> 4029.338</td> <td>   -1.106</td> <td> 0.269</td> <td>-1.24e+04</td> <td> 3452.364</td>\n",
       "</tr>\n",
       "<tr>\n",
       "  <th>BsmtFinType2_GLQ</th>                                                 <td> 1.116e+04</td> <td> 6562.591</td> <td>    1.700</td> <td> 0.089</td> <td>-1723.840</td> <td>  2.4e+04</td>\n",
       "</tr>\n",
       "<tr>\n",
       "  <th>BsmtFinType2_LwQ</th>                                                 <td> -641.2690</td> <td> 3715.326</td> <td>   -0.173</td> <td> 0.863</td> <td>-7934.944</td> <td> 6652.406</td>\n",
       "</tr>\n",
       "<tr>\n",
       "  <th>BsmtFinType2_NoBasement</th>                                          <td> 4137.4517</td> <td> 1826.324</td> <td>    2.265</td> <td> 0.024</td> <td>  552.137</td> <td> 7722.767</td>\n",
       "</tr>\n",
       "<tr>\n",
       "  <th>BsmtFinType2_Rec</th>                                                 <td>-3389.4762</td> <td> 3576.003</td> <td>   -0.948</td> <td> 0.344</td> <td>-1.04e+04</td> <td> 3630.689</td>\n",
       "</tr>\n",
       "<tr>\n",
       "  <th>BsmtFinType2_Unf</th>                                                 <td>  617.3988</td> <td> 3337.820</td> <td>    0.185</td> <td> 0.853</td> <td>-5935.183</td> <td> 7169.980</td>\n",
       "</tr>\n",
       "<tr>\n",
       "  <th>Heating_Floor</th>                                                    <td>-1570.2410</td> <td> 1.82e+04</td> <td>   -0.086</td> <td> 0.931</td> <td>-3.73e+04</td> <td> 3.42e+04</td>\n",
       "</tr>\n",
       "<tr>\n",
       "  <th>Heating_GasA</th>                                                     <td> 6686.1786</td> <td> 6453.414</td> <td>    1.036</td> <td> 0.301</td> <td>-5982.726</td> <td> 1.94e+04</td>\n",
       "</tr>\n",
       "<tr>\n",
       "  <th>Heating_GasW</th>                                                     <td>  -20.2348</td> <td> 8241.277</td> <td>   -0.002</td> <td> 0.998</td> <td>-1.62e+04</td> <td> 1.62e+04</td>\n",
       "</tr>\n",
       "<tr>\n",
       "  <th>Heating_Grav</th>                                                     <td>-3089.1852</td> <td> 1.23e+04</td> <td>   -0.251</td> <td> 0.802</td> <td>-2.73e+04</td> <td> 2.11e+04</td>\n",
       "</tr>\n",
       "<tr>\n",
       "  <th>Heating_OthW</th>                                                     <td>-2.319e-13</td> <td> 5.13e-12</td> <td>   -0.045</td> <td> 0.964</td> <td>-1.03e-11</td> <td> 9.84e-12</td>\n",
       "</tr>\n",
       "<tr>\n",
       "  <th>Heating_Wall</th>                                                     <td>  1.51e+04</td> <td> 1.18e+04</td> <td>    1.276</td> <td> 0.202</td> <td>-8124.765</td> <td> 3.83e+04</td>\n",
       "</tr>\n",
       "<tr>\n",
       "  <th>HeatingQC_Ex</th>                                                     <td> 5408.8343</td> <td> 1927.927</td> <td>    2.806</td> <td> 0.005</td> <td> 1624.060</td> <td> 9193.609</td>\n",
       "</tr>\n",
       "<tr>\n",
       "  <th>HeatingQC_Fa</th>                                                     <td> 4985.9120</td> <td> 3787.088</td> <td>    1.317</td> <td> 0.188</td> <td>-2448.643</td> <td> 1.24e+04</td>\n",
       "</tr>\n",
       "<tr>\n",
       "  <th>HeatingQC_Gd</th>                                                     <td> 3977.5147</td> <td> 2041.877</td> <td>    1.948</td> <td> 0.052</td> <td>  -30.960</td> <td> 7985.989</td>\n",
       "</tr>\n",
       "<tr>\n",
       "  <th>HeatingQC_Po</th>                                                     <td> 4.225e-12</td> <td> 6.21e-12</td> <td>    0.681</td> <td> 0.496</td> <td>-7.96e-12</td> <td> 1.64e-11</td>\n",
       "</tr>\n",
       "<tr>\n",
       "  <th>HeatingQC_TA</th>                                                     <td> 2735.6396</td> <td> 1830.960</td> <td>    1.494</td> <td> 0.136</td> <td> -858.777</td> <td> 6330.056</td>\n",
       "</tr>\n",
       "<tr>\n",
       "  <th>CentralAir_N</th>                                                     <td> 9318.2734</td> <td> 2467.995</td> <td>    3.776</td> <td> 0.000</td> <td> 4473.274</td> <td> 1.42e+04</td>\n",
       "</tr>\n",
       "<tr>\n",
       "  <th>CentralAir_Y</th>                                                     <td> 7789.6271</td> <td> 2607.362</td> <td>    2.988</td> <td> 0.003</td> <td> 2671.031</td> <td> 1.29e+04</td>\n",
       "</tr>\n",
       "<tr>\n",
       "  <th>Electrical_FuseA</th>                                                 <td> -985.8554</td> <td>  1.1e+04</td> <td>   -0.089</td> <td> 0.929</td> <td>-2.27e+04</td> <td> 2.07e+04</td>\n",
       "</tr>\n",
       "<tr>\n",
       "  <th>Electrical_FuseF</th>                                                 <td>-1997.5116</td> <td> 1.12e+04</td> <td>   -0.178</td> <td> 0.859</td> <td>-2.41e+04</td> <td> 2.01e+04</td>\n",
       "</tr>\n",
       "<tr>\n",
       "  <th>Electrical_FuseP</th>                                                 <td> 2047.7829</td> <td> 1.98e+04</td> <td>    0.103</td> <td> 0.918</td> <td>-3.68e+04</td> <td> 4.09e+04</td>\n",
       "</tr>\n",
       "<tr>\n",
       "  <th>Electrical_Mix</th>                                                   <td> 1.885e+04</td> <td> 2.51e+04</td> <td>    0.750</td> <td> 0.454</td> <td>-3.05e+04</td> <td> 6.82e+04</td>\n",
       "</tr>\n",
       "<tr>\n",
       "  <th>Electrical_SBrkr</th>                                                 <td> -807.3062</td> <td> 1.09e+04</td> <td>   -0.074</td> <td> 0.941</td> <td>-2.22e+04</td> <td> 2.06e+04</td>\n",
       "</tr>\n",
       "<tr>\n",
       "  <th>KitchenQual_Ex</th>                                                   <td> 1.609e+04</td> <td> 3221.701</td> <td>    4.994</td> <td> 0.000</td> <td> 9764.886</td> <td> 2.24e+04</td>\n",
       "</tr>\n",
       "<tr>\n",
       "  <th>KitchenQual_Fa</th>                                                   <td> 1937.4654</td> <td> 4175.132</td> <td>    0.464</td> <td> 0.643</td> <td>-6258.870</td> <td> 1.01e+04</td>\n",
       "</tr>\n",
       "<tr>\n",
       "  <th>KitchenQual_Gd</th>                                                   <td> -772.3439</td> <td> 2111.581</td> <td>   -0.366</td> <td> 0.715</td> <td>-4917.657</td> <td> 3372.969</td>\n",
       "</tr>\n",
       "<tr>\n",
       "  <th>KitchenQual_TA</th>                                                   <td> -146.7319</td> <td> 2016.840</td> <td>   -0.073</td> <td> 0.942</td> <td>-4106.056</td> <td> 3812.592</td>\n",
       "</tr>\n",
       "<tr>\n",
       "  <th>Functional_Maj1</th>                                                  <td> 8864.6450</td> <td> 8139.783</td> <td>    1.089</td> <td> 0.276</td> <td>-7114.824</td> <td> 2.48e+04</td>\n",
       "</tr>\n",
       "<tr>\n",
       "  <th>Functional_Maj2</th>                                                  <td>-9471.9355</td> <td> 1.76e+04</td> <td>   -0.539</td> <td> 0.590</td> <td> -4.4e+04</td> <td>  2.5e+04</td>\n",
       "</tr>\n",
       "<tr>\n",
       "  <th>Functional_Min1</th>                                                  <td> 5460.9173</td> <td> 5410.591</td> <td>    1.009</td> <td> 0.313</td> <td>-5160.787</td> <td> 1.61e+04</td>\n",
       "</tr>\n",
       "<tr>\n",
       "  <th>Functional_Min2</th>                                                  <td> 4258.6272</td> <td> 5629.092</td> <td>    0.757</td> <td> 0.450</td> <td>-6792.023</td> <td> 1.53e+04</td>\n",
       "</tr>\n",
       "<tr>\n",
       "  <th>Functional_Mod</th>                                                   <td>-1.045e+04</td> <td> 9085.564</td> <td>   -1.150</td> <td> 0.251</td> <td>-2.83e+04</td> <td> 7387.949</td>\n",
       "</tr>\n",
       "<tr>\n",
       "  <th>Functional_Sev</th>                                                   <td>         0</td> <td>        0</td> <td>      nan</td> <td>   nan</td> <td>        0</td> <td>        0</td>\n",
       "</tr>\n",
       "<tr>\n",
       "  <th>Functional_Typ</th>                                                   <td> 1.844e+04</td> <td> 4370.680</td> <td>    4.220</td> <td> 0.000</td> <td> 9863.637</td> <td>  2.7e+04</td>\n",
       "</tr>\n",
       "<tr>\n",
       "  <th>FireplaceQu_Ex</th>                                                   <td>-1.556e+04</td> <td> 5981.856</td> <td>   -2.600</td> <td> 0.009</td> <td>-2.73e+04</td> <td>-3812.082</td>\n",
       "</tr>\n",
       "<tr>\n",
       "  <th>FireplaceQu_Fa</th>                                                   <td>  204.1922</td> <td> 4037.702</td> <td>    0.051</td> <td> 0.960</td> <td>-7722.351</td> <td> 8130.735</td>\n",
       "</tr>\n",
       "<tr>\n",
       "  <th>FireplaceQu_Gd</th>                                                   <td> 6674.8877</td> <td> 2281.672</td> <td>    2.925</td> <td> 0.004</td> <td> 2195.663</td> <td> 1.12e+04</td>\n",
       "</tr>\n",
       "<tr>\n",
       "  <th>FireplaceQu_NoFireplace</th>                                          <td> 6263.4837</td> <td> 3232.227</td> <td>    1.938</td> <td> 0.053</td> <td>  -81.805</td> <td> 1.26e+04</td>\n",
       "</tr>\n",
       "<tr>\n",
       "  <th>FireplaceQu_Po</th>                                                   <td> 1.409e+04</td> <td> 5388.322</td> <td>    2.615</td> <td> 0.009</td> <td> 3509.881</td> <td> 2.47e+04</td>\n",
       "</tr>\n",
       "<tr>\n",
       "  <th>FireplaceQu_TA</th>                                                   <td> 5432.7229</td> <td> 2321.116</td> <td>    2.341</td> <td> 0.020</td> <td>  876.066</td> <td> 9989.380</td>\n",
       "</tr>\n",
       "<tr>\n",
       "  <th>GarageType_2Types</th>                                                <td>-1.005e+04</td> <td> 1.23e+04</td> <td>   -0.820</td> <td> 0.412</td> <td>-3.41e+04</td> <td>  1.4e+04</td>\n",
       "</tr>\n",
       "<tr>\n",
       "  <th>GarageType_Attchd</th>                                                <td> 6638.7151</td> <td> 4380.054</td> <td>    1.516</td> <td> 0.130</td> <td>-1959.909</td> <td> 1.52e+04</td>\n",
       "</tr>\n",
       "<tr>\n",
       "  <th>GarageType_Basment</th>                                               <td> 7339.6627</td> <td> 7064.493</td> <td>    1.039</td> <td> 0.299</td> <td>-6528.869</td> <td> 2.12e+04</td>\n",
       "</tr>\n",
       "<tr>\n",
       "  <th>GarageType_BuiltIn</th>                                               <td> 8260.4434</td> <td> 5443.209</td> <td>    1.518</td> <td> 0.130</td> <td>-2425.295</td> <td> 1.89e+04</td>\n",
       "</tr>\n",
       "<tr>\n",
       "  <th>GarageType_CarPort</th>                                               <td>-8599.6981</td> <td> 1.76e+04</td> <td>   -0.487</td> <td> 0.626</td> <td>-4.32e+04</td> <td>  2.6e+04</td>\n",
       "</tr>\n",
       "<tr>\n",
       "  <th>GarageType_Detchd</th>                                                <td> 8642.5005</td> <td> 4425.482</td> <td>    1.953</td> <td> 0.051</td> <td>  -45.304</td> <td> 1.73e+04</td>\n",
       "</tr>\n",
       "<tr>\n",
       "  <th>GarageType_NoGarage</th>                                              <td> 4880.5404</td> <td> 2209.432</td> <td>    2.209</td> <td> 0.027</td> <td>  543.133</td> <td> 9217.948</td>\n",
       "</tr>\n",
       "<tr>\n",
       "  <th>GarageFinish_Fin</th>                                                 <td> 2912.7226</td> <td> 1577.058</td> <td>    1.847</td> <td> 0.065</td> <td> -183.251</td> <td> 6008.696</td>\n",
       "</tr>\n",
       "<tr>\n",
       "  <th>GarageFinish_NoGarage</th>                                            <td> 4880.5404</td> <td> 2209.432</td> <td>    2.209</td> <td> 0.027</td> <td>  543.133</td> <td> 9217.948</td>\n",
       "</tr>\n",
       "<tr>\n",
       "  <th>GarageFinish_RFn</th>                                                 <td> 5059.6147</td> <td> 1454.813</td> <td>    3.478</td> <td> 0.001</td> <td> 2203.625</td> <td> 7915.605</td>\n",
       "</tr>\n",
       "<tr>\n",
       "  <th>GarageFinish_Unf</th>                                                 <td> 4255.0229</td> <td> 1657.795</td> <td>    2.567</td> <td> 0.010</td> <td> 1000.552</td> <td> 7509.494</td>\n",
       "</tr>\n",
       "<tr>\n",
       "  <th>GarageQual_Ex</th>                                                    <td> 9262.6596</td> <td> 6957.592</td> <td>    1.331</td> <td> 0.183</td> <td>-4396.011</td> <td> 2.29e+04</td>\n",
       "</tr>\n",
       "<tr>\n",
       "  <th>GarageQual_Fa</th>                                                    <td> 2837.5237</td> <td>    1e+04</td> <td>    0.283</td> <td> 0.777</td> <td>-1.69e+04</td> <td> 2.25e+04</td>\n",
       "</tr>\n",
       "<tr>\n",
       "  <th>GarageQual_Gd</th>                                                    <td> 6179.3782</td> <td> 1.16e+04</td> <td>    0.531</td> <td> 0.596</td> <td>-1.67e+04</td> <td>  2.9e+04</td>\n",
       "</tr>\n",
       "<tr>\n",
       "  <th>GarageQual_No Garage</th>                                             <td> 4880.5404</td> <td> 2209.432</td> <td>    2.209</td> <td> 0.027</td> <td>  543.133</td> <td> 9217.948</td>\n",
       "</tr>\n",
       "<tr>\n",
       "  <th>GarageQual_Po</th>                                                    <td>-1.262e+04</td> <td> 3.23e+04</td> <td>   -0.391</td> <td> 0.696</td> <td> -7.6e+04</td> <td> 5.08e+04</td>\n",
       "</tr>\n",
       "<tr>\n",
       "  <th>GarageQual_TA</th>                                                    <td> 6566.4845</td> <td> 9866.606</td> <td>    0.666</td> <td> 0.506</td> <td>-1.28e+04</td> <td> 2.59e+04</td>\n",
       "</tr>\n",
       "<tr>\n",
       "  <th>GarageCond_Ex</th>                                                    <td> 9262.6596</td> <td> 6957.592</td> <td>    1.331</td> <td> 0.183</td> <td>-4396.011</td> <td> 2.29e+04</td>\n",
       "</tr>\n",
       "<tr>\n",
       "  <th>GarageCond_Fa</th>                                                    <td>-5486.2071</td> <td> 6280.047</td> <td>   -0.874</td> <td> 0.383</td> <td>-1.78e+04</td> <td> 6842.354</td>\n",
       "</tr>\n",
       "<tr>\n",
       "  <th>GarageCond_Gd</th>                                                    <td> 1.297e+04</td> <td> 9838.460</td> <td>    1.319</td> <td> 0.188</td> <td>-6341.262</td> <td> 3.23e+04</td>\n",
       "</tr>\n",
       "<tr>\n",
       "  <th>GarageCond_NoGarage</th>                                              <td> 4880.5404</td> <td> 2209.432</td> <td>    2.209</td> <td> 0.027</td> <td>  543.133</td> <td> 9217.948</td>\n",
       "</tr>\n",
       "<tr>\n",
       "  <th>GarageCond_Po</th>                                                    <td>-7091.4193</td> <td> 1.25e+04</td> <td>   -0.565</td> <td> 0.572</td> <td>-3.17e+04</td> <td> 1.75e+04</td>\n",
       "</tr>\n",
       "<tr>\n",
       "  <th>GarageCond_TA</th>                                                    <td> 2569.3932</td> <td> 5383.232</td> <td>    0.477</td> <td> 0.633</td> <td>-7998.603</td> <td> 1.31e+04</td>\n",
       "</tr>\n",
       "<tr>\n",
       "  <th>PavedDrive_N</th>                                                     <td> 9000.1217</td> <td> 2796.530</td> <td>    3.218</td> <td> 0.001</td> <td> 3510.164</td> <td> 1.45e+04</td>\n",
       "</tr>\n",
       "<tr>\n",
       "  <th>PavedDrive_P</th>                                                     <td>  186.4180</td> <td> 3443.875</td> <td>    0.054</td> <td> 0.957</td> <td>-6574.364</td> <td> 6947.200</td>\n",
       "</tr>\n",
       "<tr>\n",
       "  <th>PavedDrive_Y</th>                                                     <td> 7921.3608</td> <td> 2201.889</td> <td>    3.598</td> <td> 0.000</td> <td> 3598.762</td> <td> 1.22e+04</td>\n",
       "</tr>\n",
       "<tr>\n",
       "  <th>PoolQC_Ex</th>                                                        <td>         0</td> <td>        0</td> <td>      nan</td> <td>   nan</td> <td>        0</td> <td>        0</td>\n",
       "</tr>\n",
       "<tr>\n",
       "  <th>PoolQC_Fa</th>                                                        <td> 1.755e+04</td> <td> 1.08e+04</td> <td>    1.631</td> <td> 0.103</td> <td>-3574.233</td> <td> 3.87e+04</td>\n",
       "</tr>\n",
       "<tr>\n",
       "  <th>PoolQC_Gd</th>                                                        <td>         0</td> <td>        0</td> <td>      nan</td> <td>   nan</td> <td>        0</td> <td>        0</td>\n",
       "</tr>\n",
       "<tr>\n",
       "  <th>PoolQC_NoPool</th>                                                    <td> -439.2511</td> <td> 9709.863</td> <td>   -0.045</td> <td> 0.964</td> <td>-1.95e+04</td> <td> 1.86e+04</td>\n",
       "</tr>\n",
       "<tr>\n",
       "  <th>Fence_GdPrv</th>                                                      <td>-1126.2872</td> <td> 3345.236</td> <td>   -0.337</td> <td> 0.736</td> <td>-7693.427</td> <td> 5440.852</td>\n",
       "</tr>\n",
       "<tr>\n",
       "  <th>Fence_GdWo</th>                                                       <td> 2859.6445</td> <td> 3212.445</td> <td>    0.890</td> <td> 0.374</td> <td>-3446.810</td> <td> 9166.099</td>\n",
       "</tr>\n",
       "<tr>\n",
       "  <th>Fence_MnPrv</th>                                                      <td> 4889.5997</td> <td> 2477.294</td> <td>    1.974</td> <td> 0.049</td> <td>   26.345</td> <td> 9752.855</td>\n",
       "</tr>\n",
       "<tr>\n",
       "  <th>Fence_MnWw</th>                                                       <td> 5883.0951</td> <td> 6354.283</td> <td>    0.926</td> <td> 0.355</td> <td>-6591.201</td> <td> 1.84e+04</td>\n",
       "</tr>\n",
       "<tr>\n",
       "  <th>Fence_NoFence</th>                                                    <td> 4601.8484</td> <td> 2158.889</td> <td>    2.132</td> <td> 0.033</td> <td>  363.664</td> <td> 8840.033</td>\n",
       "</tr>\n",
       "<tr>\n",
       "  <th>MiscFeature_Gar2</th>                                                 <td>         0</td> <td>        0</td> <td>      nan</td> <td>   nan</td> <td>        0</td> <td>        0</td>\n",
       "</tr>\n",
       "<tr>\n",
       "  <th>MiscFeature_None</th>                                                 <td> 7875.8648</td> <td> 5057.634</td> <td>    1.557</td> <td> 0.120</td> <td>-2052.938</td> <td> 1.78e+04</td>\n",
       "</tr>\n",
       "<tr>\n",
       "  <th>MiscFeature_Othr</th>                                                 <td>         0</td> <td>        0</td> <td>      nan</td> <td>   nan</td> <td>        0</td> <td>        0</td>\n",
       "</tr>\n",
       "<tr>\n",
       "  <th>MiscFeature_Shed</th>                                                 <td> 9232.0358</td> <td> 5410.554</td> <td>    1.706</td> <td> 0.088</td> <td>-1389.597</td> <td> 1.99e+04</td>\n",
       "</tr>\n",
       "<tr>\n",
       "  <th>MiscFeature_TenC</th>                                                 <td>         0</td> <td>        0</td> <td>      nan</td> <td>   nan</td> <td>        0</td> <td>        0</td>\n",
       "</tr>\n",
       "<tr>\n",
       "  <th>SaleType_COD</th>                                                     <td> 1887.9527</td> <td> 6038.855</td> <td>    0.313</td> <td> 0.755</td> <td>-9967.118</td> <td> 1.37e+04</td>\n",
       "</tr>\n",
       "<tr>\n",
       "  <th>SaleType_CWD</th>                                                     <td> 7072.2839</td> <td> 9887.092</td> <td>    0.715</td> <td> 0.475</td> <td>-1.23e+04</td> <td> 2.65e+04</td>\n",
       "</tr>\n",
       "<tr>\n",
       "  <th>SaleType_Con</th>                                                     <td> 1.249e+04</td> <td> 1.72e+04</td> <td>    0.726</td> <td> 0.468</td> <td>-2.13e+04</td> <td> 4.63e+04</td>\n",
       "</tr>\n",
       "<tr>\n",
       "  <th>SaleType_ConLD</th>                                                   <td> 1.198e+04</td> <td> 8308.015</td> <td>    1.442</td> <td> 0.150</td> <td>-4326.453</td> <td> 2.83e+04</td>\n",
       "</tr>\n",
       "<tr>\n",
       "  <th>SaleType_ConLI</th>                                                   <td>-5064.5325</td> <td>    1e+04</td> <td>   -0.506</td> <td> 0.613</td> <td>-2.47e+04</td> <td> 1.46e+04</td>\n",
       "</tr>\n",
       "<tr>\n",
       "  <th>SaleType_ConLw</th>                                                   <td>-1.466e+04</td> <td> 1.76e+04</td> <td>   -0.830</td> <td> 0.407</td> <td>-4.93e+04</td> <td>    2e+04</td>\n",
       "</tr>\n",
       "<tr>\n",
       "  <th>SaleType_New</th>                                                     <td> 1915.9807</td> <td> 1.88e+04</td> <td>    0.102</td> <td> 0.919</td> <td> -3.5e+04</td> <td> 3.88e+04</td>\n",
       "</tr>\n",
       "<tr>\n",
       "  <th>SaleType_Oth</th>                                                     <td> 1653.0946</td> <td> 1.36e+04</td> <td>    0.121</td> <td> 0.903</td> <td>-2.51e+04</td> <td> 2.84e+04</td>\n",
       "</tr>\n",
       "<tr>\n",
       "  <th>SaleType_WD</th>                                                      <td> -176.0127</td> <td> 4786.904</td> <td>   -0.037</td> <td> 0.971</td> <td>-9573.337</td> <td> 9221.312</td>\n",
       "</tr>\n",
       "<tr>\n",
       "  <th>SaleCondition_Abnorml</th>                                            <td> 2170.6590</td> <td> 5571.672</td> <td>    0.390</td> <td> 0.697</td> <td>-8767.270</td> <td> 1.31e+04</td>\n",
       "</tr>\n",
       "<tr>\n",
       "  <th>SaleCondition_AdjLand</th>                                            <td> 2.287e+04</td> <td> 1.23e+04</td> <td>    1.866</td> <td> 0.062</td> <td>-1193.432</td> <td> 4.69e+04</td>\n",
       "</tr>\n",
       "<tr>\n",
       "  <th>SaleCondition_Alloca</th>                                             <td>-2.925e+04</td> <td> 1.61e+04</td> <td>   -1.817</td> <td> 0.070</td> <td>-6.09e+04</td> <td> 2347.527</td>\n",
       "</tr>\n",
       "<tr>\n",
       "  <th>SaleCondition_Family</th>                                             <td>-4156.2079</td> <td> 6982.458</td> <td>   -0.595</td> <td> 0.552</td> <td>-1.79e+04</td> <td> 9551.278</td>\n",
       "</tr>\n",
       "<tr>\n",
       "  <th>SaleCondition_Normal</th>                                             <td> 8051.2153</td> <td> 5202.975</td> <td>    1.547</td> <td> 0.122</td> <td>-2162.912</td> <td> 1.83e+04</td>\n",
       "</tr>\n",
       "<tr>\n",
       "  <th>SaleCondition_Partial</th>                                            <td> 1.742e+04</td> <td> 1.81e+04</td> <td>    0.961</td> <td> 0.337</td> <td>-1.82e+04</td> <td>  5.3e+04</td>\n",
       "</tr>\n",
       "</table>\n",
       "<table class=\"simpletable\">\n",
       "<tr>\n",
       "  <th>Omnibus:</th>       <td>181.222</td> <th>  Durbin-Watson:     </th> <td>   2.098</td>\n",
       "</tr>\n",
       "<tr>\n",
       "  <th>Prob(Omnibus):</th> <td> 0.000</td>  <th>  Jarque-Bera (JB):  </th> <td>3666.123</td>\n",
       "</tr>\n",
       "<tr>\n",
       "  <th>Skew:</th>          <td> 0.120</td>  <th>  Prob(JB):          </th> <td>    0.00</td>\n",
       "</tr>\n",
       "<tr>\n",
       "  <th>Kurtosis:</th>      <td>12.405</td>  <th>  Cond. No.          </th> <td>1.02e+16</td>\n",
       "</tr>\n",
       "</table><br/><br/>Notes:<br/>[1] Standard Errors assume that the covariance matrix of the errors is correctly specified.<br/>[2] The smallest eigenvalue is 2.6e-28. This might indicate that there are<br/>strong multicollinearity problems or that the design matrix is singular."
      ],
      "text/plain": [
       "<class 'statsmodels.iolib.summary.Summary'>\n",
       "\"\"\"\n",
       "                            OLS Regression Results                            \n",
       "==============================================================================\n",
       "Dep. Variable:              SalePrice   R-squared:                       0.946\n",
       "Model:                            OLS   Adj. R-squared:                  0.928\n",
       "Method:                 Least Squares   F-statistic:                     53.62\n",
       "Date:                Thu, 20 Oct 2022   Prob (F-statistic):               0.00\n",
       "Time:                        15:25:14   Log-Likelihood:                -10996.\n",
       "No. Observations:                 994   AIC:                         2.248e+04\n",
       "Df Residuals:                     750   BIC:                         2.368e+04\n",
       "Df Model:                         243                                         \n",
       "Covariance Type:            nonrobust                                         \n",
       "====================================================================================================================================\n",
       "                                                                       coef    std err          t      P>|t|      [0.025      0.975]\n",
       "------------------------------------------------------------------------------------------------------------------------------------\n",
       "const                                                             1.711e+04   2271.831      7.530      0.000    1.26e+04    2.16e+04\n",
       "LotFrontage                                                        731.7350   1195.554      0.612      0.541   -1615.295    3078.765\n",
       "LotArea                                                           9566.3324   2641.154      3.622      0.000    4381.399    1.48e+04\n",
       "YearBuilt                                                         1.149e+04   2816.033      4.082      0.000    5966.426     1.7e+04\n",
       "YearRemodAdd                                                      3278.2418   1235.237      2.654      0.008     853.309    5703.175\n",
       "MasVnrArea                                                         110.7628   1434.102      0.077      0.938   -2704.569    2926.094\n",
       "BsmtFinSF1                                                        2447.2321   3385.266      0.723      0.470   -4198.493    9092.957\n",
       "BsmtUnfSF                                                        -3779.2417   3332.474     -1.134      0.257   -1.03e+04    2762.844\n",
       "TotalBsmtSF                                                       1.355e+04   3943.844      3.436      0.001    5807.542    2.13e+04\n",
       "1stFlrSF                                                          7339.8050   1799.898      4.078      0.000    3806.367    1.09e+04\n",
       "2ndFlrSF                                                          1.194e+04   2097.648      5.694      0.000    7826.583    1.61e+04\n",
       "LowQualFinSF                                                      3728.0949   4805.603      0.776      0.438   -5705.938    1.32e+04\n",
       "GrLivArea                                                         1.567e+04   1424.622     10.998      0.000    1.29e+04    1.85e+04\n",
       "BsmtFullBath                                                      1164.5858    996.820      1.168      0.243    -792.304    3121.476\n",
       "FullBath                                                          1065.1867   1296.149      0.822      0.411   -1479.325    3609.698\n",
       "HalfBath                                                          1360.7019   1193.470      1.140      0.255    -982.237    3703.641\n",
       "TotRmsAbvGrd                                                     -1542.6211   1465.761     -1.052      0.293   -4420.104    1334.862\n",
       "Fireplaces                                                        2640.4803   1771.802      1.490      0.137    -837.802    6118.762\n",
       "GarageYrBlt                                                       1097.6142   1517.175      0.723      0.470   -1880.800    4076.029\n",
       "GarageCars                                                        1695.1277   1752.347      0.967      0.334   -1744.962    5135.217\n",
       "GarageArea                                                        3165.9974   1831.596      1.729      0.084    -429.668    6761.663\n",
       "WoodDeckSF                                                        2119.5267    814.584      2.602      0.009     520.392    3718.662\n",
       "OpenPorchSF                                                        940.0242    952.343      0.987      0.324    -929.550    2809.598\n",
       "EnclosedPorch                                                      388.7385   1077.482      0.361      0.718   -1726.500    2503.977\n",
       "MiscVal                                                           1334.4507   8350.266      0.160      0.873   -1.51e+04    1.77e+04\n",
       "YrSold                                                            -548.5309    678.268     -0.809      0.419   -1880.061     782.999\n",
       "MSSubClass_1-1/2 STORY - UNFINISHED ALL AGES                     -2.266e+04   2.84e+04     -0.797      0.426   -7.85e+04    3.31e+04\n",
       "MSSubClass_1-1/2 STORY FINISHED ALL AGES                           678.9627   1.01e+04      0.068      0.946   -1.91e+04    2.04e+04\n",
       "MSSubClass_1-STORY 1945 & OLDER                                   1.041e+04   7936.966      1.312      0.190   -5169.899     2.6e+04\n",
       "MSSubClass_1-STORY 1946 & NEWER ALL STYLES                        9632.7336   7014.515      1.373      0.170   -4137.685    2.34e+04\n",
       "MSSubClass_1-STORY PUD (Planned Unit Development) - 1946 & NEWER -1105.2708   1.63e+04     -0.068      0.946   -3.31e+04    3.09e+04\n",
       "MSSubClass_1-STORY W/FINISHED ATTIC ALL AGES                      1.611e+04   2.09e+04      0.770      0.442    -2.5e+04    5.72e+04\n",
       "MSSubClass_2 FAMILY CONVERSION - ALL STYLES AND AGES              1.088e+04   2.72e+04      0.400      0.689   -4.25e+04    6.43e+04\n",
       "MSSubClass_2-1/2 STORY ALL AGES                                  -8268.9673   6527.636     -1.267      0.206   -2.11e+04    4545.644\n",
       "MSSubClass_2-STORY 1945 & OLDER                                   1.823e+04   9411.401      1.937      0.053    -243.171    3.67e+04\n",
       "MSSubClass_2-STORY 1946 & NEWER                                   1.312e+04   9274.955      1.414      0.158   -5091.422    3.13e+04\n",
       "MSSubClass_2-STORY PUD - 1946 & NEWER                            -9305.4230    1.8e+04     -0.518      0.605   -4.46e+04     2.6e+04\n",
       "MSSubClass_DUPLEX - ALL STYLES AND AGES                          -3117.1534   4397.086     -0.709      0.479   -1.17e+04    5514.906\n",
       "MSSubClass_PUD - MULTILEVEL - INCL SPLIT LEV/FOYER               -1.146e+04   1.91e+04     -0.601      0.548   -4.89e+04     2.6e+04\n",
       "MSSubClass_SPLIT FOYER                                           -5323.6888   1.07e+04     -0.496      0.620   -2.64e+04    1.57e+04\n",
       "MSSubClass_SPLIT OR MULTI-LEVEL                                   -710.1208    1.2e+04     -0.059      0.953   -2.43e+04    2.29e+04\n",
       "MSZoning_C (all)                                                  -2.71e+04   1.04e+04     -2.613      0.009   -4.75e+04   -6741.340\n",
       "MSZoning_FV                                                        2.64e+04   5931.936      4.451      0.000    1.48e+04     3.8e+04\n",
       "MSZoning_RH                                                       -414.4079   6332.847     -0.065      0.948   -1.28e+04     1.2e+04\n",
       "MSZoning_RL                                                       1.016e+04   3635.815      2.794      0.005    3020.954    1.73e+04\n",
       "MSZoning_RM                                                       8064.0595   4054.621      1.989      0.047     104.302     1.6e+04\n",
       "Alley_Grvl                                                        5278.1865   3671.604      1.438      0.151   -1929.658    1.25e+04\n",
       "Alley_NoAlleyAccess                                               4124.9449   2503.501      1.648      0.100    -789.758    9039.648\n",
       "Alley_Pave                                                        7704.7692   4052.034      1.901      0.058    -249.908    1.57e+04\n",
       "LotShape_IR1                                                      6619.0687   2928.525      2.260      0.024     869.987    1.24e+04\n",
       "LotShape_IR2                                                      5895.1674   4068.916      1.449      0.148   -2092.653    1.39e+04\n",
       "LotShape_IR3                                                     -2333.1662   7743.263     -0.301      0.763   -1.75e+04    1.29e+04\n",
       "LotShape_Reg                                                      6926.8307   3016.754      2.296      0.022    1004.545    1.28e+04\n",
       "LandContour_Bnk                                                   6502.4248   3573.508      1.820      0.069    -512.844    1.35e+04\n",
       "LandContour_HLS                                                   7651.8833   3335.685      2.294      0.022    1103.494    1.42e+04\n",
       "LandContour_Low                                                  -3571.0788   4508.277     -0.792      0.429   -1.24e+04    5279.264\n",
       "LandContour_Lvl                                                   6524.6712   2199.396      2.967      0.003    2206.966    1.08e+04\n",
       "LotConfig_Corner                                                  6150.6019   3636.290      1.691      0.091    -987.916    1.33e+04\n",
       "LotConfig_CulDSac                                                 9676.5586   4001.425      2.418      0.016    1821.233    1.75e+04\n",
       "LotConfig_FR2                                                     -528.9626   4332.360     -0.122      0.903   -9033.957    7976.032\n",
       "LotConfig_FR3                                                    -1952.0522   1.28e+04     -0.152      0.879   -2.71e+04    2.32e+04\n",
       "LotConfig_Inside                                                  3761.7548   3441.262      1.093      0.275   -2993.897    1.05e+04\n",
       "Neighborhood_Blmngtn                                              6585.4098   7286.507      0.904      0.366   -7718.965    2.09e+04\n",
       "Neighborhood_Blueste                                              1.624e+04   1.52e+04      1.070      0.285   -1.35e+04     4.6e+04\n",
       "Neighborhood_BrDale                                               1.519e+04   8174.992      1.859      0.063    -853.621    3.12e+04\n",
       "Neighborhood_BrkSide                                             -1384.1419   5343.446     -0.259      0.796   -1.19e+04    9105.749\n",
       "Neighborhood_ClearCr                                             -5778.1455   6392.344     -0.904      0.366   -1.83e+04    6770.869\n",
       "Neighborhood_CollgCr                                             -7714.1199   3008.427     -2.564      0.011   -1.36e+04   -1808.180\n",
       "Neighborhood_Crawfor                                              2.383e+04   4398.208      5.419      0.000    1.52e+04    3.25e+04\n",
       "Neighborhood_Edwards                                             -1.267e+04   3114.242     -4.068      0.000   -1.88e+04   -6554.428\n",
       "Neighborhood_Gilbert                                             -9010.3760   3747.720     -2.404      0.016   -1.64e+04   -1653.107\n",
       "Neighborhood_IDOTRR                                              -6255.1369   6515.549     -0.960      0.337    -1.9e+04    6535.746\n",
       "Neighborhood_MeadowV                                             -1.463e+04   9737.450     -1.503      0.133   -3.37e+04    4482.369\n",
       "Neighborhood_Mitchel                                             -1.286e+04   3970.496     -3.239      0.001   -2.07e+04   -5064.708\n",
       "Neighborhood_NAmes                                               -9495.1799   2828.917     -3.356      0.001    -1.5e+04   -3941.643\n",
       "Neighborhood_NPkVill                                              2.279e+04   1.05e+04      2.166      0.031    2135.706    4.34e+04\n",
       "Neighborhood_NWAmes                                              -8573.5424   3378.196     -2.538      0.011   -1.52e+04   -1941.699\n",
       "Neighborhood_NoRidge                                              9842.2900   5346.335      1.841      0.066    -653.271    2.03e+04\n",
       "Neighborhood_NridgHt                                              9617.4386   4469.319      2.152      0.032     843.575    1.84e+04\n",
       "Neighborhood_OldTown                                             -1.252e+04   5063.753     -2.473      0.014   -2.25e+04   -2582.067\n",
       "Neighborhood_SWISU                                               -5840.3079   7658.697     -0.763      0.446   -2.09e+04    9194.726\n",
       "Neighborhood_Sawyer                                              -6191.3068   3455.498     -1.792      0.074    -1.3e+04     592.291\n",
       "Neighborhood_SawyerW                                              1680.6541   3771.699      0.446      0.656   -5723.689    9084.997\n",
       "Neighborhood_Somerst                                             -7617.8240   5488.130     -1.388      0.166   -1.84e+04    3156.099\n",
       "Neighborhood_StoneBr                                              3.539e+04   5732.166      6.174      0.000    2.41e+04    4.66e+04\n",
       "Neighborhood_Timber                                              -8392.8529   4630.963     -1.812      0.070   -1.75e+04     698.338\n",
       "Neighborhood_Veenker                                              4861.5957   7154.056      0.680      0.497   -9182.761    1.89e+04\n",
       "Condition1_Artery                                                -1827.4174   4720.218     -0.387      0.699   -1.11e+04    7438.994\n",
       "Condition1_Feedr                                                  1666.2667   4077.352      0.409      0.683   -6338.114    9670.648\n",
       "Condition1_Norm                                                   8570.9148   3201.392      2.677      0.008    2286.160    1.49e+04\n",
       "Condition1_PosA                                                   3837.4216   8697.903      0.441      0.659   -1.32e+04    2.09e+04\n",
       "Condition1_PosN                                                   1.163e+04   8989.656      1.294      0.196   -6017.868    2.93e+04\n",
       "Condition1_RRAe                                                  -1.891e+04   6858.933     -2.757      0.006   -3.24e+04   -5443.996\n",
       "Condition1_RRAn                                                   4134.0020   5466.167      0.756      0.450   -6596.806    1.49e+04\n",
       "Condition1_RRNe                                                  -3107.3237   1.67e+04     -0.186      0.852   -3.59e+04    2.97e+04\n",
       "Condition1_RRNn                                                   1.111e+04   1.16e+04      0.957      0.339   -1.17e+04    3.39e+04\n",
       "Condition2_Artery                                                 2.257e+04   2.57e+04      0.880      0.379   -2.78e+04    7.29e+04\n",
       "Condition2_Feedr                                                 -1112.4897   1.41e+04     -0.079      0.937   -2.88e+04    2.65e+04\n",
       "Condition2_Norm                                                   1326.6304   8475.227      0.157      0.876   -1.53e+04     1.8e+04\n",
       "Condition2_PosA                                                   7.609e-11   4.71e-11      1.614      0.107   -1.64e-11    1.69e-10\n",
       "Condition2_PosN                                                   2.629e-11   6.77e-11      0.388      0.698   -1.07e-10    1.59e-10\n",
       "Condition2_RRAe                                                   2.622e-12    6.6e-11      0.040      0.968   -1.27e-10    1.32e-10\n",
       "Condition2_RRAn                                                  -1.526e+04    1.8e+04     -0.850      0.396   -5.05e+04       2e+04\n",
       "Condition2_RRNn                                                   9582.9755   1.42e+04      0.673      0.501   -1.84e+04    3.75e+04\n",
       "BldgType_1Fam                                                     1.253e+04   1.17e+04      1.070      0.285   -1.05e+04    3.55e+04\n",
       "BldgType_2fmCon                                                  -3084.7246   2.35e+04     -0.131      0.896   -4.92e+04    4.31e+04\n",
       "BldgType_Duplex                                                  -3117.1534   4397.086     -0.709      0.479   -1.17e+04    5514.906\n",
       "BldgType_Twnhs                                                    4241.0885    1.3e+04      0.327      0.744   -2.12e+04    2.97e+04\n",
       "BldgType_TwnhsE                                                   6534.4600   1.25e+04      0.522      0.602    -1.8e+04    3.11e+04\n",
       "HouseStyle_1.5Fin                                                 4323.8043   8911.469      0.485      0.628   -1.32e+04    2.18e+04\n",
       "HouseStyle_1.5Unf                                                  3.61e+04   2.46e+04      1.468      0.143   -1.22e+04    8.44e+04\n",
       "HouseStyle_1Story                                                -5665.6856   6838.578     -0.828      0.408   -1.91e+04    7759.346\n",
       "HouseStyle_2.5Fin                                                 6.683e-11    5.2e-11      1.285      0.199   -3.53e-11    1.69e-10\n",
       "HouseStyle_2.5Unf                                                -8268.9673   6527.636     -1.267      0.206   -2.11e+04    4545.644\n",
       "HouseStyle_2Story                                                -1.303e+04   9126.238     -1.428      0.154   -3.09e+04    4885.613\n",
       "HouseStyle_SFoyer                                                 3812.2863   8884.363      0.429      0.668   -1.36e+04    2.13e+04\n",
       "HouseStyle_SLvl                                                   -167.9864    1.1e+04     -0.015      0.988   -2.18e+04    2.15e+04\n",
       "OverallQual_Above Average                                        -1.182e+04   4003.502     -2.952      0.003   -1.97e+04   -3957.812\n",
       "OverallQual_Average                                              -1.248e+04   4055.790     -3.077      0.002   -2.04e+04   -4516.999\n",
       "OverallQual_Below Average                                        -1.387e+04   4381.736     -3.164      0.002   -2.25e+04   -5263.939\n",
       "OverallQual_Excellent                                             4.097e+04   6299.491      6.503      0.000    2.86e+04    5.33e+04\n",
       "OverallQual_Fair                                                 -1.395e+04   6732.904     -2.071      0.039   -2.72e+04    -729.001\n",
       "OverallQual_Good                                                 -4387.0286   4069.379     -1.078      0.281   -1.24e+04    3601.699\n",
       "OverallQual_Poor                                                 -2119.2682   1.42e+04     -0.150      0.881   -2.99e+04    2.57e+04\n",
       "OverallQual_Very Excellent                                         4.85e+04   1.07e+04      4.549      0.000    2.76e+04    6.94e+04\n",
       "OverallQual_Very Good                                             1.069e+04   4491.707      2.381      0.018    1876.101    1.95e+04\n",
       "OverallQual_Very Poor                                            -2.444e+04   2.51e+04     -0.973      0.331   -7.37e+04    2.49e+04\n",
       "OverallCond_Above Average                                         4356.4435   4238.781      1.028      0.304   -3964.844    1.27e+04\n",
       "OverallCond_Average                                              -2546.3473   4169.172     -0.611      0.542   -1.07e+04    5638.288\n",
       "OverallCond_Below Average                                        -4949.2724   5370.593     -0.922      0.357   -1.55e+04    5593.910\n",
       "OverallCond_Excellent                                             1.858e+04   6860.512      2.708      0.007    5110.206     3.2e+04\n",
       "OverallCond_Fair                                                 -1.236e+04   6236.397     -1.982      0.048   -2.46e+04    -114.951\n",
       "OverallCond_Good                                                  9783.4945   4235.464      2.310      0.021    1468.720    1.81e+04\n",
       "OverallCond_Poor                                                  6888.6944   1.51e+04      0.456      0.648   -2.27e+04    3.65e+04\n",
       "OverallCond_Very Good                                             1.476e+04   4911.263      3.005      0.003    5115.119    2.44e+04\n",
       "OverallCond_Very Poor                                             -1.74e+04   2.13e+04     -0.815      0.415   -5.93e+04    2.45e+04\n",
       "RoofStyle_Flat                                                    1446.9711   1.34e+04      0.108      0.914   -2.48e+04    2.77e+04\n",
       "RoofStyle_Gable                                                     64.5515   5565.512      0.012      0.991   -1.09e+04     1.1e+04\n",
       "RoofStyle_Gambrel                                                 2383.5522   8555.153      0.279      0.781   -1.44e+04    1.92e+04\n",
       "RoofStyle_Hip                                                      298.9624   5703.964      0.052      0.958   -1.09e+04    1.15e+04\n",
       "RoofStyle_Mansard                                                 1.291e+04   1.72e+04      0.750      0.453   -2.09e+04    4.67e+04\n",
       "RoofStyle_Shed                                                    3.265e-11    3.6e-11      0.908      0.364    -3.8e-11    1.03e-10\n",
       "RoofMatl_ClyTile                                                 -4.181e-11   5.61e-11     -0.746      0.456   -1.52e-10    6.83e-11\n",
       "RoofMatl_CompShg                                                  3306.3170   9935.933      0.333      0.739   -1.62e+04    2.28e+04\n",
       "RoofMatl_Membran                                                 -3.107e-11   5.79e-11     -0.537      0.592   -1.45e-10    8.26e-11\n",
       "RoofMatl_Metal                                                    2.381e+04   2.04e+04      1.166      0.244   -1.63e+04    6.39e+04\n",
       "RoofMatl_Roll                                                     2.662e-11   4.78e-11      0.557      0.578   -6.72e-11     1.2e-10\n",
       "RoofMatl_Tar&Grv                                                   647.0828   1.28e+04      0.051      0.960   -2.44e+04    2.57e+04\n",
       "RoofMatl_WdShake                                                 -1.338e+04   2.28e+04     -0.588      0.557    -5.8e+04    3.13e+04\n",
       "RoofMatl_WdShngl                                                  2725.2415   1.83e+04      0.149      0.882   -3.32e+04    3.86e+04\n",
       "Exterior1st_AsbShng                                               2286.7358   1.26e+04      0.182      0.856   -2.24e+04     2.7e+04\n",
       "Exterior1st_AsphShn                                               2234.8265   2.86e+04      0.078      0.938    -5.4e+04    5.85e+04\n",
       "Exterior1st_BrkComm                                               -514.7495    2.2e+04     -0.023      0.981   -4.36e+04    4.26e+04\n",
       "Exterior1st_BrkFace                                               1.511e+04   6335.400      2.385      0.017    2671.119    2.75e+04\n",
       "Exterior1st_CBlock                                                8.358e-12   2.46e-11      0.340      0.734   -3.99e-11    5.67e-11\n",
       "Exterior1st_CemntBd                                              -1.601e+04   1.94e+04     -0.825      0.410   -5.41e+04    2.21e+04\n",
       "Exterior1st_HdBoard                                              -2893.6627   5619.800     -0.515      0.607   -1.39e+04    8138.746\n",
       "Exterior1st_ImStucc                                               8966.0068   2.07e+04      0.432      0.666   -3.17e+04    4.97e+04\n",
       "Exterior1st_MetalSd                                               4490.7549   9009.121      0.498      0.618   -1.32e+04    2.22e+04\n",
       "Exterior1st_Plywood                                              -1779.3039   5785.090     -0.308      0.758   -1.31e+04    9577.592\n",
       "Exterior1st_Stone                                                 3.008e-11   2.84e-11      1.059      0.290   -2.57e-11    8.59e-11\n",
       "Exterior1st_Stucco                                                6726.4498   9209.428      0.730      0.465   -1.14e+04    2.48e+04\n",
       "Exterior1st_VinylSd                                               1901.5282   7381.907      0.258      0.797   -1.26e+04    1.64e+04\n",
       "Exterior1st_Wd Sdng                                              -7327.5930   5817.176     -1.260      0.208   -1.87e+04    4092.291\n",
       "Exterior1st_WdShing                                               3915.2003   7099.358      0.551      0.581      -1e+04    1.79e+04\n",
       "Exterior2nd_AsbShng                                               1524.6974    1.2e+04      0.127      0.899    -2.2e+04     2.5e+04\n",
       "Exterior2nd_AsphShn                                               3574.8608   2.14e+04      0.167      0.867   -3.85e+04    4.56e+04\n",
       "Exterior2nd_Brk Cmn                                               5007.3864   1.46e+04      0.344      0.731   -2.36e+04    3.36e+04\n",
       "Exterior2nd_BrkFace                                                300.5621   7247.303      0.041      0.967   -1.39e+04    1.45e+04\n",
       "Exterior2nd_CBlock                                               -1.915e-11    2.3e-11     -0.833      0.405   -6.43e-11     2.6e-11\n",
       "Exterior2nd_CmentBd                                                2.56e+04   1.99e+04      1.288      0.198   -1.34e+04    6.46e+04\n",
       "Exterior2nd_HdBoard                                                670.0443   5038.715      0.133      0.894   -9221.619    1.06e+04\n",
       "Exterior2nd_ImStucc                                              -4309.8335   9421.683     -0.457      0.647   -2.28e+04    1.42e+04\n",
       "Exterior2nd_MetalSd                                                155.4401   9002.980      0.017      0.986   -1.75e+04    1.78e+04\n",
       "Exterior2nd_Other                                                -1.971e+04   1.92e+04     -1.028      0.304   -5.74e+04    1.79e+04\n",
       "Exterior2nd_Plywood                                              -3421.6765   4670.947     -0.733      0.464   -1.26e+04    5748.008\n",
       "Exterior2nd_Stone                                                 1469.1215   1.25e+04      0.118      0.906    -2.3e+04     2.6e+04\n",
       "Exterior2nd_Stucco                                                -373.9373   9039.073     -0.041      0.967   -1.81e+04    1.74e+04\n",
       "Exterior2nd_VinylSd                                               -433.5413   6475.340     -0.067      0.947   -1.31e+04    1.23e+04\n",
       "Exterior2nd_Wd Sdng                                               1.046e+04   5157.899      2.029      0.043     337.910    2.06e+04\n",
       "Exterior2nd_Wd Shng                                              -3408.1883   6157.247     -0.554      0.580   -1.55e+04    8679.300\n",
       "MasVnrType_BrkCmn                                                 -121.1223   5182.168     -0.023      0.981   -1.03e+04    1.01e+04\n",
       "MasVnrType_BrkFace                                                5846.7912   2076.511      2.816      0.005    1770.327    9923.256\n",
       "MasVnrType_None                                                   2835.4952   2378.081      1.192      0.234   -1832.993    7503.983\n",
       "MasVnrType_Stone                                                  8546.7364   2685.731      3.182      0.002    3274.292    1.38e+04\n",
       "ExterQual_Ex                                                      6423.1618   5850.111      1.098      0.273   -5061.378    1.79e+04\n",
       "ExterQual_Fa                                                      9621.4482   1.25e+04      0.772      0.440   -1.48e+04    3.41e+04\n",
       "ExterQual_Gd                                                      1073.4793   4635.706      0.232      0.817   -8027.023    1.02e+04\n",
       "ExterQual_TA                                                       -10.1888   4589.524     -0.002      0.998   -9020.030    8999.653\n",
       "ExterCond_Ex                                                       1.13e+04   1.15e+04      0.986      0.325   -1.12e+04    3.38e+04\n",
       "ExterCond_Fa                                                      1050.2348   5965.819      0.176      0.860   -1.07e+04    1.28e+04\n",
       "ExterCond_Gd                                                       186.4912   4245.110      0.044      0.965   -8147.221    8520.203\n",
       "ExterCond_Po                                                     -2.221e-11   1.63e-11     -1.364      0.173   -5.42e-11    9.77e-12\n",
       "ExterCond_TA                                                      4568.6266   4118.186      1.109      0.268   -3515.916    1.27e+04\n",
       "Foundation_BrkTil                                                 3715.0486   5031.396      0.738      0.461   -6162.246    1.36e+04\n",
       "Foundation_CBlock                                                 5541.6832   4549.511      1.218      0.224   -3389.607    1.45e+04\n",
       "Foundation_PConc                                                  6897.4073   4626.500      1.491      0.136   -2185.023     1.6e+04\n",
       "Foundation_Slab                                                   6260.6674   9318.315      0.672      0.502    -1.2e+04    2.46e+04\n",
       "Foundation_Stone                                                  2.185e+04   1.32e+04      1.656      0.098   -4059.703    4.78e+04\n",
       "Foundation_Wood                                                  -2.716e+04   1.67e+04     -1.625      0.105      -6e+04    5658.666\n",
       "BsmtQual_Ex                                                       9953.2885   3361.731      2.961      0.003    3353.767    1.66e+04\n",
       "BsmtQual_Fa                                                       7589.6364   4090.386      1.855      0.064    -440.332    1.56e+04\n",
       "BsmtQual_Gd                                                      -3735.5674   2167.930     -1.723      0.085   -7991.500     520.366\n",
       "BsmtQual_NoBasement                                               4137.4517   1826.324      2.265      0.024     552.137    7722.767\n",
       "BsmtQual_TA                                                       -836.9086   2115.669     -0.396      0.693   -4990.247    3316.429\n",
       "BsmtCond_Fa                                                       1700.1266   5691.759      0.299      0.765   -9473.548    1.29e+04\n",
       "BsmtCond_Gd                                                       3893.6668   5363.925      0.726      0.468   -6636.426    1.44e+04\n",
       "BsmtCond_NoBasement                                               4137.4517   1826.324      2.265      0.024     552.137    7722.767\n",
       "BsmtCond_Po                                                       1448.6251   1.47e+04      0.099      0.922   -2.74e+04    3.03e+04\n",
       "BsmtCond_TA                                                       5928.0303   4882.009      1.214      0.225   -3655.997    1.55e+04\n",
       "BsmtExposure_Av                                                   3267.0640   1710.437      1.910      0.057     -90.750    6624.877\n",
       "BsmtExposure_Gd                                                   1.375e+04   2346.924      5.860      0.000    9145.115    1.84e+04\n",
       "BsmtExposure_Mn                                                  -2306.2409   2149.763     -1.073      0.284   -6526.509    1914.027\n",
       "BsmtExposure_No                                                  -1742.8113   1482.432     -1.176      0.240   -4653.022    1167.399\n",
       "BsmtExposure_NoBasement                                           4137.4517   1826.324      2.265      0.024     552.137    7722.767\n",
       "BsmtFinType1_ALQ                                                  1084.7122   1838.484      0.590      0.555   -2524.475    4693.899\n",
       "BsmtFinType1_BLQ                                                  1775.9884   2023.022      0.878      0.380   -2195.471    5747.448\n",
       "BsmtFinType1_GLQ                                                  8240.0158   1876.332      4.392      0.000    4556.528    1.19e+04\n",
       "BsmtFinType1_LwQ                                                 -3072.5259   3022.171     -1.017      0.310   -9005.447    2860.396\n",
       "BsmtFinType1_NoBasement                                           4137.4517   1826.324      2.265      0.024     552.137    7722.767\n",
       "BsmtFinType1_Rec                                                  1846.3257   2189.520      0.843      0.399   -2451.992    6144.643\n",
       "BsmtFinType1_Unf                                                  3095.9326   2055.934      1.506      0.133    -940.137    7132.003\n",
       "BsmtFinType2_ALQ                                                  9682.1601   5892.593      1.643      0.101   -1885.777    2.13e+04\n",
       "BsmtFinType2_BLQ                                                 -4457.7578   4029.338     -1.106      0.269   -1.24e+04    3452.364\n",
       "BsmtFinType2_GLQ                                                  1.116e+04   6562.591      1.700      0.089   -1723.840     2.4e+04\n",
       "BsmtFinType2_LwQ                                                  -641.2690   3715.326     -0.173      0.863   -7934.944    6652.406\n",
       "BsmtFinType2_NoBasement                                           4137.4517   1826.324      2.265      0.024     552.137    7722.767\n",
       "BsmtFinType2_Rec                                                 -3389.4762   3576.003     -0.948      0.344   -1.04e+04    3630.689\n",
       "BsmtFinType2_Unf                                                   617.3988   3337.820      0.185      0.853   -5935.183    7169.980\n",
       "Heating_Floor                                                    -1570.2410   1.82e+04     -0.086      0.931   -3.73e+04    3.42e+04\n",
       "Heating_GasA                                                      6686.1786   6453.414      1.036      0.301   -5982.726    1.94e+04\n",
       "Heating_GasW                                                       -20.2348   8241.277     -0.002      0.998   -1.62e+04    1.62e+04\n",
       "Heating_Grav                                                     -3089.1852   1.23e+04     -0.251      0.802   -2.73e+04    2.11e+04\n",
       "Heating_OthW                                                     -2.319e-13   5.13e-12     -0.045      0.964   -1.03e-11    9.84e-12\n",
       "Heating_Wall                                                       1.51e+04   1.18e+04      1.276      0.202   -8124.765    3.83e+04\n",
       "HeatingQC_Ex                                                      5408.8343   1927.927      2.806      0.005    1624.060    9193.609\n",
       "HeatingQC_Fa                                                      4985.9120   3787.088      1.317      0.188   -2448.643    1.24e+04\n",
       "HeatingQC_Gd                                                      3977.5147   2041.877      1.948      0.052     -30.960    7985.989\n",
       "HeatingQC_Po                                                      4.225e-12   6.21e-12      0.681      0.496   -7.96e-12    1.64e-11\n",
       "HeatingQC_TA                                                      2735.6396   1830.960      1.494      0.136    -858.777    6330.056\n",
       "CentralAir_N                                                      9318.2734   2467.995      3.776      0.000    4473.274    1.42e+04\n",
       "CentralAir_Y                                                      7789.6271   2607.362      2.988      0.003    2671.031    1.29e+04\n",
       "Electrical_FuseA                                                  -985.8554    1.1e+04     -0.089      0.929   -2.27e+04    2.07e+04\n",
       "Electrical_FuseF                                                 -1997.5116   1.12e+04     -0.178      0.859   -2.41e+04    2.01e+04\n",
       "Electrical_FuseP                                                  2047.7829   1.98e+04      0.103      0.918   -3.68e+04    4.09e+04\n",
       "Electrical_Mix                                                    1.885e+04   2.51e+04      0.750      0.454   -3.05e+04    6.82e+04\n",
       "Electrical_SBrkr                                                  -807.3062   1.09e+04     -0.074      0.941   -2.22e+04    2.06e+04\n",
       "KitchenQual_Ex                                                    1.609e+04   3221.701      4.994      0.000    9764.886    2.24e+04\n",
       "KitchenQual_Fa                                                    1937.4654   4175.132      0.464      0.643   -6258.870    1.01e+04\n",
       "KitchenQual_Gd                                                    -772.3439   2111.581     -0.366      0.715   -4917.657    3372.969\n",
       "KitchenQual_TA                                                    -146.7319   2016.840     -0.073      0.942   -4106.056    3812.592\n",
       "Functional_Maj1                                                   8864.6450   8139.783      1.089      0.276   -7114.824    2.48e+04\n",
       "Functional_Maj2                                                  -9471.9355   1.76e+04     -0.539      0.590    -4.4e+04     2.5e+04\n",
       "Functional_Min1                                                   5460.9173   5410.591      1.009      0.313   -5160.787    1.61e+04\n",
       "Functional_Min2                                                   4258.6272   5629.092      0.757      0.450   -6792.023    1.53e+04\n",
       "Functional_Mod                                                   -1.045e+04   9085.564     -1.150      0.251   -2.83e+04    7387.949\n",
       "Functional_Sev                                                            0          0        nan        nan           0           0\n",
       "Functional_Typ                                                    1.844e+04   4370.680      4.220      0.000    9863.637     2.7e+04\n",
       "FireplaceQu_Ex                                                   -1.556e+04   5981.856     -2.600      0.009   -2.73e+04   -3812.082\n",
       "FireplaceQu_Fa                                                     204.1922   4037.702      0.051      0.960   -7722.351    8130.735\n",
       "FireplaceQu_Gd                                                    6674.8877   2281.672      2.925      0.004    2195.663    1.12e+04\n",
       "FireplaceQu_NoFireplace                                           6263.4837   3232.227      1.938      0.053     -81.805    1.26e+04\n",
       "FireplaceQu_Po                                                    1.409e+04   5388.322      2.615      0.009    3509.881    2.47e+04\n",
       "FireplaceQu_TA                                                    5432.7229   2321.116      2.341      0.020     876.066    9989.380\n",
       "GarageType_2Types                                                -1.005e+04   1.23e+04     -0.820      0.412   -3.41e+04     1.4e+04\n",
       "GarageType_Attchd                                                 6638.7151   4380.054      1.516      0.130   -1959.909    1.52e+04\n",
       "GarageType_Basment                                                7339.6627   7064.493      1.039      0.299   -6528.869    2.12e+04\n",
       "GarageType_BuiltIn                                                8260.4434   5443.209      1.518      0.130   -2425.295    1.89e+04\n",
       "GarageType_CarPort                                               -8599.6981   1.76e+04     -0.487      0.626   -4.32e+04     2.6e+04\n",
       "GarageType_Detchd                                                 8642.5005   4425.482      1.953      0.051     -45.304    1.73e+04\n",
       "GarageType_NoGarage                                               4880.5404   2209.432      2.209      0.027     543.133    9217.948\n",
       "GarageFinish_Fin                                                  2912.7226   1577.058      1.847      0.065    -183.251    6008.696\n",
       "GarageFinish_NoGarage                                             4880.5404   2209.432      2.209      0.027     543.133    9217.948\n",
       "GarageFinish_RFn                                                  5059.6147   1454.813      3.478      0.001    2203.625    7915.605\n",
       "GarageFinish_Unf                                                  4255.0229   1657.795      2.567      0.010    1000.552    7509.494\n",
       "GarageQual_Ex                                                     9262.6596   6957.592      1.331      0.183   -4396.011    2.29e+04\n",
       "GarageQual_Fa                                                     2837.5237      1e+04      0.283      0.777   -1.69e+04    2.25e+04\n",
       "GarageQual_Gd                                                     6179.3782   1.16e+04      0.531      0.596   -1.67e+04     2.9e+04\n",
       "GarageQual_No Garage                                              4880.5404   2209.432      2.209      0.027     543.133    9217.948\n",
       "GarageQual_Po                                                    -1.262e+04   3.23e+04     -0.391      0.696    -7.6e+04    5.08e+04\n",
       "GarageQual_TA                                                     6566.4845   9866.606      0.666      0.506   -1.28e+04    2.59e+04\n",
       "GarageCond_Ex                                                     9262.6596   6957.592      1.331      0.183   -4396.011    2.29e+04\n",
       "GarageCond_Fa                                                    -5486.2071   6280.047     -0.874      0.383   -1.78e+04    6842.354\n",
       "GarageCond_Gd                                                     1.297e+04   9838.460      1.319      0.188   -6341.262    3.23e+04\n",
       "GarageCond_NoGarage                                               4880.5404   2209.432      2.209      0.027     543.133    9217.948\n",
       "GarageCond_Po                                                    -7091.4193   1.25e+04     -0.565      0.572   -3.17e+04    1.75e+04\n",
       "GarageCond_TA                                                     2569.3932   5383.232      0.477      0.633   -7998.603    1.31e+04\n",
       "PavedDrive_N                                                      9000.1217   2796.530      3.218      0.001    3510.164    1.45e+04\n",
       "PavedDrive_P                                                       186.4180   3443.875      0.054      0.957   -6574.364    6947.200\n",
       "PavedDrive_Y                                                      7921.3608   2201.889      3.598      0.000    3598.762    1.22e+04\n",
       "PoolQC_Ex                                                                 0          0        nan        nan           0           0\n",
       "PoolQC_Fa                                                         1.755e+04   1.08e+04      1.631      0.103   -3574.233    3.87e+04\n",
       "PoolQC_Gd                                                                 0          0        nan        nan           0           0\n",
       "PoolQC_NoPool                                                     -439.2511   9709.863     -0.045      0.964   -1.95e+04    1.86e+04\n",
       "Fence_GdPrv                                                      -1126.2872   3345.236     -0.337      0.736   -7693.427    5440.852\n",
       "Fence_GdWo                                                        2859.6445   3212.445      0.890      0.374   -3446.810    9166.099\n",
       "Fence_MnPrv                                                       4889.5997   2477.294      1.974      0.049      26.345    9752.855\n",
       "Fence_MnWw                                                        5883.0951   6354.283      0.926      0.355   -6591.201    1.84e+04\n",
       "Fence_NoFence                                                     4601.8484   2158.889      2.132      0.033     363.664    8840.033\n",
       "MiscFeature_Gar2                                                          0          0        nan        nan           0           0\n",
       "MiscFeature_None                                                  7875.8648   5057.634      1.557      0.120   -2052.938    1.78e+04\n",
       "MiscFeature_Othr                                                          0          0        nan        nan           0           0\n",
       "MiscFeature_Shed                                                  9232.0358   5410.554      1.706      0.088   -1389.597    1.99e+04\n",
       "MiscFeature_TenC                                                          0          0        nan        nan           0           0\n",
       "SaleType_COD                                                      1887.9527   6038.855      0.313      0.755   -9967.118    1.37e+04\n",
       "SaleType_CWD                                                      7072.2839   9887.092      0.715      0.475   -1.23e+04    2.65e+04\n",
       "SaleType_Con                                                      1.249e+04   1.72e+04      0.726      0.468   -2.13e+04    4.63e+04\n",
       "SaleType_ConLD                                                    1.198e+04   8308.015      1.442      0.150   -4326.453    2.83e+04\n",
       "SaleType_ConLI                                                   -5064.5325      1e+04     -0.506      0.613   -2.47e+04    1.46e+04\n",
       "SaleType_ConLw                                                   -1.466e+04   1.76e+04     -0.830      0.407   -4.93e+04       2e+04\n",
       "SaleType_New                                                      1915.9807   1.88e+04      0.102      0.919    -3.5e+04    3.88e+04\n",
       "SaleType_Oth                                                      1653.0946   1.36e+04      0.121      0.903   -2.51e+04    2.84e+04\n",
       "SaleType_WD                                                       -176.0127   4786.904     -0.037      0.971   -9573.337    9221.312\n",
       "SaleCondition_Abnorml                                             2170.6590   5571.672      0.390      0.697   -8767.270    1.31e+04\n",
       "SaleCondition_AdjLand                                             2.287e+04   1.23e+04      1.866      0.062   -1193.432    4.69e+04\n",
       "SaleCondition_Alloca                                             -2.925e+04   1.61e+04     -1.817      0.070   -6.09e+04    2347.527\n",
       "SaleCondition_Family                                             -4156.2079   6982.458     -0.595      0.552   -1.79e+04    9551.278\n",
       "SaleCondition_Normal                                              8051.2153   5202.975      1.547      0.122   -2162.912    1.83e+04\n",
       "SaleCondition_Partial                                             1.742e+04   1.81e+04      0.961      0.337   -1.82e+04     5.3e+04\n",
       "==============================================================================\n",
       "Omnibus:                      181.222   Durbin-Watson:                   2.098\n",
       "Prob(Omnibus):                  0.000   Jarque-Bera (JB):             3666.123\n",
       "Skew:                           0.120   Prob(JB):                         0.00\n",
       "Kurtosis:                      12.405   Cond. No.                     1.02e+16\n",
       "==============================================================================\n",
       "\n",
       "Notes:\n",
       "[1] Standard Errors assume that the covariance matrix of the errors is correctly specified.\n",
       "[2] The smallest eigenvalue is 2.6e-28. This might indicate that there are\n",
       "strong multicollinearity problems or that the design matrix is singular.\n",
       "\"\"\""
      ]
     },
     "execution_count": 43,
     "metadata": {},
     "output_type": "execute_result"
    }
   ],
   "source": [
    "ols = OLS(ytrain,xconst)# create ols model pass ytrain & xconst\n",
    "model = ols.fit()\n",
    "model.summary()"
   ]
  },
  {
   "cell_type": "code",
   "execution_count": 44,
   "id": "a9909723",
   "metadata": {},
   "outputs": [],
   "source": [
    "#xconst"
   ]
  },
  {
   "cell_type": "code",
   "execution_count": 45,
   "id": "5a25eb6e",
   "metadata": {},
   "outputs": [
    {
     "data": {
      "text/plain": [
       "0.9279"
      ]
     },
     "execution_count": 45,
     "metadata": {},
     "output_type": "execute_result"
    }
   ],
   "source": [
    "round(model.rsquared_adj,4)"
   ]
  },
  {
   "cell_type": "markdown",
   "id": "d8442aa1",
   "metadata": {},
   "source": [
    "# Remove unncessary columns on the basis of pval"
   ]
  },
  {
   "cell_type": "code",
   "execution_count": 46,
   "id": "d1313185",
   "metadata": {},
   "outputs": [
    {
     "data": {
      "text/plain": [
       "Index(['GrLivArea', 'const', 'OverallQual_Excellent', 'Neighborhood_StoneBr',\n",
       "       'BsmtExposure_Gd', '2ndFlrSF', 'Neighborhood_Crawfor', 'KitchenQual_Ex',\n",
       "       'OverallQual_Very Excellent', 'MSZoning_FV',\n",
       "       ...\n",
       "       'HouseStyle_SLvl', 'RoofStyle_Gable', 'Heating_GasW', 'ExterQual_TA',\n",
       "       'Functional_Sev', 'PoolQC_Ex', 'PoolQC_Gd', 'MiscFeature_Gar2',\n",
       "       'MiscFeature_Othr', 'MiscFeature_TenC'],\n",
       "      dtype='object', length=319)"
      ]
     },
     "execution_count": 46,
     "metadata": {},
     "output_type": "execute_result"
    }
   ],
   "source": [
    "model.pvalues.sort_values().index"
   ]
  },
  {
   "cell_type": "code",
   "execution_count": 47,
   "id": "a4721389",
   "metadata": {},
   "outputs": [
    {
     "data": {
      "text/plain": [
       "'MiscFeature_TenC'"
      ]
     },
     "execution_count": 47,
     "metadata": {},
     "output_type": "execute_result"
    }
   ],
   "source": [
    "model.pvalues.sort_values().index[-1]"
   ]
  },
  {
   "cell_type": "code",
   "execution_count": 48,
   "id": "788a63a6",
   "metadata": {},
   "outputs": [],
   "source": [
    "col_to_be_dropped = model.pvalues.sort_values().index[-1]"
   ]
  },
  {
   "cell_type": "code",
   "execution_count": 49,
   "id": "4f66120d",
   "metadata": {},
   "outputs": [
    {
     "data": {
      "text/plain": [
       "'MiscFeature_TenC'"
      ]
     },
     "execution_count": 49,
     "metadata": {},
     "output_type": "execute_result"
    }
   ],
   "source": [
    "col_to_be_dropped"
   ]
  },
  {
   "cell_type": "code",
   "execution_count": 50,
   "id": "0d626276",
   "metadata": {},
   "outputs": [
    {
     "data": {
      "text/plain": [
       "0.927934"
      ]
     },
     "execution_count": 50,
     "metadata": {},
     "output_type": "execute_result"
    }
   ],
   "source": [
    "Xnew = Xnew.drop(labels=col_to_be_dropped,axis=1)\n",
    "from sklearn.model_selection import train_test_split\n",
    "xtrain,xtest,ytrain,ytest=train_test_split(Xnew,Y,test_size=0.2,random_state=31)\n",
    "from statsmodels.api import add_constant,OLS\n",
    "xconst = add_constant(xtrain,has_constant=\"add\")\n",
    "ols = OLS(ytrain,xconst)\n",
    "model = ols.fit()\n",
    "round(model.rsquared_adj,6)"
   ]
  },
  {
   "cell_type": "code",
   "execution_count": 51,
   "id": "c68478c5",
   "metadata": {},
   "outputs": [
    {
     "name": "stdout",
     "output_type": "stream",
     "text": [
      "0.927934\n",
      "MiscFeature_Othr\n"
     ]
    }
   ],
   "source": [
    "col_to_be_dropped = model.pvalues.sort_values().index[-1]\n",
    "Xnew = Xnew.drop(labels=col_to_be_dropped,axis=1)\n",
    "xtrain,xtest,ytrain,ytest=train_test_split(Xnew,Y,test_size=0.2,random_state=31)\n",
    "xconst = add_constant(xtrain,has_constant=\"add\")\n",
    "ols = OLS(ytrain,xconst)\n",
    "model = ols.fit()\n",
    "print(round(model.rsquared_adj,6))\n",
    "print(col_to_be_dropped)"
   ]
  },
  {
   "cell_type": "code",
   "execution_count": 52,
   "id": "9820befc",
   "metadata": {},
   "outputs": [
    {
     "name": "stdout",
     "output_type": "stream",
     "text": [
      "0.927934\n",
      "MiscFeature_Gar2\n"
     ]
    }
   ],
   "source": [
    "col_to_be_dropped = model.pvalues.sort_values().index[-1]\n",
    "Xnew = Xnew.drop(labels=col_to_be_dropped,axis=1)\n",
    "xtrain,xtest,ytrain,ytest=train_test_split(Xnew,Y,test_size=0.2,random_state=31)\n",
    "xconst = add_constant(xtrain,has_constant=\"add\")\n",
    "ols = OLS(ytrain,xconst)\n",
    "model = ols.fit()\n",
    "print(round(model.rsquared_adj,6))\n",
    "print(col_to_be_dropped)"
   ]
  },
  {
   "cell_type": "code",
   "execution_count": 53,
   "id": "a350bfe8",
   "metadata": {},
   "outputs": [
    {
     "name": "stdout",
     "output_type": "stream",
     "text": [
      "0.927934\n",
      "PoolQC_Gd\n",
      "0.927934\n",
      "PoolQC_Ex\n",
      "0.927934\n",
      "Functional_Sev\n",
      "0.927934\n",
      "ExterQual_TA\n",
      "0.927934\n",
      "Heating_GasW\n",
      "0.927934\n",
      "RoofMatl_ClyTile\n",
      "0.927934\n",
      "RoofStyle_Gable\n",
      "0.927934\n",
      "HouseStyle_SLvl\n",
      "0.927934\n",
      "Heating_OthW\n",
      "0.927934\n",
      "Exterior2nd_MetalSd\n"
     ]
    }
   ],
   "source": [
    "for i in range(0,10):\n",
    "    col_to_be_dropped = model.pvalues.sort_values().index[-1]\n",
    "    Xnew = Xnew.drop(labels=col_to_be_dropped,axis=1)\n",
    "    xtrain,xtest,ytrain,ytest=train_test_split(Xnew,Y,test_size=0.2,random_state=31)\n",
    "    xconst = add_constant(xtrain,has_constant=\"add\")\n",
    "    ols = OLS(ytrain,xconst)\n",
    "    model = ols.fit()\n",
    "    print(round(model.rsquared_adj,6))\n",
    "    print(col_to_be_dropped)"
   ]
  },
  {
   "cell_type": "code",
   "execution_count": 54,
   "id": "dba90352",
   "metadata": {},
   "outputs": [
    {
     "name": "stdout",
     "output_type": "stream",
     "text": [
      "0.92803\n",
      "Exterior2nd_BrkFace\n",
      "0.92803\n",
      "RoofMatl_Membran\n",
      "0.92803\n",
      "Condition2_RRAe\n",
      "0.92803\n",
      "Exterior1st_BrkComm\n",
      "0.92803\n",
      "MasVnrType_BrkCmn\n",
      "0.92803\n",
      "SaleType_WD\n",
      "0.92803\n",
      "ExterCond_Gd\n",
      "0.92803\n",
      "PavedDrive_P\n",
      "0.92803\n",
      "Condition2_PosA\n",
      "0.92803\n",
      "RoofMatl_Roll\n"
     ]
    }
   ],
   "source": [
    "for i in range(0,10):\n",
    "    col_to_be_dropped = model.pvalues.sort_values().index[-1]\n",
    "    Xnew = Xnew.drop(labels=col_to_be_dropped,axis=1)\n",
    "    xtrain,xtest,ytrain,ytest=train_test_split(Xnew,Y,test_size=0.2,random_state=31)\n",
    "    xconst = add_constant(xtrain,has_constant=\"add\")\n",
    "    ols = OLS(ytrain,xconst)\n",
    "    model = ols.fit()\n",
    "    print(round(model.rsquared_adj,6))\n",
    "    print(col_to_be_dropped)"
   ]
  },
  {
   "cell_type": "code",
   "execution_count": 55,
   "id": "5d3f6d0a",
   "metadata": {},
   "outputs": [
    {
     "name": "stdout",
     "output_type": "stream",
     "text": [
      "0.92803\n",
      "PoolQC_NoPool\n",
      "0.92803\n",
      "FireplaceQu_Fa\n",
      "0.92803\n",
      "RoofMatl_Tar&Grv\n",
      "0.92803\n",
      "RoofStyle_Shed\n",
      "0.92803\n",
      "Exterior2nd_CBlock\n",
      "0.928125\n",
      "Exterior1st_Plywood\n",
      "0.92822\n",
      "Exterior2nd_Stucco\n",
      "0.928315\n",
      "Exterior2nd_VinylSd\n",
      "0.928315\n",
      "HeatingQC_Po\n",
      "0.928315\n",
      "MSSubClass_SPLIT OR MULTI-LEVEL\n"
     ]
    }
   ],
   "source": [
    "for i in range(0,10):\n",
    "    col_to_be_dropped = model.pvalues.sort_values().index[-1]\n",
    "    Xnew = Xnew.drop(labels=col_to_be_dropped,axis=1)\n",
    "    xtrain,xtest,ytrain,ytest=train_test_split(Xnew,Y,test_size=0.2,random_state=31)\n",
    "    xconst = add_constant(xtrain,has_constant=\"add\")\n",
    "    ols = OLS(ytrain,xconst)\n",
    "    model = ols.fit()\n",
    "    print(round(model.rsquared_adj,6))\n",
    "    print(col_to_be_dropped)"
   ]
  },
  {
   "cell_type": "code",
   "execution_count": 56,
   "id": "4d749206",
   "metadata": {},
   "outputs": [
    {
     "name": "stdout",
     "output_type": "stream",
     "text": [
      "0.92841\n",
      "MSSubClass_1-STORY PUD (Planned Unit Development) - 1946 & NEWER\n",
      "0.92841\n",
      "HouseStyle_2.5Fin\n",
      "0.92841\n",
      "Condition2_PosN\n",
      "0.92841\n",
      "MSZoning_RH\n",
      "0.928504\n",
      "Heating_Floor\n",
      "0.928598\n",
      "MasVnrArea\n",
      "0.928692\n",
      "RoofMatl_WdShngl\n",
      "0.928785\n",
      "RoofStyle_Flat\n",
      "0.928785\n",
      "Exterior1st_Stone\n",
      "0.928785\n",
      "Condition2_Feedr\n"
     ]
    }
   ],
   "source": [
    "for i in range(0,10):\n",
    "    col_to_be_dropped = model.pvalues.sort_values().index[-1]\n",
    "    Xnew = Xnew.drop(labels=col_to_be_dropped,axis=1)\n",
    "    xtrain,xtest,ytrain,ytest=train_test_split(Xnew,Y,test_size=0.2,random_state=31)\n",
    "    xconst = add_constant(xtrain,has_constant=\"add\")\n",
    "    ols = OLS(ytrain,xconst)\n",
    "    model = ols.fit()\n",
    "    print(round(model.rsquared_adj,6))\n",
    "    print(col_to_be_dropped)"
   ]
  },
  {
   "cell_type": "code",
   "execution_count": 57,
   "id": "0975e7aa",
   "metadata": {},
   "outputs": [
    {
     "name": "stdout",
     "output_type": "stream",
     "text": [
      "0.928785\n",
      "Electrical_SBrkr\n",
      "0.928879\n",
      "Electrical_FuseA\n",
      "0.928879\n",
      "BsmtCond_Po\n",
      "0.928879\n",
      "BsmtCond_Fa\n",
      "0.928971\n",
      "SaleType_New\n",
      "0.928971\n",
      "Exterior1st_CBlock\n",
      "0.929063\n",
      "Electrical_FuseP\n",
      "0.929156\n",
      "Exterior2nd_AsbShng\n",
      "0.929156\n",
      "ExterCond_Po\n",
      "0.929156\n",
      "KitchenQual_TA\n"
     ]
    }
   ],
   "source": [
    "for i in range(0,10):\n",
    "    col_to_be_dropped = model.pvalues.sort_values().index[-1]\n",
    "    Xnew = Xnew.drop(labels=col_to_be_dropped,axis=1)\n",
    "    xtrain,xtest,ytrain,ytest=train_test_split(Xnew,Y,test_size=0.2,random_state=31)\n",
    "    xconst = add_constant(xtrain,has_constant=\"add\")\n",
    "    ols = OLS(ytrain,xconst)\n",
    "    model = ols.fit()\n",
    "    print(round(model.rsquared_adj,6))\n",
    "    print(col_to_be_dropped)"
   ]
  },
  {
   "cell_type": "code",
   "execution_count": 58,
   "id": "30a024a0",
   "metadata": {},
   "outputs": [
    {
     "name": "stdout",
     "output_type": "stream",
     "text": [
      "0.929247\n",
      "Exterior2nd_Stone\n",
      "0.929338\n",
      "RoofStyle_Hip\n",
      "0.929429\n",
      "SaleType_Oth\n",
      "0.929519\n",
      "ExterCond_Fa\n",
      "0.92961\n",
      "Exterior2nd_HdBoard\n",
      "0.9297\n",
      "MiscVal\n",
      "0.92979\n",
      "Exterior1st_AsphShn\n",
      "0.92979\n",
      "LotConfig_FR2\n",
      "0.92988\n",
      "LotConfig_FR3\n",
      "0.92988\n",
      "BldgType_2fmCon\n"
     ]
    }
   ],
   "source": [
    "for i in range(0,10):\n",
    "    col_to_be_dropped = model.pvalues.sort_values().index[-1]\n",
    "    Xnew = Xnew.drop(labels=col_to_be_dropped,axis=1)\n",
    "    xtrain,xtest,ytrain,ytest=train_test_split(Xnew,Y,test_size=0.2,random_state=31)\n",
    "    xconst = add_constant(xtrain,has_constant=\"add\")\n",
    "    ols = OLS(ytrain,xconst)\n",
    "    model = ols.fit()\n",
    "    print(round(model.rsquared_adj,6))\n",
    "    print(col_to_be_dropped)"
   ]
  },
  {
   "cell_type": "code",
   "execution_count": 59,
   "id": "eba592a7",
   "metadata": {},
   "outputs": [
    {
     "name": "stdout",
     "output_type": "stream",
     "text": [
      "0.92988\n",
      "BldgType_Duplex\n",
      "0.929971\n",
      "MSSubClass_DUPLEX - ALL STYLES AND AGES\n",
      "0.930059\n",
      "RoofMatl_CompShg\n",
      "0.930059\n",
      "OverallQual_Poor\n",
      "0.930059\n",
      "BsmtFinType2_Unf\n",
      "0.930148\n",
      "OverallQual_Good\n",
      "0.930235\n",
      "Heating_Grav\n",
      "0.930235\n",
      "Condition1_RRNe\n",
      "0.930325\n",
      "Condition1_Artery\n",
      "0.930411\n",
      "MSSubClass_1-1/2 STORY FINISHED ALL AGES\n"
     ]
    }
   ],
   "source": [
    "for i in range(0,10):\n",
    "    col_to_be_dropped = model.pvalues.sort_values().index[-1]\n",
    "    Xnew = Xnew.drop(labels=col_to_be_dropped,axis=1)\n",
    "    xtrain,xtest,ytrain,ytest=train_test_split(Xnew,Y,test_size=0.2,random_state=31)\n",
    "    xconst = add_constant(xtrain,has_constant=\"add\")\n",
    "    ols = OLS(ytrain,xconst)\n",
    "    model = ols.fit()\n",
    "    print(round(model.rsquared_adj,6))\n",
    "    print(col_to_be_dropped)"
   ]
  },
  {
   "cell_type": "code",
   "execution_count": 60,
   "id": "e1bfb9c4",
   "metadata": {},
   "outputs": [
    {
     "name": "stdout",
     "output_type": "stream",
     "text": [
      "0.930496\n",
      "Electrical_FuseF\n",
      "0.930581\n",
      "Exterior1st_HdBoard\n",
      "0.930581\n",
      "GarageQual_Fa\n",
      "0.930662\n",
      "BsmtFinType2_LwQ\n",
      "0.930745\n",
      "Condition2_Norm\n",
      "0.930825\n",
      "RoofStyle_Gambrel\n",
      "0.930904\n",
      "KitchenQual_Gd\n",
      "0.930904\n",
      "Neighborhood_BrkSide\n",
      "0.930982\n",
      "GarageQual_Gd\n",
      "0.931057\n",
      "BsmtCond_Gd\n"
     ]
    }
   ],
   "source": [
    "for i in range(0,10):\n",
    "    col_to_be_dropped = model.pvalues.sort_values().index[-1]\n",
    "    Xnew = Xnew.drop(labels=col_to_be_dropped,axis=1)\n",
    "    xtrain,xtest,ytrain,ytest=train_test_split(Xnew,Y,test_size=0.2,random_state=31)\n",
    "    xconst = add_constant(xtrain,has_constant=\"add\")\n",
    "    ols = OLS(ytrain,xconst)\n",
    "    model = ols.fit()\n",
    "    print(round(model.rsquared_adj,6))\n",
    "    print(col_to_be_dropped)"
   ]
  },
  {
   "cell_type": "code",
   "execution_count": 61,
   "id": "eee194ae",
   "metadata": {},
   "outputs": [
    {
     "name": "stdout",
     "output_type": "stream",
     "text": [
      "0.931057\n",
      "LotShape_IR3\n",
      "0.931057\n",
      "SaleCondition_Abnorml\n",
      "0.931132\n",
      "MasVnrType_None\n",
      "0.931207\n",
      "GarageQual_Po\n",
      "0.93129\n",
      "Electrical_Mix\n",
      "0.931367\n",
      "KitchenQual_Fa\n",
      "0.931439\n",
      "ExterQual_Gd\n",
      "0.931439\n",
      "BsmtQual_TA\n",
      "0.93151\n",
      "EnclosedPorch\n",
      "0.931577\n",
      "HouseStyle_SFoyer\n"
     ]
    }
   ],
   "source": [
    "for i in range(0,10):\n",
    "    col_to_be_dropped = model.pvalues.sort_values().index[-1]\n",
    "    Xnew = Xnew.drop(labels=col_to_be_dropped,axis=1)\n",
    "    xtrain,xtest,ytrain,ytest=train_test_split(Xnew,Y,test_size=0.2,random_state=31)\n",
    "    xconst = add_constant(xtrain,has_constant=\"add\")\n",
    "    ols = OLS(ytrain,xconst)\n",
    "    model = ols.fit()\n",
    "    print(round(model.rsquared_adj,6))\n",
    "    print(col_to_be_dropped)"
   ]
  },
  {
   "cell_type": "code",
   "execution_count": 62,
   "id": "4328f14e",
   "metadata": {},
   "outputs": [
    {
     "name": "stdout",
     "output_type": "stream",
     "text": [
      "0.93166\n",
      "MSSubClass_SPLIT FOYER\n",
      "0.93173\n",
      "Exterior2nd_ImStucc\n",
      "0.931802\n",
      "Exterior1st_ImStucc\n",
      "0.931802\n",
      "Fence_GdPrv\n",
      "0.931867\n",
      "Neighborhood_SawyerW\n",
      "0.931931\n",
      "SaleType_COD\n",
      "0.931994\n",
      "Exterior2nd_AsphShn\n",
      "0.932054\n",
      "SaleType_ConLI\n",
      "0.932113\n",
      "GarageQual_TA\n",
      "0.93217\n",
      "Exterior2nd_Wd Shng\n"
     ]
    }
   ],
   "source": [
    "for i in range(0,10):\n",
    "    col_to_be_dropped = model.pvalues.sort_values().index[-1]\n",
    "    Xnew = Xnew.drop(labels=col_to_be_dropped,axis=1)\n",
    "    xtrain,xtest,ytrain,ytest=train_test_split(Xnew,Y,test_size=0.2,random_state=31)\n",
    "    xconst = add_constant(xtrain,has_constant=\"add\")\n",
    "    ols = OLS(ytrain,xconst)\n",
    "    model = ols.fit()\n",
    "    print(round(model.rsquared_adj,6))\n",
    "    print(col_to_be_dropped)"
   ]
  },
  {
   "cell_type": "code",
   "execution_count": 63,
   "id": "06f2b0cb",
   "metadata": {},
   "outputs": [
    {
     "name": "stdout",
     "output_type": "stream",
     "text": [
      "0.93217\n",
      "OverallCond_Poor\n",
      "0.932252\n",
      "OverallCond_Good\n",
      "0.932252\n",
      "GarageType_CarPort\n",
      "0.932336\n",
      "GarageType_2Types\n",
      "0.932336\n",
      "BsmtFinType1_ALQ\n",
      "0.932416\n",
      "BsmtFinType1_Rec\n",
      "0.932497\n",
      "BsmtFinType1_BLQ\n",
      "0.932552\n",
      "RoofStyle_Mansard\n",
      "0.932631\n",
      "RoofMatl_WdShake\n",
      "0.932685\n",
      "Condition2_RRNn\n"
     ]
    }
   ],
   "source": [
    "for i in range(0,10):\n",
    "    col_to_be_dropped = model.pvalues.sort_values().index[-1]\n",
    "    Xnew = Xnew.drop(labels=col_to_be_dropped,axis=1)\n",
    "    xtrain,xtest,ytrain,ytest=train_test_split(Xnew,Y,test_size=0.2,random_state=31)\n",
    "    xconst = add_constant(xtrain,has_constant=\"add\")\n",
    "    ols = OLS(ytrain,xconst)\n",
    "    model = ols.fit()\n",
    "    print(round(model.rsquared_adj,6))\n",
    "    print(col_to_be_dropped)"
   ]
  },
  {
   "cell_type": "code",
   "execution_count": 64,
   "id": "6c2966e3",
   "metadata": {},
   "outputs": [
    {
     "name": "stdout",
     "output_type": "stream",
     "text": [
      "0.93274\n",
      "Neighborhood_Veenker\n",
      "0.93279\n",
      "Condition1_PosA\n",
      "0.932841\n",
      "Condition1_Feedr\n",
      "0.932903\n",
      "Condition1_RRAn\n",
      "0.932949\n",
      "Exterior2nd_Brk Cmn\n",
      "0.932999\n",
      "LotFrontage\n",
      "0.933044\n",
      "SaleType_Con\n",
      "0.933089\n",
      "BsmtFinType1_Unf\n",
      "0.933089\n",
      "Functional_Maj2\n",
      "0.933171\n",
      "Functional_Mod\n"
     ]
    }
   ],
   "source": [
    "for i in range(0,10):\n",
    "    col_to_be_dropped = model.pvalues.sort_values().index[-1]\n",
    "    Xnew = Xnew.drop(labels=col_to_be_dropped,axis=1)\n",
    "    xtrain,xtest,ytrain,ytest=train_test_split(Xnew,Y,test_size=0.2,random_state=31)\n",
    "    xconst = add_constant(xtrain,has_constant=\"add\")\n",
    "    ols = OLS(ytrain,xconst)\n",
    "    model = ols.fit()\n",
    "    print(round(model.rsquared_adj,6))\n",
    "    print(col_to_be_dropped)"
   ]
  },
  {
   "cell_type": "code",
   "execution_count": 65,
   "id": "1ec78fc0",
   "metadata": {},
   "outputs": [
    {
     "name": "stdout",
     "output_type": "stream",
     "text": [
      "0.933216\n",
      "SaleType_CWD\n",
      "0.933262\n",
      "Exterior1st_WdShing\n",
      "0.933262\n",
      "LowQualFinSF\n",
      "0.933329\n",
      "2ndFlrSF\n",
      "0.933329\n",
      "Foundation_BrkTil\n",
      "0.933398\n",
      "Foundation_Slab\n",
      "0.93346\n",
      "Foundation_CBlock\n",
      "0.933501\n",
      "Exterior1st_CemntBd\n",
      "0.933545\n",
      "Neighborhood_SWISU\n",
      "0.933581\n",
      "BsmtFinSF1\n"
     ]
    }
   ],
   "source": [
    "for i in range(0,10):\n",
    "    col_to_be_dropped = model.pvalues.sort_values().index[-1]\n",
    "    Xnew = Xnew.drop(labels=col_to_be_dropped,axis=1)\n",
    "    xtrain,xtest,ytrain,ytest=train_test_split(Xnew,Y,test_size=0.2,random_state=31)\n",
    "    xconst = add_constant(xtrain,has_constant=\"add\")\n",
    "    ols = OLS(ytrain,xconst)\n",
    "    model = ols.fit()\n",
    "    print(round(model.rsquared_adj,6))\n",
    "    print(col_to_be_dropped)"
   ]
  },
  {
   "cell_type": "code",
   "execution_count": 66,
   "id": "03d5a176",
   "metadata": {},
   "outputs": [
    {
     "name": "stdout",
     "output_type": "stream",
     "text": [
      "0.933581\n",
      "LandContour_Low\n",
      "0.933617\n",
      "Exterior1st_AsbShng\n",
      "0.933653\n",
      "PoolQC_Fa\n",
      "0.933699\n",
      "Fence_GdWo\n",
      "0.933737\n",
      "Condition1_RRNn\n",
      "0.933737\n",
      "GarageCond_Fa\n",
      "0.933793\n",
      "GarageCond_Po\n",
      "0.933793\n",
      "GarageFinish_Fin\n",
      "0.933847\n",
      "GarageFinish_Unf\n",
      "0.933879\n",
      "MSSubClass_1-1/2 STORY - UNFINISHED ALL AGES\n"
     ]
    }
   ],
   "source": [
    "for i in range(0,10):\n",
    "    col_to_be_dropped = model.pvalues.sort_values().index[-1]\n",
    "    Xnew = Xnew.drop(labels=col_to_be_dropped,axis=1)\n",
    "    xtrain,xtest,ytrain,ytest=train_test_split(Xnew,Y,test_size=0.2,random_state=31)\n",
    "    xconst = add_constant(xtrain,has_constant=\"add\")\n",
    "    ols = OLS(ytrain,xconst)\n",
    "    model = ols.fit()\n",
    "    print(round(model.rsquared_adj,6))\n",
    "    print(col_to_be_dropped)"
   ]
  },
  {
   "cell_type": "code",
   "execution_count": 67,
   "id": "fd953eca",
   "metadata": {},
   "outputs": [
    {
     "name": "stdout",
     "output_type": "stream",
     "text": [
      "0.933879\n",
      "BsmtExposure_No\n",
      "0.933952\n",
      "BsmtExposure_Mn\n",
      "0.933983\n",
      "LotShape_IR2\n",
      "0.934032\n",
      "LotShape_IR1\n",
      "0.934107\n",
      "LotShape_Reg\n",
      "0.934142\n",
      "Foundation_PConc\n",
      "0.934175\n",
      "Neighborhood_Blueste\n",
      "0.934209\n",
      "Fence_MnWw\n",
      "0.934241\n",
      "Neighborhood_Blmngtn\n",
      "0.934269\n",
      "Condition2_Artery\n"
     ]
    }
   ],
   "source": [
    "for i in range(0,10):\n",
    "    col_to_be_dropped = model.pvalues.sort_values().index[-1]\n",
    "    Xnew = Xnew.drop(labels=col_to_be_dropped,axis=1)\n",
    "    xtrain,xtest,ytrain,ytest=train_test_split(Xnew,Y,test_size=0.2,random_state=31)\n",
    "    xconst = add_constant(xtrain,has_constant=\"add\")\n",
    "    ols = OLS(ytrain,xconst)\n",
    "    model = ols.fit()\n",
    "    print(round(model.rsquared_adj,6))\n",
    "    print(col_to_be_dropped)"
   ]
  },
  {
   "cell_type": "code",
   "execution_count": 68,
   "id": "0f9f5811",
   "metadata": {},
   "outputs": [
    {
     "name": "stdout",
     "output_type": "stream",
     "text": [
      "0.934299\n",
      "SaleType_ConLw\n",
      "0.934338\n",
      "ExterQual_Fa\n",
      "0.934388\n",
      "OverallQual_Very Poor\n",
      "0.934425\n",
      "Condition1_PosN\n",
      "0.934458\n",
      "1stFlrSF\n",
      "0.934482\n",
      "FullBath\n",
      "0.934513\n",
      "HouseStyle_2Story\n",
      "0.934513\n",
      "HouseStyle_2.5Unf\n",
      "0.93456\n",
      "MSSubClass_2-1/2 STORY ALL AGES\n",
      "0.934597\n",
      "Heating_GasA\n"
     ]
    }
   ],
   "source": [
    "for i in range(0,10):\n",
    "    col_to_be_dropped = model.pvalues.sort_values().index[-1]\n",
    "    Xnew = Xnew.drop(labels=col_to_be_dropped,axis=1)\n",
    "    xtrain,xtest,ytrain,ytest=train_test_split(Xnew,Y,test_size=0.2,random_state=31)\n",
    "    xconst = add_constant(xtrain,has_constant=\"add\")\n",
    "    ols = OLS(ytrain,xconst)\n",
    "    model = ols.fit()\n",
    "    print(round(model.rsquared_adj,6))\n",
    "    print(col_to_be_dropped)"
   ]
  },
  {
   "cell_type": "code",
   "execution_count": 69,
   "id": "6233c070",
   "metadata": {},
   "outputs": [
    {
     "name": "stdout",
     "output_type": "stream",
     "text": [
      "0.934622\n",
      "Condition2_RRAn\n",
      "0.934645\n",
      "YrSold\n",
      "0.934662\n",
      "BsmtQual_Gd\n",
      "0.934688\n",
      "GarageYrBlt\n",
      "0.934702\n",
      "HouseStyle_1Story\n"
     ]
    }
   ],
   "source": [
    "for i in range(0,5):\n",
    "    col_to_be_dropped = model.pvalues.sort_values().index[-1]\n",
    "    Xnew = Xnew.drop(labels=col_to_be_dropped,axis=1)\n",
    "    xtrain,xtest,ytrain,ytest=train_test_split(Xnew,Y,test_size=0.2,random_state=31)\n",
    "    xconst = add_constant(xtrain,has_constant=\"add\")\n",
    "    ols = OLS(ytrain,xconst)\n",
    "    model = ols.fit()\n",
    "    print(round(model.rsquared_adj,6))\n",
    "    print(col_to_be_dropped)"
   ]
  },
  {
   "cell_type": "code",
   "execution_count": 70,
   "id": "132168f4",
   "metadata": {},
   "outputs": [
    {
     "name": "stdout",
     "output_type": "stream",
     "text": [
      "0.934738\n",
      "MSSubClass_PUD - MULTILEVEL - INCL SPLIT LEV/FOYER\n",
      "0.934754\n",
      "MSSubClass_1-STORY W/FINISHED ATTIC ALL AGES\n",
      "0.934767\n",
      "Heating_Wall\n",
      "0.934773\n",
      "FireplaceQu_TA\n",
      "0.934821\n",
      "FireplaceQu_NoFireplace\n"
     ]
    }
   ],
   "source": [
    "for i in range(0,5):\n",
    "    col_to_be_dropped = model.pvalues.sort_values().index[-1]\n",
    "    Xnew = Xnew.drop(labels=col_to_be_dropped,axis=1)\n",
    "    xtrain,xtest,ytrain,ytest=train_test_split(Xnew,Y,test_size=0.2,random_state=31)\n",
    "    xconst = add_constant(xtrain,has_constant=\"add\")\n",
    "    ols = OLS(ytrain,xconst)\n",
    "    model = ols.fit()\n",
    "    print(round(model.rsquared_adj,6))\n",
    "    print(col_to_be_dropped)"
   ]
  },
  {
   "cell_type": "code",
   "execution_count": 71,
   "id": "6aa5c55e",
   "metadata": {},
   "outputs": [
    {
     "name": "stdout",
     "output_type": "stream",
     "text": [
      "0.934838\n",
      "HalfBath\n",
      "0.934847\n",
      "ExterCond_Ex\n",
      "0.934851\n",
      "Neighborhood_IDOTRR\n",
      "0.934853\n",
      "Fence_MnPrv\n",
      "0.934864\n",
      "Fence_NoFence\n"
     ]
    }
   ],
   "source": [
    "for i in range(0,5):\n",
    "    col_to_be_dropped = model.pvalues.sort_values().index[-1]\n",
    "    Xnew = Xnew.drop(labels=col_to_be_dropped,axis=1)\n",
    "    xtrain,xtest,ytrain,ytest=train_test_split(Xnew,Y,test_size=0.2,random_state=31)\n",
    "    xconst = add_constant(xtrain,has_constant=\"add\")\n",
    "    ols = OLS(ytrain,xconst)\n",
    "    model = ols.fit()\n",
    "    print(round(model.rsquared_adj,6))\n",
    "    print(col_to_be_dropped)"
   ]
  },
  {
   "cell_type": "code",
   "execution_count": 72,
   "id": "e8a04de5",
   "metadata": {},
   "outputs": [
    {
     "name": "stdout",
     "output_type": "stream",
     "text": [
      "0.934862\n",
      "BsmtFinType1_LwQ\n",
      "0.934865\n",
      "FireplaceQu_Gd\n",
      "0.934868\n",
      "BsmtFinType2_GLQ\n",
      "0.934869\n",
      "FireplaceQu_Po\n",
      "0.934867\n",
      "ExterQual_Ex\n",
      "0.934855\n",
      "Exterior2nd_Other\n",
      "0.934836\n",
      "MSZoning_RM\n",
      "0.934817\n",
      "Neighborhood_ClearCr\n",
      "0.934806\n",
      "RoofMatl_Metal\n",
      "0.934784\n",
      "PavedDrive_N\n"
     ]
    }
   ],
   "source": [
    "for i in range(0,10):\n",
    "    col_to_be_dropped = model.pvalues.sort_values().index[-1]\n",
    "    Xnew = Xnew.drop(labels=col_to_be_dropped,axis=1)\n",
    "    xtrain,xtest,ytrain,ytest=train_test_split(Xnew,Y,test_size=0.2,random_state=31)\n",
    "    xconst = add_constant(xtrain,has_constant=\"add\")\n",
    "    ols = OLS(ytrain,xconst)\n",
    "    model = ols.fit()\n",
    "    print(round(model.rsquared_adj,6))\n",
    "    print(col_to_be_dropped)"
   ]
  },
  {
   "cell_type": "raw",
   "id": "e523cd49",
   "metadata": {},
   "source": [
    "ExterQual_Ex\n",
    "Exterior2nd_Other\n",
    "MSZoning_RM\n",
    "Neighborhood_ClearCr\n",
    "RoofMatl_Metal\n",
    "PavedDrive_N"
   ]
  },
  {
   "cell_type": "code",
   "execution_count": 73,
   "id": "8b6ef9f6",
   "metadata": {},
   "outputs": [
    {
     "data": {
      "text/plain": [
       "Index(['LotArea', 'YearBuilt', 'YearRemodAdd', 'BsmtUnfSF', 'TotalBsmtSF',\n",
       "       'GrLivArea', 'BsmtFullBath', 'TotRmsAbvGrd', 'Fireplaces', 'GarageCars',\n",
       "       ...\n",
       "       'GarageCond_TA', 'PavedDrive_Y', 'MiscFeature_None', 'MiscFeature_Shed',\n",
       "       'SaleType_ConLD', 'SaleCondition_AdjLand', 'SaleCondition_Alloca',\n",
       "       'SaleCondition_Family', 'SaleCondition_Normal',\n",
       "       'SaleCondition_Partial'],\n",
       "      dtype='object', length=130)"
      ]
     },
     "execution_count": 73,
     "metadata": {},
     "output_type": "execute_result"
    }
   ],
   "source": [
    "Xnew.columns"
   ]
  },
  {
   "cell_type": "code",
   "execution_count": 74,
   "id": "add13bcb",
   "metadata": {},
   "outputs": [],
   "source": [
    "X2 = X2[[\"ExterQual_Ex\",\"Exterior2nd_Other\",\"MSZoning_RM\",\"Neighborhood_ClearCr\",\"RoofMatl_Metal\",\"PavedDrive_N\"]]"
   ]
  },
  {
   "cell_type": "code",
   "execution_count": 75,
   "id": "6a59534e",
   "metadata": {},
   "outputs": [],
   "source": [
    "Xnew = Xnew.join(X2)"
   ]
  },
  {
   "cell_type": "code",
   "execution_count": 76,
   "id": "a7865bc6",
   "metadata": {},
   "outputs": [
    {
     "data": {
      "text/plain": [
       "(1243, 136)"
      ]
     },
     "execution_count": 76,
     "metadata": {},
     "output_type": "execute_result"
    }
   ],
   "source": [
    "Xnew.shape"
   ]
  },
  {
   "cell_type": "code",
   "execution_count": 77,
   "id": "7ed38e1e",
   "metadata": {},
   "outputs": [
    {
     "data": {
      "text/plain": [
       "Index(['LotArea', 'YearBuilt', 'YearRemodAdd', 'BsmtUnfSF', 'TotalBsmtSF',\n",
       "       'GrLivArea', 'BsmtFullBath', 'TotRmsAbvGrd', 'Fireplaces', 'GarageCars',\n",
       "       ...\n",
       "       'SaleCondition_Alloca', 'SaleCondition_Family', 'SaleCondition_Normal',\n",
       "       'SaleCondition_Partial', 'ExterQual_Ex', 'Exterior2nd_Other',\n",
       "       'MSZoning_RM', 'Neighborhood_ClearCr', 'RoofMatl_Metal',\n",
       "       'PavedDrive_N'],\n",
       "      dtype='object', length=136)"
      ]
     },
     "execution_count": 77,
     "metadata": {},
     "output_type": "execute_result"
    }
   ],
   "source": [
    "Xnew.columns"
   ]
  },
  {
   "cell_type": "code",
   "execution_count": 78,
   "id": "d4fcc558",
   "metadata": {},
   "outputs": [],
   "source": [
    "final_cols_to_keep=Xnew.columns"
   ]
  },
  {
   "cell_type": "markdown",
   "id": "7e89bb87",
   "metadata": {},
   "source": [
    "# ******** Best Model********"
   ]
  },
  {
   "cell_type": "code",
   "execution_count": 79,
   "id": "f071288b",
   "metadata": {},
   "outputs": [
    {
     "name": "stdout",
     "output_type": "stream",
     "text": [
      "0.934869\n"
     ]
    }
   ],
   "source": [
    "final_cols_to_keep=Xnew.columns\n",
    "\n",
    "from sklearn.model_selection import train_test_split\n",
    "xtrain,xtest,ytrain,ytest=train_test_split(Xnew,Y,test_size=0.2,random_state=31)\n",
    "from statsmodels.api import OLS,add_constant\n",
    "xconst = add_constant(xtrain,has_constant=\"add\")\n",
    "ols = OLS(ytrain,xconst)\n",
    "model = ols.fit()\n",
    "print(round(model.rsquared_adj,6))"
   ]
  },
  {
   "cell_type": "code",
   "execution_count": 80,
   "id": "3ae1bf88",
   "metadata": {},
   "outputs": [
    {
     "data": {
      "text/plain": [
       "(1243, 136)"
      ]
     },
     "execution_count": 80,
     "metadata": {},
     "output_type": "execute_result"
    }
   ],
   "source": [
    "Xnew.shape"
   ]
  },
  {
   "cell_type": "markdown",
   "id": "757d7d6b",
   "metadata": {},
   "source": [
    "# Linear Regression model on the basis of selected model."
   ]
  },
  {
   "cell_type": "code",
   "execution_count": 81,
   "id": "033aa0a7",
   "metadata": {},
   "outputs": [],
   "source": [
    "from sklearn.linear_model import LinearRegression\n",
    "lm = LinearRegression()\n",
    "model = lm.fit(xtrain,ytrain)"
   ]
  },
  {
   "cell_type": "markdown",
   "id": "484011d1",
   "metadata": {},
   "source": [
    "# Check for overfitting"
   ]
  },
  {
   "cell_type": "code",
   "execution_count": 82,
   "id": "bd240f87",
   "metadata": {},
   "outputs": [],
   "source": [
    "tr_pred = model.predict(xtrain) # found predictions on training dataset\n",
    "ts_pred = model.predict(xtest) # found predictions on testing dataset\n",
    "\n",
    "from sklearn.metrics import mean_squared_error,mean_absolute_error\n",
    "tr_err = round(mean_squared_error(ytrain,tr_pred),2)\n",
    "ts_err = round(mean_squared_error(ytest,ts_pred),2)"
   ]
  },
  {
   "cell_type": "markdown",
   "id": "c1f818f9",
   "metadata": {},
   "source": [
    "# Find training | testing error"
   ]
  },
  {
   "cell_type": "code",
   "execution_count": 83,
   "id": "4c375f34",
   "metadata": {},
   "outputs": [
    {
     "data": {
      "text/plain": [
       "249031380.58"
      ]
     },
     "execution_count": 83,
     "metadata": {},
     "output_type": "execute_result"
    }
   ],
   "source": [
    "tr_err"
   ]
  },
  {
   "cell_type": "code",
   "execution_count": 84,
   "id": "74b3b921",
   "metadata": {},
   "outputs": [
    {
     "data": {
      "text/plain": [
       "1.0925467379210244e+30"
      ]
     },
     "execution_count": 84,
     "metadata": {},
     "output_type": "execute_result"
    }
   ],
   "source": [
    "ts_err"
   ]
  },
  {
   "cell_type": "raw",
   "id": "665b2abc",
   "metadata": {},
   "source": [
    " Overfitting is there because there is huge difference between mean_absolute_error of training and testing set"
   ]
  },
  {
   "cell_type": "markdown",
   "id": "2821d59d",
   "metadata": {},
   "source": [
    "# 12.Regularisation using Ridge Regression(L2 penalty)"
   ]
  },
  {
   "cell_type": "raw",
   "id": "d0993f66",
   "metadata": {},
   "source": [
    "we will try to reduce the diff between tr & ts error by regularisation"
   ]
  },
  {
   "cell_type": "markdown",
   "id": "9410da5a",
   "metadata": {},
   "source": [
    "# Ridge"
   ]
  },
  {
   "cell_type": "code",
   "execution_count": 85,
   "id": "ee4efa11",
   "metadata": {},
   "outputs": [],
   "source": [
    "tr = []\n",
    "ts = []"
   ]
  },
  {
   "cell_type": "code",
   "execution_count": 86,
   "id": "19247036",
   "metadata": {},
   "outputs": [],
   "source": [
    "w = []\n",
    "y = 1.2\n",
    "for i in range(0,1000):\n",
    "    y = round(y + 0.01,2)\n",
    "    w.append(y)    "
   ]
  },
  {
   "cell_type": "code",
   "execution_count": 87,
   "id": "a406ae35",
   "metadata": {},
   "outputs": [],
   "source": [
    "from sklearn.linear_model import Ridge"
   ]
  },
  {
   "cell_type": "code",
   "execution_count": 88,
   "id": "fe3e4084",
   "metadata": {},
   "outputs": [],
   "source": [
    "for i in w:\n",
    "    rr = Ridge(alpha=i)\n",
    "    model = rr.fit(xtrain,ytrain)\n",
    "    tr_pred = model.predict(xtrain) \n",
    "    ts_pred = model.predict(xtest)\n",
    "    tr_err = round(mean_squared_error(ytrain,tr_pred),2)\n",
    "    ts_err = round(mean_squared_error(ytest,ts_pred),2)\n",
    "    tr.append(tr_err)\n",
    "    ts.append(ts_err)"
   ]
  },
  {
   "cell_type": "code",
   "execution_count": 89,
   "id": "8a080ded",
   "metadata": {},
   "outputs": [
    {
     "data": {
      "text/plain": [
       "292462064.62"
      ]
     },
     "execution_count": 89,
     "metadata": {},
     "output_type": "execute_result"
    }
   ],
   "source": [
    "tr_err"
   ]
  },
  {
   "cell_type": "code",
   "execution_count": 90,
   "id": "59723436",
   "metadata": {},
   "outputs": [
    {
     "data": {
      "text/plain": [
       "286181606.49"
      ]
     },
     "execution_count": 90,
     "metadata": {},
     "output_type": "execute_result"
    }
   ],
   "source": [
    "ts_err"
   ]
  },
  {
   "cell_type": "code",
   "execution_count": 91,
   "id": "03811bb5",
   "metadata": {},
   "outputs": [
    {
     "data": {
      "text/plain": [
       "[<matplotlib.lines.Line2D at 0x22986158a00>]"
      ]
     },
     "execution_count": 91,
     "metadata": {},
     "output_type": "execute_result"
    },
    {
     "data": {
      "image/png": "[encoded data removed]",
      "text/plain": [
       "<Figure size 432x288 with 1 Axes>"
      ]
     },
     "metadata": {
      "needs_background": "light"
     },
     "output_type": "display_data"
    }
   ],
   "source": [
    "import matplotlib.pyplot as plt\n",
    "plt.plot(w,tr,c=\"red\")\n",
    "plt.plot(w,ts,c=\"green\")"
   ]
  },
  {
   "cell_type": "code",
   "execution_count": 92,
   "id": "afa3099b",
   "metadata": {},
   "outputs": [],
   "source": [
    "    rr = Ridge(alpha=9.2)\n",
    "    model = rr.fit(xtrain,ytrain)\n",
    "    tr_pred = model.predict(xtrain) \n",
    "    ts_pred = model.predict(xtest)\n",
    "    tr_err = round(mean_squared_error(ytrain,tr_pred),2)\n",
    "    ts_err = round(mean_squared_error(ytest,ts_pred),2)\n",
    "    tr.append(tr_err)\n",
    "    ts.append(ts_err)"
   ]
  },
  {
   "cell_type": "code",
   "execution_count": 93,
   "id": "aae27f20",
   "metadata": {},
   "outputs": [
    {
     "data": {
      "text/plain": [
       "286019481.79"
      ]
     },
     "execution_count": 93,
     "metadata": {},
     "output_type": "execute_result"
    }
   ],
   "source": [
    "tr_err"
   ]
  },
  {
   "cell_type": "code",
   "execution_count": 94,
   "id": "b67d7119",
   "metadata": {},
   "outputs": [
    {
     "data": {
      "text/plain": [
       "286024588.65"
      ]
     },
     "execution_count": 94,
     "metadata": {},
     "output_type": "execute_result"
    }
   ],
   "source": [
    "ts_err"
   ]
  },
  {
   "cell_type": "raw",
   "id": "0c6fc95e",
   "metadata": {},
   "source": [
    "lamba value is reliable for only one sample of the model (RS_31),if we change the sample reliability of model will affect,so to overcome this,we will do cross validation technique"
   ]
  },
  {
   "cell_type": "markdown",
   "id": "13ac3492",
   "metadata": {},
   "source": [
    "# GridsearchCV"
   ]
  },
  {
   "cell_type": "raw",
   "id": "a5941a4f",
   "metadata": {},
   "source": [
    "I will divide datset in 4 equal sets ,by this we can get more reliable results of errors"
   ]
  },
  {
   "cell_type": "code",
   "execution_count": 95,
   "id": "0a57bcaf",
   "metadata": {},
   "outputs": [],
   "source": [
    "q = 0.1\n",
    "w = []\n",
    "for i in range(0,1000):\n",
    "    w.append(q)\n",
    "    q = q + 0.01"
   ]
  },
  {
   "cell_type": "code",
   "execution_count": 96,
   "id": "625745db",
   "metadata": {},
   "outputs": [
    {
     "data": {
      "text/plain": [
       "{'alpha': 2.5199999999999902}"
      ]
     },
     "execution_count": 96,
     "metadata": {},
     "output_type": "execute_result"
    }
   ],
   "source": [
    "from sklearn.model_selection import GridSearchCV\n",
    "rr = Ridge(alpha=w)\n",
    "tuning_grid = {\"alpha\":w}\n",
    "cv = GridSearchCV(rr,tuning_grid,scoring=\"neg_mean_squared_error\",cv=10)\n",
    "cvmodel = cv.fit(Xnew,Y)\n",
    "cvmodel.best_params_"
   ]
  },
  {
   "cell_type": "code",
   "execution_count": 97,
   "id": "6546b478",
   "metadata": {},
   "outputs": [
    {
     "name": "stdout",
     "output_type": "stream",
     "text": [
      "269768736.86 234901426.48\n"
     ]
    }
   ],
   "source": [
    "rr = Ridge(alpha=2.5199999999999902)\n",
    "model = rr.fit(Xnew,Y)\n",
    "tr_pred = model.predict(xtrain) \n",
    "ts_pred = model.predict(xtest)\n",
    "tr_err = round(mean_squared_error(ytrain,tr_pred),2)\n",
    "ts_err = round(mean_squared_error(ytest,ts_pred),2)\n",
    "print(tr_err,ts_err)"
   ]
  },
  {
   "cell_type": "markdown",
   "id": "bd37969c",
   "metadata": {},
   "source": [
    "# Make test set ready for prediction"
   ]
  },
  {
   "cell_type": "code",
   "execution_count": 98,
   "id": "04c25907",
   "metadata": {},
   "outputs": [
    {
     "data": {
      "text/plain": [
       "Index(['LotArea', 'YearBuilt', 'YearRemodAdd', 'BsmtUnfSF', 'TotalBsmtSF',\n",
       "       'GrLivArea', 'BsmtFullBath', 'TotRmsAbvGrd', 'Fireplaces', 'GarageCars',\n",
       "       ...\n",
       "       'SaleCondition_Alloca', 'SaleCondition_Family', 'SaleCondition_Normal',\n",
       "       'SaleCondition_Partial', 'ExterQual_Ex', 'Exterior2nd_Other',\n",
       "       'MSZoning_RM', 'Neighborhood_ClearCr', 'RoofMatl_Metal',\n",
       "       'PavedDrive_N'],\n",
       "      dtype='object', length=136)"
      ]
     },
     "execution_count": 98,
     "metadata": {},
     "output_type": "execute_result"
    }
   ],
   "source": [
    "xtrain.columns"
   ]
  },
  {
   "cell_type": "code",
   "execution_count": 99,
   "id": "1ba8ee2b",
   "metadata": {},
   "outputs": [],
   "source": [
    "cols_to_keep = xtrain.columns"
   ]
  },
  {
   "cell_type": "code",
   "execution_count": 100,
   "id": "f1fa27f4",
   "metadata": {},
   "outputs": [],
   "source": [
    "test.Alley=test.Alley.fillna(\"NoAlleyAccess\")\n",
    "test.BsmtQual=test.BsmtQual.fillna(\"NoBasement\")\n",
    "test.BsmtCond=test.BsmtCond.fillna(\"NoBasement\")\n",
    "test.BsmtExposure=test.BsmtExposure.fillna(\"NoBasement\")\n",
    "test.BsmtFinType1=test.BsmtFinType1.fillna(\"NoBasement\")\n",
    "test.BsmtFinType2=test.BsmtFinType2.fillna(\"NoBasement\")\n",
    "test.FireplaceQu=test.FireplaceQu.fillna(\"NoFireplace\")\n",
    "test.GarageType =test.GarageType.fillna(\"NoGarage\")\n",
    "test.GarageFinish =test.GarageFinish.fillna(\"NoGarage\")\n",
    "test.GarageQual = test.GarageQual.fillna(\"No Garage\")\n",
    "test.GarageCond =test.GarageCond.fillna(\"NoGarage\")\n",
    "test.PoolQC =test.PoolQC.fillna(\"NoPool\")\n",
    "test.Fence =test.Fence.fillna(\"NoFence\")\n",
    "test.MiscFeature = test.MiscFeature.fillna(\"None\")"
   ]
  },
  {
   "cell_type": "code",
   "execution_count": 101,
   "id": "ec64e48d",
   "metadata": {},
   "outputs": [],
   "source": [
    "test.MSSubClass.replace({20:\"1-STORY 1946 & NEWER ALL STYLES\",\n",
    "                     30:\"1-STORY 1945 & OLDER\",\n",
    "                     40:\"1-STORY W/FINISHED ATTIC ALL AGES\",\n",
    "                     45:\"1-1/2 STORY - UNFINISHED ALL AGES\",\n",
    "                     50:\"1-1/2 STORY FINISHED ALL AGES\",\n",
    "                     60:\"2-STORY 1946 & NEWER\",\n",
    "                     70:\"2-STORY 1945 & OLDER\",\n",
    "                     75:\"2-1/2 STORY ALL AGES\",\n",
    "                     80 : \"SPLIT OR MULTI-LEVEL\",\n",
    "                     85 : \"SPLIT FOYER\",\n",
    "                     90 : \"DUPLEX - ALL STYLES AND AGES\",\n",
    "                     120 : \"1-STORY PUD (Planned Unit Development) - 1946 & NEWER\",\n",
    "                     150 : \"1-1/2 STORY PUD - ALL AGES\",\n",
    "                     160 : \"2-STORY PUD - 1946 & NEWER\",\n",
    "                     180 : \"PUD - MULTILEVEL - INCL SPLIT LEV/FOYER\",\n",
    "                     190 : \"2 FAMILY CONVERSION - ALL STYLES AND AGES\"}, inplace=True)"
   ]
  },
  {
   "cell_type": "code",
   "execution_count": 102,
   "id": "ced79d00",
   "metadata": {},
   "outputs": [],
   "source": [
    "test.OverallQual.replace({10 : \"Very Excellent\",\n",
    "                       9 : \"Excellent\",\n",
    "                       8 : \"Very Good\",\n",
    "                       7 : \"Good\",\n",
    "                       6 : \"Above Average\",\n",
    "                       5 : \"Average\",\n",
    "                       4 : \"Below Average\",\n",
    "                       3 : \"Fair\",\n",
    "                       2 : \"Poor\",\n",
    "                       1 : \"Very Poor\"}, inplace=True)"
   ]
  },
  {
   "cell_type": "code",
   "execution_count": 103,
   "id": "4913e7d7",
   "metadata": {},
   "outputs": [],
   "source": [
    "test.OverallCond.replace({10 : \"Very Excellent\",\n",
    "                       9 : \"Excellent\",\n",
    "                       8 : \"Very Good\",\n",
    "                       7 : \"Good\",\n",
    "                       6 : \"Above Average\",\n",
    "                       5 : \"Average\",\n",
    "                       4 : \"Below Average\",\n",
    "                       3 : \"Fair\",\n",
    "                       2 : \"Poor\",\n",
    "                       1 : \"Very Poor\"}, inplace=True)"
   ]
  },
  {
   "cell_type": "raw",
   "id": "677cf119",
   "metadata": {},
   "source": [
    "remove corr & anova cols"
   ]
  },
  {
   "cell_type": "code",
   "execution_count": 104,
   "id": "49e314ce",
   "metadata": {},
   "outputs": [],
   "source": [
    "testb = test.drop(labels=[\"Id\",\"Street\",\"Utilities\",\"LandSlope\",\"KitchenAbvGr\",\"BsmtHalfBath\",\"BsmtFinSF2\",\"3SsnPorch\",\"MoSold\",\"PoolArea\",\"ScreenPorch\",\"BedroomAbvGr\"],axis=1)"
   ]
  },
  {
   "cell_type": "code",
   "execution_count": 105,
   "id": "f33addda",
   "metadata": {},
   "outputs": [
    {
     "data": {
      "text/plain": [
       "(1459, 68)"
      ]
     },
     "execution_count": 105,
     "metadata": {},
     "output_type": "execute_result"
    }
   ],
   "source": [
    "testb.shape"
   ]
  },
  {
   "cell_type": "code",
   "execution_count": 106,
   "id": "7b8b6d16",
   "metadata": {},
   "outputs": [],
   "source": [
    "catb = []\n",
    "conb = []\n",
    "for i in testb.columns:\n",
    "    if(testb[i].dtypes == \"object\"):\n",
    "        catb.append(i)\n",
    "        x = testb[i].mode()[0]\n",
    "        testb[i] = testb[i].fillna(x)\n",
    "    else:\n",
    "        conb.append(i)\n",
    "        x = round(testb[i].mean(),2)\n",
    "        testb[i] = testb[i].fillna(x)"
   ]
  },
  {
   "cell_type": "code",
   "execution_count": 107,
   "id": "d8296448",
   "metadata": {},
   "outputs": [],
   "source": [
    "#catb"
   ]
  },
  {
   "cell_type": "code",
   "execution_count": 108,
   "id": "80220071",
   "metadata": {},
   "outputs": [],
   "source": [
    "#conb"
   ]
  },
  {
   "cell_type": "code",
   "execution_count": 109,
   "id": "5fb3d2b2",
   "metadata": {},
   "outputs": [
    {
     "data": {
      "text/plain": [
       "Index(['LotFrontage', 'LotArea', 'YearBuilt', 'YearRemodAdd', 'MasVnrArea',\n",
       "       'BsmtFinSF1', 'BsmtUnfSF', 'TotalBsmtSF', '1stFlrSF', '2ndFlrSF',\n",
       "       'LowQualFinSF', 'GrLivArea', 'BsmtFullBath', 'FullBath', 'HalfBath',\n",
       "       'TotRmsAbvGrd', 'Fireplaces', 'GarageYrBlt', 'GarageCars', 'GarageArea',\n",
       "       'WoodDeckSF', 'OpenPorchSF', 'EnclosedPorch', 'MiscVal', 'YrSold'],\n",
       "      dtype='object')"
      ]
     },
     "execution_count": 109,
     "metadata": {},
     "output_type": "execute_result"
    }
   ],
   "source": [
    "testb[conb].columns"
   ]
  },
  {
   "cell_type": "code",
   "execution_count": 110,
   "id": "84a45190",
   "metadata": {},
   "outputs": [],
   "source": [
    "test1 = testb[['LotFrontage', 'LotArea', 'YearBuilt', 'YearRemodAdd', 'MasVnrArea',\n",
    "       'BsmtFinSF1', 'BsmtUnfSF', 'TotalBsmtSF', '1stFlrSF', '2ndFlrSF',\n",
    "       'LowQualFinSF', 'GrLivArea', 'BsmtFullBath', 'FullBath', 'HalfBath',\n",
    "       'TotRmsAbvGrd', 'Fireplaces', 'GarageYrBlt', 'GarageCars', 'GarageArea',\n",
    "       'WoodDeckSF', 'OpenPorchSF', 'EnclosedPorch', 'MiscVal', 'YrSold']]"
   ]
  },
  {
   "cell_type": "code",
   "execution_count": 111,
   "id": "8c22fac2",
   "metadata": {},
   "outputs": [
    {
     "data": {
      "text/plain": [
       "(1459, 25)"
      ]
     },
     "execution_count": 111,
     "metadata": {},
     "output_type": "execute_result"
    }
   ],
   "source": [
    "pd.DataFrame(ss.transform(test1),columns=test1.columns)\n",
    "XT1 = pd.DataFrame(ss.transform(test1),columns=test1.columns)\n",
    "XT1.shape"
   ]
  },
  {
   "cell_type": "code",
   "execution_count": 112,
   "id": "454f922f",
   "metadata": {},
   "outputs": [],
   "source": [
    "#pd.set_option('display.max_columns',None)\n",
    "#XT2"
   ]
  },
  {
   "cell_type": "code",
   "execution_count": 113,
   "id": "697d8583",
   "metadata": {},
   "outputs": [
    {
     "data": {
      "text/plain": [
       "(1459, 277)"
      ]
     },
     "execution_count": 113,
     "metadata": {},
     "output_type": "execute_result"
    }
   ],
   "source": [
    "XT2 = pd.get_dummies(testb[catb])\n",
    "XT2.shape"
   ]
  },
  {
   "cell_type": "code",
   "execution_count": 114,
   "id": "62623677",
   "metadata": {},
   "outputs": [],
   "source": [
    "Xtest_new = XT1.join(XT2)\n",
    "#Xtest_new"
   ]
  },
  {
   "cell_type": "code",
   "execution_count": 115,
   "id": "47c3d504",
   "metadata": {},
   "outputs": [],
   "source": [
    "e = ['RoofMatl_Metal','GarageQual_Ex','Exterior2nd_Other']"
   ]
  },
  {
   "cell_type": "code",
   "execution_count": 116,
   "id": "bb9b2007",
   "metadata": {},
   "outputs": [],
   "source": [
    "for i in e:\n",
    "    Xtest_new[i]=0"
   ]
  },
  {
   "cell_type": "code",
   "execution_count": 117,
   "id": "0d55370c",
   "metadata": {},
   "outputs": [
    {
     "data": {
      "text/plain": [
       "(1243, 136)"
      ]
     },
     "execution_count": 117,
     "metadata": {},
     "output_type": "execute_result"
    }
   ],
   "source": [
    "Xtest_final=Xtest_new[cols_to_keep]\n",
    "Xnew.shape"
   ]
  },
  {
   "cell_type": "code",
   "execution_count": 118,
   "id": "f5b8dd1c",
   "metadata": {},
   "outputs": [
    {
     "data": {
      "text/plain": [
       "(1459, 136)"
      ]
     },
     "execution_count": 118,
     "metadata": {},
     "output_type": "execute_result"
    }
   ],
   "source": [
    "Xtest_final.shape"
   ]
  },
  {
   "cell_type": "code",
   "execution_count": 119,
   "id": "84ebbe8f",
   "metadata": {},
   "outputs": [
    {
     "data": {
      "text/plain": [
       "array([[110296.39713279],\n",
       "       [162352.06022805],\n",
       "       [196462.64936386],\n",
       "       ...,\n",
       "       [177546.81374953],\n",
       "       [119146.55931873],\n",
       "       [215762.5839729 ]])"
      ]
     },
     "execution_count": 119,
     "metadata": {},
     "output_type": "execute_result"
    }
   ],
   "source": [
    "pred=model.predict(Xtest_final)\n",
    "pred"
   ]
  },
  {
   "cell_type": "code",
   "execution_count": 120,
   "id": "c49afc93",
   "metadata": {},
   "outputs": [],
   "source": [
    "T = test[[\"Id\"]]"
   ]
  },
  {
   "cell_type": "code",
   "execution_count": 121,
   "id": "6ec63aeb",
   "metadata": {},
   "outputs": [],
   "source": [
    "T['SalePrice']=pred"
   ]
  },
  {
   "cell_type": "code",
   "execution_count": 122,
   "id": "8e042eba",
   "metadata": {},
   "outputs": [
    {
     "data": {
      "text/html": [
       "<div>\n",
       "<style scoped>\n",
       "    .dataframe tbody tr th:only-of-type {\n",
       "        vertical-align: middle;\n",
       "    }\n",
       "\n",
       "    .dataframe tbody tr th {\n",
       "        vertical-align: top;\n",
       "    }\n",
       "\n",
       "    .dataframe thead th {\n",
       "        text-align: right;\n",
       "    }\n",
       "</style>\n",
       "<table border=\"1\" class=\"dataframe\">\n",
       "  <thead>\n",
       "    <tr style=\"text-align: right;\">\n",
       "      <th></th>\n",
       "      <th>Id</th>\n",
       "      <th>SalePrice</th>\n",
       "    </tr>\n",
       "  </thead>\n",
       "  <tbody>\n",
       "    <tr>\n",
       "      <th>0</th>\n",
       "      <td>1461</td>\n",
       "      <td>110296.397133</td>\n",
       "    </tr>\n",
       "    <tr>\n",
       "      <th>1</th>\n",
       "      <td>1462</td>\n",
       "      <td>162352.060228</td>\n",
       "    </tr>\n",
       "    <tr>\n",
       "      <th>2</th>\n",
       "      <td>1463</td>\n",
       "      <td>196462.649364</td>\n",
       "    </tr>\n",
       "    <tr>\n",
       "      <th>3</th>\n",
       "      <td>1464</td>\n",
       "      <td>202289.968695</td>\n",
       "    </tr>\n",
       "    <tr>\n",
       "      <th>4</th>\n",
       "      <td>1465</td>\n",
       "      <td>197342.965976</td>\n",
       "    </tr>\n",
       "  </tbody>\n",
       "</table>\n",
       "</div>"
      ],
      "text/plain": [
       "     Id      SalePrice\n",
       "0  1461  110296.397133\n",
       "1  1462  162352.060228\n",
       "2  1463  196462.649364\n",
       "3  1464  202289.968695\n",
       "4  1465  197342.965976"
      ]
     },
     "execution_count": 122,
     "metadata": {},
     "output_type": "execute_result"
    }
   ],
   "source": [
    "T.head(5)"
   ]
  },
  {
   "cell_type": "code",
   "execution_count": 124,
   "id": "2ccad582",
   "metadata": {},
   "outputs": [],
   "source": [
    "T.to_csv(\"Desktop/Project_Housing_submission.csv\")"
   ]
  },
  {
   "cell_type": "code",
   "execution_count": null,
   "id": "120dfba7",
   "metadata": {},
   "outputs": [],
   "source": []
  }
 ],
 "metadata": {
  "kernelspec": {
   "display_name": "Python 3",
   "language": "python",
   "name": "python3"
  },
  "language_info": {
   "codemirror_mode": {
    "name": "ipython",
    "version": 3
   },
   "file_extension": ".py",
   "mimetype": "text/x-python",
   "name": "python",
   "nbconvert_exporter": "python",
   "pygments_lexer": "ipython3",
   "version": "3.8.8"
  }
 },
 "nbformat": 4,
 "nbformat_minor": 5
}
